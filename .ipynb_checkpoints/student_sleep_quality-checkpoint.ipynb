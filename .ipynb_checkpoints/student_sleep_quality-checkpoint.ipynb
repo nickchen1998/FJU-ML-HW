{
 "cells": [
  {
   "cell_type": "markdown",
   "source": [
    "# 一、變數敘述統計＆資料前處理"
   ],
   "metadata": {
    "collapsed": false
   },
   "id": "fa91acbfdc174ae1"
  },
  {
   "cell_type": "markdown",
   "source": [
    "## (一)、變數敘述統計"
   ],
   "metadata": {
    "collapsed": false
   },
   "id": "5e797ef74ea5c68e"
  },
  {
   "cell_type": "code",
   "execution_count": 4,
   "outputs": [
    {
     "data": {
      "text/plain": "       Student_ID        Age  Sleep_Duration  Study_Hours  Screen_Time  \\\ncount  500.000000  500.00000      500.000000   500.000000   500.000000   \nmean   250.500000   21.53600        6.472400     5.981600     2.525000   \nstd    144.481833    2.33315        1.485764     3.475725     0.859414   \nmin      1.000000   18.00000        4.000000     0.100000     1.000000   \n25%    125.750000   20.00000        5.100000     2.900000     1.800000   \n50%    250.500000   21.00000        6.500000     6.050000     2.600000   \n75%    375.250000   24.00000        7.800000     8.800000     3.300000   \nmax    500.000000   25.00000        9.000000    12.000000     4.000000   \n\n       Caffeine_Intake  Physical_Activity  Sleep_Quality  Weekday_Sleep_Start  \\\ncount       500.000000         500.000000     500.000000           500.000000   \nmean          2.462000          62.342000       5.362000            11.166860   \nstd           1.682325          35.191674       2.967249             5.972352   \nmin           0.000000           0.000000       1.000000             1.080000   \n25%           1.000000          32.750000       3.000000             6.087500   \n50%           2.000000          62.500000       5.000000            10.635000   \n75%           4.000000          93.250000       8.000000            16.152500   \nmax           5.000000         120.000000      10.000000            21.930000   \n\n       Weekend_Sleep_Start  Weekday_Sleep_End  Weekend_Sleep_End  \ncount           500.000000         500.000000         500.000000  \nmean             12.375860           6.929900           8.988100  \nstd               5.789611           1.183174           1.111253  \nmin               2.050000           5.000000           7.020000  \n25%               7.297500           5.900000           8.047500  \n50%              12.690000           6.885000           9.005000  \n75%              17.327500           7.972500           9.925000  \nmax              22.000000           8.980000          10.990000  ",
      "text/html": "<div>\n<style scoped>\n    .dataframe tbody tr th:only-of-type {\n        vertical-align: middle;\n    }\n\n    .dataframe tbody tr th {\n        vertical-align: top;\n    }\n\n    .dataframe thead th {\n        text-align: right;\n    }\n</style>\n<table border=\"1\" class=\"dataframe\">\n  <thead>\n    <tr style=\"text-align: right;\">\n      <th></th>\n      <th>Student_ID</th>\n      <th>Age</th>\n      <th>Sleep_Duration</th>\n      <th>Study_Hours</th>\n      <th>Screen_Time</th>\n      <th>Caffeine_Intake</th>\n      <th>Physical_Activity</th>\n      <th>Sleep_Quality</th>\n      <th>Weekday_Sleep_Start</th>\n      <th>Weekend_Sleep_Start</th>\n      <th>Weekday_Sleep_End</th>\n      <th>Weekend_Sleep_End</th>\n    </tr>\n  </thead>\n  <tbody>\n    <tr>\n      <th>count</th>\n      <td>500.000000</td>\n      <td>500.00000</td>\n      <td>500.000000</td>\n      <td>500.000000</td>\n      <td>500.000000</td>\n      <td>500.000000</td>\n      <td>500.000000</td>\n      <td>500.000000</td>\n      <td>500.000000</td>\n      <td>500.000000</td>\n      <td>500.000000</td>\n      <td>500.000000</td>\n    </tr>\n    <tr>\n      <th>mean</th>\n      <td>250.500000</td>\n      <td>21.53600</td>\n      <td>6.472400</td>\n      <td>5.981600</td>\n      <td>2.525000</td>\n      <td>2.462000</td>\n      <td>62.342000</td>\n      <td>5.362000</td>\n      <td>11.166860</td>\n      <td>12.375860</td>\n      <td>6.929900</td>\n      <td>8.988100</td>\n    </tr>\n    <tr>\n      <th>std</th>\n      <td>144.481833</td>\n      <td>2.33315</td>\n      <td>1.485764</td>\n      <td>3.475725</td>\n      <td>0.859414</td>\n      <td>1.682325</td>\n      <td>35.191674</td>\n      <td>2.967249</td>\n      <td>5.972352</td>\n      <td>5.789611</td>\n      <td>1.183174</td>\n      <td>1.111253</td>\n    </tr>\n    <tr>\n      <th>min</th>\n      <td>1.000000</td>\n      <td>18.00000</td>\n      <td>4.000000</td>\n      <td>0.100000</td>\n      <td>1.000000</td>\n      <td>0.000000</td>\n      <td>0.000000</td>\n      <td>1.000000</td>\n      <td>1.080000</td>\n      <td>2.050000</td>\n      <td>5.000000</td>\n      <td>7.020000</td>\n    </tr>\n    <tr>\n      <th>25%</th>\n      <td>125.750000</td>\n      <td>20.00000</td>\n      <td>5.100000</td>\n      <td>2.900000</td>\n      <td>1.800000</td>\n      <td>1.000000</td>\n      <td>32.750000</td>\n      <td>3.000000</td>\n      <td>6.087500</td>\n      <td>7.297500</td>\n      <td>5.900000</td>\n      <td>8.047500</td>\n    </tr>\n    <tr>\n      <th>50%</th>\n      <td>250.500000</td>\n      <td>21.00000</td>\n      <td>6.500000</td>\n      <td>6.050000</td>\n      <td>2.600000</td>\n      <td>2.000000</td>\n      <td>62.500000</td>\n      <td>5.000000</td>\n      <td>10.635000</td>\n      <td>12.690000</td>\n      <td>6.885000</td>\n      <td>9.005000</td>\n    </tr>\n    <tr>\n      <th>75%</th>\n      <td>375.250000</td>\n      <td>24.00000</td>\n      <td>7.800000</td>\n      <td>8.800000</td>\n      <td>3.300000</td>\n      <td>4.000000</td>\n      <td>93.250000</td>\n      <td>8.000000</td>\n      <td>16.152500</td>\n      <td>17.327500</td>\n      <td>7.972500</td>\n      <td>9.925000</td>\n    </tr>\n    <tr>\n      <th>max</th>\n      <td>500.000000</td>\n      <td>25.00000</td>\n      <td>9.000000</td>\n      <td>12.000000</td>\n      <td>4.000000</td>\n      <td>5.000000</td>\n      <td>120.000000</td>\n      <td>10.000000</td>\n      <td>21.930000</td>\n      <td>22.000000</td>\n      <td>8.980000</td>\n      <td>10.990000</td>\n    </tr>\n  </tbody>\n</table>\n</div>"
     },
     "execution_count": 4,
     "metadata": {},
     "output_type": "execute_result"
    }
   ],
   "source": [
    "# 針對連續性變數做敘述統計\n",
    "import pandas as pd\n",
    "\n",
    "df = pd.read_csv(\"./student_sleep_patterns.csv\")\n",
    "df.describe()"
   ],
   "metadata": {
    "collapsed": false,
    "ExecuteTime": {
     "start_time": "2024-12-14T01:27:15.141176Z"
    }
   },
   "id": "initial_id"
  },
  {
   "cell_type": "code",
   "execution_count": 14,
   "outputs": [
    {
     "data": {
      "text/plain": "          Variable       Definition  \\\n0           Gender           Gender   \n1  University_Year  University_Year   \n\n                                                         Code Data type  \n0                          Male: 186, Female: 166, Other: 148  category  \n1  3rd Year: 132, 2nd Year: 131, 1st Year: 125, 4th Year: 112  category  ",
      "text/html": "<div>\n<style scoped>\n    .dataframe tbody tr th:only-of-type {\n        vertical-align: middle;\n    }\n\n    .dataframe tbody tr th {\n        vertical-align: top;\n    }\n\n    .dataframe thead th {\n        text-align: right;\n    }\n</style>\n<table border=\"1\" class=\"dataframe\">\n  <thead>\n    <tr style=\"text-align: right;\">\n      <th></th>\n      <th>Variable</th>\n      <th>Definition</th>\n      <th>Code</th>\n      <th>Data type</th>\n    </tr>\n  </thead>\n  <tbody>\n    <tr>\n      <th>0</th>\n      <td>Gender</td>\n      <td>Gender</td>\n      <td>Male: 186, Female: 166, Other: 148</td>\n      <td>category</td>\n    </tr>\n    <tr>\n      <th>1</th>\n      <td>University_Year</td>\n      <td>University_Year</td>\n      <td>3rd Year: 132, 2nd Year: 131, 1st Year: 125, 4th Year: 112</td>\n      <td>category</td>\n    </tr>\n  </tbody>\n</table>\n</div>"
     },
     "execution_count": 14,
     "metadata": {},
     "output_type": "execute_result"
    }
   ],
   "source": [
    "# 針對類別型變數做敘述統計\n",
    "import pandas as pd\n",
    "\n",
    "pd.set_option('display.max_colwidth', None)\n",
    "file_path = 'student_sleep_patterns.csv'\n",
    "df = pd.read_csv(file_path)\n",
    "\n",
    "for col in df.select_dtypes(include=['object']).columns:\n",
    "    df[col] = df[col].astype('category')\n",
    "\n",
    "def generate_code_description(column):\n",
    "    return \", \".join([f\"{val}: {count}\" for val, count in df[column].value_counts().items()])\n",
    "\n",
    "category_columns = df.select_dtypes(include=['category']).columns\n",
    "summary = pd.DataFrame({\n",
    "    \"Variable\": category_columns,\n",
    "    \"Definition\": category_columns,\n",
    "    \"Code\": [generate_code_description(col) for col in category_columns],\n",
    "    \"Data type\": [\"category\" for _ in category_columns]\n",
    "})\n",
    "summary"
   ],
   "metadata": {
    "collapsed": false,
    "ExecuteTime": {
     "end_time": "2024-12-14T01:40:03.326213Z",
     "start_time": "2024-12-14T01:40:03.313503Z"
    }
   },
   "id": "b4b6a8c945c6014a"
  },
  {
   "cell_type": "code",
   "execution_count": null,
   "outputs": [],
   "source": [
    "## (二)、資料前處理"
   ],
   "metadata": {
    "collapsed": false
   },
   "id": "ddd8762a8b0067de"
  },
  {
   "metadata": {
    "ExecuteTime": {
     "end_time": "2024-12-03T10:47:22.581252Z",
     "start_time": "2024-12-03T10:47:22.578766Z"
    }
   },
   "cell_type": "code",
   "source": [
    "from scipy.stats import chi2_contingency\n",
    "from sklearn.feature_selection import mutual_info_classif\n",
    "def categorize_sleep_quality(sleep_quality):\n",
    "    if sleep_quality < 4:\n",
    "        return 'bad'\n",
    "    elif sleep_quality < 7:\n",
    "        return 'normal'\n",
    "    else:\n",
    "        return 'good'\n",
    "\n",
    "print(\"------Before categorization------\")\n",
    "print(df['Sleep_Quality'].value_counts())\n",
    "\n",
    "df['Sleep_Quality'] = df['Sleep_Quality'].apply(categorize_sleep_quality)\n",
    "\n",
    "print(\"------After categorization------\")\n",
    "print(df['Sleep_Quality'].value_counts())\n"
   ],
   "id": "5a31f0d7dd00019f",
   "outputs": [
    {
     "name": "stdout",
     "output_type": "stream",
     "text": [
      "------Before categorization------\n",
      "Sleep_Quality\n",
      "1     66\n",
      "6     57\n",
      "9     55\n",
      "3     54\n",
      "10    50\n",
      "2     46\n",
      "4     46\n",
      "7     45\n",
      "5     41\n",
      "8     40\n",
      "Name: count, dtype: int64\n",
      "------After categorization------\n",
      "Sleep_Quality\n",
      "good      190\n",
      "bad       166\n",
      "normal    144\n",
      "Name: count, dtype: int64\n"
     ]
    }
   ],
   "execution_count": 137
  },
  {
   "metadata": {
    "ExecuteTime": {
     "end_time": "2024-12-03T10:47:23.064488Z",
     "start_time": "2024-12-03T10:47:23.059596Z"
    }
   },
   "cell_type": "code",
   "source": [
    "# 設定目標變數\n",
    "target_var = 'Sleep_Quality'\n",
    "\n",
    "# 初始化結果表格\n",
    "results = []\n",
    "\n",
    "# 對每個特徵進行卡方檢定（僅限於類別型變數）\n",
    "for col in df.columns:\n",
    "    if col != target_var and df[col].dtype == 'object':  # 排除目標變數和非類別型變數\n",
    "        # 建立列聯表\n",
    "        contingency_table = pd.crosstab(df[col], df[target_var])\n",
    "        \n",
    "        # 執行卡方檢定\n",
    "        chi2, p, dof, _ = chi2_contingency(contingency_table)\n",
    "        \n",
    "        # 收集檢定結果\n",
    "        results.append({\n",
    "            'Feature': col,\n",
    "            'Chi2 Statistic': chi2,\n",
    "            'p-value': round(p, 10),\n",
    "            'Degrees of Freedom': dof,\n",
    "            'Significant': p < 0.05  # 判斷是否顯著\n",
    "        })\n",
    "\n",
    "# 將結果轉換為 DataFrame\n",
    "chi2_results = pd.DataFrame(results)\n",
    "\n",
    "# 按照 p-value 排序\n",
    "chi2_results = chi2_results.sort_values(by='p-value', ascending=True)\n",
    "\n",
    "# 印出結果\n",
    "print(chi2_results)"
   ],
   "id": "c07ff2529439b470",
   "outputs": [
    {
     "name": "stdout",
     "output_type": "stream",
     "text": [
      "           Feature  Chi2 Statistic   p-value  Degrees of Freedom  Significant\n",
      "0           Gender        4.188720  0.381067                   4        False\n",
      "1  University_Year        4.930028  0.552818                   6        False\n"
     ]
    }
   ],
   "execution_count": 138
  },
  {
   "metadata": {
    "ExecuteTime": {
     "end_time": "2024-12-03T10:47:23.541334Z",
     "start_time": "2024-12-03T10:47:23.519425Z"
    }
   },
   "cell_type": "code",
   "source": [
    "# 計算信息增益\n",
    "categorical_features = df.select_dtypes(include=[\"int64\", \"float64\"]).columns.tolist()\n",
    "target_var = 'Weight Change (lbs)'\n",
    "\n",
    "X = pd.get_dummies(df[categorical_features])  # 將類別型變數轉為數值型\n",
    "y = df[target_var]\n",
    "\n",
    "info_gain = mutual_info_classif(X, y, discrete_features=True)\n",
    "\n",
    "# 計算分裂信息\n",
    "def split_information(data, feature):\n",
    "    values = data[feature].value_counts(normalize=True)\n",
    "    return -np.sum(values * np.log2(values + 1e-9))  # 避免 log(0)\n",
    "\n",
    "split_info = [split_information(df, col) for col in categorical_features]\n",
    "\n",
    "# 計算 Gain Ratio\n",
    "gain_ratios = [ig / si if si != 0 else 0 for ig, si in zip(info_gain, split_info)]\n",
    "\n",
    "\n",
    "\n",
    "# 結果整理\n",
    "gain_ratio_df = pd.DataFrame({\n",
    "    'Feature': categorical_features,\n",
    "    'Gain Ratio': gain_ratios,\n",
    "    'var': df.select_dtypes(include=[\"int64\", \"float64\"]).var()\n",
    "}).sort_values(by='Gain Ratio', ascending=False)\n",
    "\n",
    "print(gain_ratio_df)"
   ],
   "id": "6bc950927f932741",
   "outputs": [
    {
     "ename": "KeyError",
     "evalue": "'Weight Change (lbs)'",
     "output_type": "error",
     "traceback": [
      "\u001B[0;31m---------------------------------------------------------------------------\u001B[0m",
      "\u001B[0;31mKeyError\u001B[0m                                  Traceback (most recent call last)",
      "File \u001B[0;32m~/Library/Caches/pypoetry/virtualenvs/fju-machine-learning-hw-2M5q7hGi-py3.11/lib/python3.11/site-packages/pandas/core/indexes/base.py:3805\u001B[0m, in \u001B[0;36mIndex.get_loc\u001B[0;34m(self, key)\u001B[0m\n\u001B[1;32m   3804\u001B[0m \u001B[38;5;28;01mtry\u001B[39;00m:\n\u001B[0;32m-> 3805\u001B[0m     \u001B[38;5;28;01mreturn\u001B[39;00m \u001B[38;5;28;43mself\u001B[39;49m\u001B[38;5;241;43m.\u001B[39;49m\u001B[43m_engine\u001B[49m\u001B[38;5;241;43m.\u001B[39;49m\u001B[43mget_loc\u001B[49m\u001B[43m(\u001B[49m\u001B[43mcasted_key\u001B[49m\u001B[43m)\u001B[49m\n\u001B[1;32m   3806\u001B[0m \u001B[38;5;28;01mexcept\u001B[39;00m \u001B[38;5;167;01mKeyError\u001B[39;00m \u001B[38;5;28;01mas\u001B[39;00m err:\n",
      "File \u001B[0;32mindex.pyx:167\u001B[0m, in \u001B[0;36mpandas._libs.index.IndexEngine.get_loc\u001B[0;34m()\u001B[0m\n",
      "File \u001B[0;32mindex.pyx:196\u001B[0m, in \u001B[0;36mpandas._libs.index.IndexEngine.get_loc\u001B[0;34m()\u001B[0m\n",
      "File \u001B[0;32mpandas/_libs/hashtable_class_helper.pxi:7081\u001B[0m, in \u001B[0;36mpandas._libs.hashtable.PyObjectHashTable.get_item\u001B[0;34m()\u001B[0m\n",
      "File \u001B[0;32mpandas/_libs/hashtable_class_helper.pxi:7089\u001B[0m, in \u001B[0;36mpandas._libs.hashtable.PyObjectHashTable.get_item\u001B[0;34m()\u001B[0m\n",
      "\u001B[0;31mKeyError\u001B[0m: 'Weight Change (lbs)'",
      "\nThe above exception was the direct cause of the following exception:\n",
      "\u001B[0;31mKeyError\u001B[0m                                  Traceback (most recent call last)",
      "Cell \u001B[0;32mIn[139], line 6\u001B[0m\n\u001B[1;32m      3\u001B[0m target_var \u001B[38;5;241m=\u001B[39m \u001B[38;5;124m'\u001B[39m\u001B[38;5;124mWeight Change (lbs)\u001B[39m\u001B[38;5;124m'\u001B[39m\n\u001B[1;32m      5\u001B[0m X \u001B[38;5;241m=\u001B[39m pd\u001B[38;5;241m.\u001B[39mget_dummies(df[categorical_features])  \u001B[38;5;66;03m# 將類別型變數轉為數值型\u001B[39;00m\n\u001B[0;32m----> 6\u001B[0m y \u001B[38;5;241m=\u001B[39m \u001B[43mdf\u001B[49m\u001B[43m[\u001B[49m\u001B[43mtarget_var\u001B[49m\u001B[43m]\u001B[49m\n\u001B[1;32m      8\u001B[0m info_gain \u001B[38;5;241m=\u001B[39m mutual_info_classif(X, y, discrete_features\u001B[38;5;241m=\u001B[39m\u001B[38;5;28;01mTrue\u001B[39;00m)\n\u001B[1;32m     10\u001B[0m \u001B[38;5;66;03m# 計算分裂信息\u001B[39;00m\n",
      "File \u001B[0;32m~/Library/Caches/pypoetry/virtualenvs/fju-machine-learning-hw-2M5q7hGi-py3.11/lib/python3.11/site-packages/pandas/core/frame.py:4102\u001B[0m, in \u001B[0;36mDataFrame.__getitem__\u001B[0;34m(self, key)\u001B[0m\n\u001B[1;32m   4100\u001B[0m \u001B[38;5;28;01mif\u001B[39;00m \u001B[38;5;28mself\u001B[39m\u001B[38;5;241m.\u001B[39mcolumns\u001B[38;5;241m.\u001B[39mnlevels \u001B[38;5;241m>\u001B[39m \u001B[38;5;241m1\u001B[39m:\n\u001B[1;32m   4101\u001B[0m     \u001B[38;5;28;01mreturn\u001B[39;00m \u001B[38;5;28mself\u001B[39m\u001B[38;5;241m.\u001B[39m_getitem_multilevel(key)\n\u001B[0;32m-> 4102\u001B[0m indexer \u001B[38;5;241m=\u001B[39m \u001B[38;5;28;43mself\u001B[39;49m\u001B[38;5;241;43m.\u001B[39;49m\u001B[43mcolumns\u001B[49m\u001B[38;5;241;43m.\u001B[39;49m\u001B[43mget_loc\u001B[49m\u001B[43m(\u001B[49m\u001B[43mkey\u001B[49m\u001B[43m)\u001B[49m\n\u001B[1;32m   4103\u001B[0m \u001B[38;5;28;01mif\u001B[39;00m is_integer(indexer):\n\u001B[1;32m   4104\u001B[0m     indexer \u001B[38;5;241m=\u001B[39m [indexer]\n",
      "File \u001B[0;32m~/Library/Caches/pypoetry/virtualenvs/fju-machine-learning-hw-2M5q7hGi-py3.11/lib/python3.11/site-packages/pandas/core/indexes/base.py:3812\u001B[0m, in \u001B[0;36mIndex.get_loc\u001B[0;34m(self, key)\u001B[0m\n\u001B[1;32m   3807\u001B[0m     \u001B[38;5;28;01mif\u001B[39;00m \u001B[38;5;28misinstance\u001B[39m(casted_key, \u001B[38;5;28mslice\u001B[39m) \u001B[38;5;129;01mor\u001B[39;00m (\n\u001B[1;32m   3808\u001B[0m         \u001B[38;5;28misinstance\u001B[39m(casted_key, abc\u001B[38;5;241m.\u001B[39mIterable)\n\u001B[1;32m   3809\u001B[0m         \u001B[38;5;129;01mand\u001B[39;00m \u001B[38;5;28many\u001B[39m(\u001B[38;5;28misinstance\u001B[39m(x, \u001B[38;5;28mslice\u001B[39m) \u001B[38;5;28;01mfor\u001B[39;00m x \u001B[38;5;129;01min\u001B[39;00m casted_key)\n\u001B[1;32m   3810\u001B[0m     ):\n\u001B[1;32m   3811\u001B[0m         \u001B[38;5;28;01mraise\u001B[39;00m InvalidIndexError(key)\n\u001B[0;32m-> 3812\u001B[0m     \u001B[38;5;28;01mraise\u001B[39;00m \u001B[38;5;167;01mKeyError\u001B[39;00m(key) \u001B[38;5;28;01mfrom\u001B[39;00m \u001B[38;5;21;01merr\u001B[39;00m\n\u001B[1;32m   3813\u001B[0m \u001B[38;5;28;01mexcept\u001B[39;00m \u001B[38;5;167;01mTypeError\u001B[39;00m:\n\u001B[1;32m   3814\u001B[0m     \u001B[38;5;66;03m# If we have a listlike key, _check_indexing_error will raise\u001B[39;00m\n\u001B[1;32m   3815\u001B[0m     \u001B[38;5;66;03m#  InvalidIndexError. Otherwise we fall through and re-raise\u001B[39;00m\n\u001B[1;32m   3816\u001B[0m     \u001B[38;5;66;03m#  the TypeError.\u001B[39;00m\n\u001B[1;32m   3817\u001B[0m     \u001B[38;5;28mself\u001B[39m\u001B[38;5;241m.\u001B[39m_check_indexing_error(key)\n",
      "\u001B[0;31mKeyError\u001B[0m: 'Weight Change (lbs)'"
     ]
    }
   ],
   "execution_count": 139
  },
  {
   "metadata": {
    "ExecuteTime": {
     "end_time": "2024-12-03T10:47:24.633029Z",
     "start_time": "2024-12-03T10:47:24.627745Z"
    }
   },
   "cell_type": "code",
   "outputs": [],
   "execution_count": 140,
   "source": [
    "# Basic packages always been used\n",
    "import numpy as np\n",
    "import matplotlib.pyplot as plt\n",
    "\n",
    "from sklearn.model_selection import train_test_split\n",
    "\n",
    "# Algorithm\n",
    "from sklearn import tree\n",
    "from sklearn.tree import DecisionTreeClassifier\n",
    "\n",
    "# Functions for evaluation\n",
    "from sklearn.model_selection import cross_val_score\n",
    "from sklearn.metrics import accuracy_score\n",
    "from sklearn.metrics import f1_score\n",
    "from sklearn.metrics import precision_score\n",
    "from sklearn.metrics import recall_score\n",
    "from sklearn.metrics import confusion_matrix\n",
    "from sklearn.metrics import ConfusionMatrixDisplay\n",
    "from sklearn.metrics import roc_auc_score,roc_curve,auc\n",
    "from sklearn.metrics import RocCurveDisplay"
   ],
   "id": "cd5c1e50976754a3"
  },
  {
   "cell_type": "code",
   "execution_count": 141,
   "outputs": [
    {
     "name": "stdout",
     "output_type": "stream",
     "text": [
      "Gender\n",
      "Male      186\n",
      "Female    166\n",
      "Other     148\n",
      "Name: count, dtype: int64\n",
      "University_Year\n",
      "3rd Year    132\n",
      "2nd Year    131\n",
      "1st Year    125\n",
      "4th Year    112\n",
      "Name: count, dtype: int64\n",
      "Sleep_Quality\n",
      "good      190\n",
      "bad       166\n",
      "normal    144\n",
      "Name: count, dtype: int64\n"
     ]
    }
   ],
   "source": [
    "for col in df.select_dtypes(include=[\"object\"]).columns.tolist():\n",
    "    print(df[col].value_counts())"
   ],
   "metadata": {
    "collapsed": false,
    "ExecuteTime": {
     "end_time": "2024-12-03T10:47:25.546862Z",
     "start_time": "2024-12-03T10:47:25.542426Z"
    }
   },
   "id": "ca9a1bf73af0b6c4"
  },
  {
   "cell_type": "code",
   "execution_count": 142,
   "outputs": [
    {
     "data": {
      "text/plain": "   Student_ID  Age  Sleep_Duration  Study_Hours  Screen_Time  Caffeine_Intake  \\\n0           1   24             7.7          7.9          3.4                2   \n1           2   21             6.3          6.0          1.9                5   \n2           3   22             5.1          6.7          3.9                5   \n3           4   24             6.3          8.6          2.8                4   \n4           5   20             4.7          2.7          2.7                0   \n\n   Physical_Activity  Weekday_Sleep_Start  Weekend_Sleep_Start  \\\n0                 37                14.16                 4.05   \n1                 74                 8.73                 7.10   \n2                 53                20.00                20.47   \n3                 55                19.82                 4.08   \n4                 85                20.98                 6.12   \n\n   Weekday_Sleep_End  ...  Gender_0  Gender_1  Gender_2  University_Year_0  \\\n0               7.41  ...         0         0         1                  0   \n1               8.21  ...         1         0         0                  1   \n2               6.88  ...         1         0         0                  0   \n3               6.69  ...         0         0         1                  0   \n4               8.98  ...         1         0         0                  0   \n\n   University_Year_1  University_Year_2  University_Year_3  Sleep_Quality_0  \\\n0                  1                  0                  0                0   \n1                  0                  0                  0                1   \n2                  0                  0                  1                0   \n3                  0                  0                  1                0   \n4                  0                  0                  1                1   \n\n   Sleep_Quality_1  Sleep_Quality_2  \n0                0                1  \n1                0                0  \n2                1                0  \n3                0                1  \n4                0                0  \n\n[5 rows x 21 columns]",
      "text/html": "<div>\n<style scoped>\n    .dataframe tbody tr th:only-of-type {\n        vertical-align: middle;\n    }\n\n    .dataframe tbody tr th {\n        vertical-align: top;\n    }\n\n    .dataframe thead th {\n        text-align: right;\n    }\n</style>\n<table border=\"1\" class=\"dataframe\">\n  <thead>\n    <tr style=\"text-align: right;\">\n      <th></th>\n      <th>Student_ID</th>\n      <th>Age</th>\n      <th>Sleep_Duration</th>\n      <th>Study_Hours</th>\n      <th>Screen_Time</th>\n      <th>Caffeine_Intake</th>\n      <th>Physical_Activity</th>\n      <th>Weekday_Sleep_Start</th>\n      <th>Weekend_Sleep_Start</th>\n      <th>Weekday_Sleep_End</th>\n      <th>...</th>\n      <th>Gender_0</th>\n      <th>Gender_1</th>\n      <th>Gender_2</th>\n      <th>University_Year_0</th>\n      <th>University_Year_1</th>\n      <th>University_Year_2</th>\n      <th>University_Year_3</th>\n      <th>Sleep_Quality_0</th>\n      <th>Sleep_Quality_1</th>\n      <th>Sleep_Quality_2</th>\n    </tr>\n  </thead>\n  <tbody>\n    <tr>\n      <th>0</th>\n      <td>1</td>\n      <td>24</td>\n      <td>7.7</td>\n      <td>7.9</td>\n      <td>3.4</td>\n      <td>2</td>\n      <td>37</td>\n      <td>14.16</td>\n      <td>4.05</td>\n      <td>7.41</td>\n      <td>...</td>\n      <td>0</td>\n      <td>0</td>\n      <td>1</td>\n      <td>0</td>\n      <td>1</td>\n      <td>0</td>\n      <td>0</td>\n      <td>0</td>\n      <td>0</td>\n      <td>1</td>\n    </tr>\n    <tr>\n      <th>1</th>\n      <td>2</td>\n      <td>21</td>\n      <td>6.3</td>\n      <td>6.0</td>\n      <td>1.9</td>\n      <td>5</td>\n      <td>74</td>\n      <td>8.73</td>\n      <td>7.10</td>\n      <td>8.21</td>\n      <td>...</td>\n      <td>1</td>\n      <td>0</td>\n      <td>0</td>\n      <td>1</td>\n      <td>0</td>\n      <td>0</td>\n      <td>0</td>\n      <td>1</td>\n      <td>0</td>\n      <td>0</td>\n    </tr>\n    <tr>\n      <th>2</th>\n      <td>3</td>\n      <td>22</td>\n      <td>5.1</td>\n      <td>6.7</td>\n      <td>3.9</td>\n      <td>5</td>\n      <td>53</td>\n      <td>20.00</td>\n      <td>20.47</td>\n      <td>6.88</td>\n      <td>...</td>\n      <td>1</td>\n      <td>0</td>\n      <td>0</td>\n      <td>0</td>\n      <td>0</td>\n      <td>0</td>\n      <td>1</td>\n      <td>0</td>\n      <td>1</td>\n      <td>0</td>\n    </tr>\n    <tr>\n      <th>3</th>\n      <td>4</td>\n      <td>24</td>\n      <td>6.3</td>\n      <td>8.6</td>\n      <td>2.8</td>\n      <td>4</td>\n      <td>55</td>\n      <td>19.82</td>\n      <td>4.08</td>\n      <td>6.69</td>\n      <td>...</td>\n      <td>0</td>\n      <td>0</td>\n      <td>1</td>\n      <td>0</td>\n      <td>0</td>\n      <td>0</td>\n      <td>1</td>\n      <td>0</td>\n      <td>0</td>\n      <td>1</td>\n    </tr>\n    <tr>\n      <th>4</th>\n      <td>5</td>\n      <td>20</td>\n      <td>4.7</td>\n      <td>2.7</td>\n      <td>2.7</td>\n      <td>0</td>\n      <td>85</td>\n      <td>20.98</td>\n      <td>6.12</td>\n      <td>8.98</td>\n      <td>...</td>\n      <td>1</td>\n      <td>0</td>\n      <td>0</td>\n      <td>0</td>\n      <td>0</td>\n      <td>0</td>\n      <td>1</td>\n      <td>1</td>\n      <td>0</td>\n      <td>0</td>\n    </tr>\n  </tbody>\n</table>\n<p>5 rows × 21 columns</p>\n</div>"
     },
     "execution_count": 142,
     "metadata": {},
     "output_type": "execute_result"
    }
   ],
   "source": [
    "mapping_university_year = {\"1st Year\": 0, \"2nd Year\": 1, \"3rd Year\": 2, \"4th Year\": 3}\n",
    "mapping_gender = {\"Male\": 0, \"Female\": 1, \"Other\": 2}\n",
    "mapping_sleep_quality = {\"bad\": 0, \"normal\": 1, \"good\": 2}\n",
    "\n",
    "df[\"Gender\"] = df[\"Gender\"].map(mapping_gender)\n",
    "df[\"University_Year\"] = df[\"University_Year\"].map(mapping_university_year)\n",
    "df[\"Sleep_Quality\"] = df[\"Sleep_Quality\"].map(mapping_sleep_quality)\n",
    "df.drop(columns=[\"Student_ID\"])\n",
    "\n",
    "dummy_df = pd.get_dummies(df, columns=[\"Gender\", \"University_Year\", \"Sleep_Quality\"], dtype=int).copy()\n",
    "dummy_df.head()"
   ],
   "metadata": {
    "collapsed": false,
    "ExecuteTime": {
     "end_time": "2024-12-03T10:47:26.269353Z",
     "start_time": "2024-12-03T10:47:26.257365Z"
    }
   },
   "id": "91b875dbdb3e2463"
  },
  {
   "cell_type": "code",
   "execution_count": 143,
   "outputs": [],
   "source": [
    "new_df = dummy_df.copy()\n",
    "new_df.head()\n",
    "\n",
    "y = new_df[[\"Sleep_Quality_0\"]].copy()\n",
    "x=new_df.drop(\n",
    "    [\"Sleep_Quality_0\", \"Sleep_Quality_1\", \"Sleep_Quality_2\"],\n",
    "    axis=1\n",
    ").copy()"
   ],
   "metadata": {
    "collapsed": false,
    "ExecuteTime": {
     "end_time": "2024-12-03T10:47:58.669020Z",
     "start_time": "2024-12-03T10:47:58.656458Z"
    }
   },
   "id": "3af2b56b6651c9b"
  },
  {
   "cell_type": "code",
   "execution_count": 144,
   "outputs": [
    {
     "name": "stdout",
     "output_type": "stream",
     "text": [
      "Random State 3 Accuracy Matrix:\n",
      "[[71.25 71.25 71.25 71.25 71.25 71.25 71.25 71.25 71.25]\n",
      " [71.25 71.25 68.75 68.75 68.75 68.75 68.75 68.75 68.75]\n",
      " [71.25 71.25 70.   67.5  68.75 66.25 66.25 66.25 66.25]\n",
      " [71.25 71.25 70.   70.   67.5  68.75 66.25 66.25 67.5 ]\n",
      " [71.25 71.25 70.   70.   66.25 63.75 65.   62.5  62.5 ]\n",
      " [71.25 71.25 70.   70.   66.25 66.25 63.75 65.   62.5 ]\n",
      " [71.25 71.25 70.   70.   66.25 66.25 65.   62.5  63.75]\n",
      " [71.25 71.25 70.   70.   66.25 66.25 65.   62.5  63.75]\n",
      " [71.25 71.25 70.   70.   66.25 66.25 65.   62.5  63.75]\n",
      " [71.25 71.25 70.   70.   66.25 66.25 65.   62.5  63.75]]\n",
      "\n",
      "Random State 30 Accuracy Matrix:\n",
      "[[75.   75.   75.   75.   75.   75.   75.   75.   75.  ]\n",
      " [75.   75.   75.   75.   75.   75.   75.   75.   75.  ]\n",
      " [75.   75.   75.   55.   56.25 56.25 56.25 56.25 56.25]\n",
      " [75.   75.   75.   55.   56.25 70.   70.   70.   70.  ]\n",
      " [75.   75.   75.   55.   56.25 70.   67.5  67.5  67.5 ]\n",
      " [75.   75.   75.   55.   56.25 70.   67.5  60.   60.  ]\n",
      " [75.   75.   75.   55.   56.25 70.   67.5  60.   60.  ]\n",
      " [75.   75.   75.   55.   56.25 70.   67.5  60.   60.  ]\n",
      " [75.   75.   75.   55.   56.25 70.   67.5  60.   60.  ]\n",
      " [75.   75.   75.   55.   56.25 70.   67.5  60.   60.  ]]\n",
      "Random State 300 Accuracy Matrix:\n",
      "[[63.75 63.75 63.75 63.75 63.75 63.75 63.75 63.75 63.75]\n",
      " [63.75 63.75 63.75 63.75 63.75 63.75 63.75 63.75 63.75]\n",
      " [63.75 63.75 61.25 58.75 58.75 65.   65.   65.   65.  ]\n",
      " [63.75 63.75 61.25 61.25 58.75 58.75 61.25 61.25 61.25]\n",
      " [63.75 63.75 61.25 61.25 58.75 58.75 61.25 61.25 63.75]\n",
      " [63.75 63.75 61.25 61.25 58.75 58.75 61.25 61.25 63.75]\n",
      " [63.75 63.75 61.25 61.25 58.75 58.75 61.25 61.25 63.75]\n",
      " [63.75 63.75 61.25 61.25 58.75 58.75 61.25 61.25 63.75]\n",
      " [63.75 63.75 61.25 61.25 58.75 58.75 61.25 61.25 63.75]\n",
      " [63.75 63.75 61.25 61.25 58.75 58.75 61.25 61.25 63.75]]\n",
      "\n",
      "Averaged Accuracy Matrix:\n",
      "[[70.   70.   70.   70.   70.   70.   70.   70.   70.  ]\n",
      " [70.   70.   69.17 69.17 69.17 69.17 69.17 69.17 69.17]\n",
      " [70.   70.   68.75 60.42 61.25 62.5  62.5  62.5  62.5 ]\n",
      " [70.   70.   68.75 62.08 60.83 65.83 65.83 65.83 66.25]\n",
      " [70.   70.   68.75 62.08 60.42 64.17 64.58 63.75 64.58]\n",
      " [70.   70.   68.75 62.08 60.42 65.   64.17 62.08 62.08]\n",
      " [70.   70.   68.75 62.08 60.42 65.   64.58 61.25 62.5 ]\n",
      " [70.   70.   68.75 62.08 60.42 65.   64.58 61.25 62.5 ]\n",
      " [70.   70.   68.75 62.08 60.42 65.   64.58 61.25 62.5 ]\n",
      " [70.   70.   68.75 62.08 60.42 65.   64.58 61.25 62.5 ]]\n",
      "\n",
      "Best Parameters Across All Random States:\n",
      "  Average Best max_depth: 1\n",
      "  Average Best max_leaf_nodes: 2\n",
      "  Average Best Accuracy: 70.0%\n"
     ]
    }
   ],
   "source": [
    "max_depth_range = range(1, 11)  # max_depth 從 1 到 10\n",
    "max_leaf_nodes_range = range(2, 11)  # max_leaf_nodes 從 2 到 10\n",
    "\n",
    "# 分割數據 (80% training, 20% testing)\n",
    "x_train, x_test, y_train, y_test = train_test_split(\n",
    "    x, y, test_size=0.2, random_state=3\n",
    ")\n",
    "\n",
    "# 儲存各個 random_state 的結果\n",
    "matrices = []  # 存放每個 random_state 的準確度矩陣\n",
    "\n",
    "# 測試不同的 random_state\n",
    "for random_state in [3, 30, 300]:\n",
    "    x_train_tuning, x_valid, y_train_tuning, y_valid = train_test_split(\n",
    "        x_train, y_train, test_size=0.2, random_state=random_state\n",
    "    )\n",
    "\n",
    "    # 建立一個空矩陣來存放準確度\n",
    "    acc_matrix = np.zeros((len(max_depth_range), len(max_leaf_nodes_range)))\n",
    "\n",
    "    for i, max_depth in enumerate(max_depth_range):\n",
    "        for j, max_leaf_nodes in enumerate(max_leaf_nodes_range):\n",
    "            # 初始化並訓練決策樹模型\n",
    "            model_cart = DecisionTreeClassifier(\n",
    "                criterion='gini',\n",
    "                max_depth=max_depth,\n",
    "                max_leaf_nodes=max_leaf_nodes,\n",
    "                min_samples_leaf=1,\n",
    "                random_state=4  # 固定隨機狀態以確保每次結果一致\n",
    "            )\n",
    "            model_cart.fit(x_train_tuning, y_train_tuning)  # 訓練模型\n",
    "\n",
    "            # 預測並計算驗證準確度\n",
    "            prediction = model_cart.predict(x_valid)\n",
    "            valid_acc = accuracy_score(y_valid, prediction)\n",
    "            acc_matrix[i, j] = valid_acc * 100  # 將準確度轉為百分比格式\n",
    "\n",
    "    matrices.append(acc_matrix)\n",
    "\n",
    "    # 印出當前 random_state 的準確度矩陣\n",
    "    print(f\"Random State {random_state} Accuracy Matrix:\")\n",
    "    print(np.round(acc_matrix, 2))\n",
    "    print()\n",
    "\n",
    "# 計算平均矩陣\n",
    "average_matrix = np.mean(matrices, axis=0)\n",
    "\n",
    "# 找出平均矩陣的最佳值與其索引\n",
    "max_avg_acc = average_matrix.max()\n",
    "max_avg_idx = np.unravel_index(average_matrix.argmax(), average_matrix.shape)\n",
    "best_avg_depth = max_depth_range[max_avg_idx[0]]\n",
    "best_avg_leaf_nodes = max_leaf_nodes_range[max_avg_idx[1]]\n",
    "\n",
    "# 印出平均矩陣與最佳參數\n",
    "print(\"Averaged Accuracy Matrix:\")\n",
    "print(np.round(average_matrix, 2))\n",
    "print(f\"\\nBest Parameters Across All Random States:\")\n",
    "print(f\"  Average Best max_depth: {best_avg_depth}\")\n",
    "print(f\"  Average Best max_leaf_nodes: {best_avg_leaf_nodes}\")\n",
    "print(f\"  Average Best Accuracy: {round(max_avg_acc, 2)}%\")"
   ],
   "metadata": {
    "collapsed": false,
    "ExecuteTime": {
     "end_time": "2024-12-03T10:48:11.545111Z",
     "start_time": "2024-12-03T10:48:10.951761Z"
    }
   },
   "id": "44e42868bb497353"
  },
  {
   "cell_type": "code",
   "execution_count": 145,
   "outputs": [
    {
     "name": "stdout",
     "output_type": "stream",
     "text": [
      "Testing ACC: 64.0\n",
      "Testing f1s: 21.74\n",
      "Testing pre: 50.0\n",
      "Testing sen: 13.89\n",
      "Testing spe: 92.19\n"
     ]
    },
    {
     "data": {
      "text/plain": "<sklearn.metrics._plot.confusion_matrix.ConfusionMatrixDisplay at 0x13abc7c10>"
     },
     "execution_count": 145,
     "metadata": {},
     "output_type": "execute_result"
    },
    {
     "data": {
      "text/plain": "<Figure size 640x480 with 2 Axes>",
      "image/png": "[encoded data removed]"
     },
     "metadata": {},
     "output_type": "display_data"
    }
   ],
   "source": [
    "# 5.3 Evaluate with testing data set\n",
    "x_train, x_test, y_train, y_test = train_test_split(\n",
    "    x, y, test_size=0.2, random_state=3)\n",
    "\n",
    "# 建立決策數\n",
    "HHmodel=DecisionTreeClassifier(\n",
    "    criterion='gini',\n",
    "    max_depth=2,\n",
    "    max_leaf_nodes=3,\n",
    "    min_samples_leaf=1,\n",
    "    random_state=4\n",
    ")\n",
    "HHmodel.fit(x_train,y_train)\n",
    "final_model_testing_prediction=HHmodel.predict(x_test)\n",
    "final_model_testing_acc=accuracy_score(y_test,final_model_testing_prediction)\n",
    "final_model_testing_f1s=f1_score(y_test,final_model_testing_prediction,pos_label=1)\n",
    "final_model_testing_pre=precision_score(y_test,final_model_testing_prediction,pos_label=1)\n",
    "final_model_testing_sen=recall_score(y_test,final_model_testing_prediction,pos_label=1)\n",
    "final_model_testing_spe=recall_score(y_test,final_model_testing_prediction,pos_label=0)\n",
    "final_model_testing_cm=confusion_matrix(y_test,final_model_testing_prediction)\n",
    "\n",
    "#print result\n",
    "print('Testing ACC:',round(final_model_testing_acc*100,2))\n",
    "print('Testing f1s:',round(final_model_testing_f1s*100,2))\n",
    "print('Testing pre:',round(final_model_testing_pre*100,2))\n",
    "print('Testing sen:',round(final_model_testing_sen*100,2))\n",
    "print('Testing spe:',round(final_model_testing_spe*100,2))\n",
    "ConfusionMatrixDisplay(final_model_testing_cm,display_labels=[\"0 not survived\",\"1 survived\"]).plot()"
   ],
   "metadata": {
    "collapsed": false,
    "ExecuteTime": {
     "end_time": "2024-12-03T10:49:07.913363Z",
     "start_time": "2024-12-03T10:49:07.823526Z"
    }
   },
   "id": "e24fe7fd5e0dd506"
  },
  {
   "cell_type": "code",
   "execution_count": null,
   "outputs": [],
   "source": [],
   "metadata": {
    "collapsed": false
   },
   "id": "c3409dca428f232f"
  }
 ],
 "metadata": {
  "kernelspec": {
   "display_name": "Python 3",
   "language": "python",
   "name": "python3"
  },
  "language_info": {
   "codemirror_mode": {
    "name": "ipython",
    "version": 2
   },
   "file_extension": ".py",
   "mimetype": "text/x-python",
   "name": "python",
   "nbconvert_exporter": "python",
   "pygments_lexer": "ipython2",
   "version": "2.7.6"
  }
 },
 "nbformat": 4,
 "nbformat_minor": 5
}
