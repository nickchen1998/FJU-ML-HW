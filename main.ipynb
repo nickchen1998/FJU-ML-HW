{
 "cells": [
  {
   "cell_type": "markdown",
   "source": [
    "# 跑卡方檢定"
   ],
   "metadata": {
    "collapsed": false
   },
   "id": "eb325a335ba73f2f"
  },
  {
   "cell_type": "code",
   "execution_count": 1,
   "outputs": [],
   "source": [
    "# Basic packages always been used\n",
    "import pandas as pd\n",
    "import numpy as np\n",
    "import matplotlib.pyplot as plt\n",
    "\n",
    "# Data preprocessing useful function\n",
    "from sklearn.preprocessing import LabelEncoder\n",
    "\n",
    "# Data scaling\n",
    "# normalization\n",
    "from sklearn.preprocessing import MinMaxScaler\n",
    "# standardization\n",
    "from sklearn.preprocessing import StandardScaler\n",
    "\n",
    "# Function for spilting training & testing data set\n",
    "from sklearn.model_selection import train_test_split\n",
    "\n",
    "# Algorithm\n",
    "# SVM with linear function\n",
    "from sklearn.svm import SVC\n",
    "from sklearn.neighbors import KNeighborsClassifier\n",
    "\n",
    "# Functions for evaluation\n",
    "from sklearn.model_selection import cross_val_score\n",
    "from sklearn.metrics import accuracy_score\n",
    "from sklearn.metrics import f1_score\n",
    "from sklearn.metrics import precision_score\n",
    "from imblearn.metrics import sensitivity_score\n",
    "from imblearn.metrics import specificity_score\n",
    "from sklearn.metrics import confusion_matrix\n",
    "from sklearn.metrics import ConfusionMatrixDisplay\n",
    "from sklearn.metrics import roc_auc_score,roc_curve,auc\n",
    "from sklearn.metrics import RocCurveDisplay"
   ],
   "metadata": {
    "collapsed": false,
    "ExecuteTime": {
     "start_time": "2024-11-26T12:42:31.194576Z"
    }
   },
   "id": "initial_id"
  },
  {
   "cell_type": "code",
   "execution_count": null,
   "outputs": [],
   "source": [
    "df = pd.read_csv('/Users/nickchen/PycharmProjects/fju-machine_learning-hw/datasets.csv')"
   ],
   "metadata": {
    "collapsed": false
   },
   "id": "50c93e3bcae50dcc"
  },
  {
   "cell_type": "code",
   "execution_count": 4,
   "outputs": [
    {
     "name": "stdout",
     "output_type": "stream",
     "text": [
      "<class 'pandas.core.frame.DataFrame'>\n",
      "RangeIndex: 5000 entries, 0 to 4999\n",
      "Data columns (total 20 columns):\n",
      " #   Column                             Non-Null Count  Dtype \n",
      "---  ------                             --------------  ----- \n",
      " 0   Employee_ID                        5000 non-null   object\n",
      " 1   Age                                5000 non-null   int64 \n",
      " 2   Gender                             5000 non-null   object\n",
      " 3   Job_Role                           5000 non-null   object\n",
      " 4   Industry                           5000 non-null   object\n",
      " 5   Years_of_Experience                5000 non-null   int64 \n",
      " 6   Work_Location                      5000 non-null   object\n",
      " 7   Hours_Worked_Per_Week              5000 non-null   int64 \n",
      " 8   Number_of_Virtual_Meetings         5000 non-null   int64 \n",
      " 9   Work_Life_Balance_Rating           5000 non-null   int64 \n",
      " 10  Stress_Level                       5000 non-null   object\n",
      " 11  Mental_Health_Condition            3804 non-null   object\n",
      " 12  Access_to_Mental_Health_Resources  5000 non-null   object\n",
      " 13  Productivity_Change                5000 non-null   object\n",
      " 14  Social_Isolation_Rating            5000 non-null   int64 \n",
      " 15  Satisfaction_with_Remote_Work      5000 non-null   object\n",
      " 16  Company_Support_for_Remote_Work    5000 non-null   int64 \n",
      " 17  Physical_Activity                  3371 non-null   object\n",
      " 18  Sleep_Quality                      5000 non-null   object\n",
      " 19  Region                             5000 non-null   object\n",
      "dtypes: int64(7), object(13)\n",
      "memory usage: 781.4+ KB\n"
     ]
    }
   ],
   "source": [
    "df.info()"
   ],
   "metadata": {
    "collapsed": false,
    "ExecuteTime": {
     "end_time": "2024-11-26T12:56:05.560855Z",
     "start_time": "2024-11-26T12:56:05.557617Z"
    }
   },
   "id": "d864b2003cd6b31"
  },
  {
   "cell_type": "code",
   "execution_count": 3,
   "outputs": [
    {
     "name": "stdout",
     "output_type": "stream",
     "text": [
      "                               Column       Chi2   P-Value  Degrees of Freedom\n",
      "0                              Gender   3.197508  0.783680                   6\n",
      "1                            Job_Role  11.969297  0.448149                  12\n",
      "2                            Industry  10.082568  0.608717                  12\n",
      "3                       Work_Location   2.150243  0.708148                   4\n",
      "4            Work_Life_Balance_Rating   3.589455  0.892137                   8\n",
      "5                        Stress_Level   4.842976  0.303792                   4\n",
      "6             Mental_Health_Condition   9.842172  0.043172                   4\n",
      "7   Access_to_Mental_Health_Resources   6.272912  0.043436                   2\n",
      "8             Social_Isolation_Rating   7.867323  0.446537                   8\n",
      "9       Satisfaction_with_Remote_Work   4.436469  0.350147                   4\n",
      "10    Company_Support_for_Remote_Work   8.844177  0.355611                   8\n",
      "11                  Physical_Activity   2.385255  0.303423                   2\n",
      "12                      Sleep_Quality   9.962953  0.041056                   4\n",
      "13                             Region   6.357961  0.784346                  10\n"
     ]
    }
   ],
   "source": [
    "df\n",
    "columns_to_test = [col for col in df.columns if col not in ['Productivity_Change', 'Employee_ID']]\n",
    "\n",
    "chi2_results = []\n",
    "\n",
    "for col in columns_to_test:\n",
    "    if df[col].dtype == 'object' or df[col].nunique() < 10:  # 類別型或類別較少的數值型變數\n",
    "        contingency_table = pd.crosstab(df[col], df['Productivity_Change'])\n",
    "        chi2, p, dof, _ = chi2_contingency(contingency_table)\n",
    "        chi2_results.append({'Column': col, 'Chi2': chi2, 'P-Value': p, 'Degrees of Freedom': dof})\n",
    "\n",
    "# 將結果整理為 DataFrame\n",
    "chi2_results_df = pd.DataFrame(chi2_results)\n",
    "\n",
    "# 顯示結果\n",
    "print(chi2_results_df)"
   ],
   "metadata": {
    "collapsed": false,
    "ExecuteTime": {
     "end_time": "2024-11-26T12:50:19.591825Z",
     "start_time": "2024-11-26T12:50:19.531848Z"
    }
   },
   "id": "9d87df79d045cd06"
  }
 ],
 "metadata": {
  "kernelspec": {
   "display_name": "Python 3",
   "language": "python",
   "name": "python3"
  },
  "language_info": {
   "codemirror_mode": {
    "name": "ipython",
    "version": 2
   },
   "file_extension": ".py",
   "mimetype": "text/x-python",
   "name": "python",
   "nbconvert_exporter": "python",
   "pygments_lexer": "ipython2",
   "version": "2.7.6"
  }
 },
 "nbformat": 4,
 "nbformat_minor": 5
}
