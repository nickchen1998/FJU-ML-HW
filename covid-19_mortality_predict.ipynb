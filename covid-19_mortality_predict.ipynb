{
 "cells": [
  {
   "cell_type": "markdown",
   "source": [
    "# 一、資料集介紹\n",
    "\n",
    "資料集網址：[Covid Data](https://www.kaggle.com/datasets/meirnizri/covid19-dataset)\n",
    "預測問題：病患在確定得到 Covid Data 後是否會死亡\n",
    "目標變數：DATE_DIED（紀錄病人死亡日期，如果沒有死亡則輸入 9999-99-99 表示。）"
   ],
   "metadata": {
    "collapsed": false
   },
   "id": "6aaecd5556c13c6d"
  },
  {
   "cell_type": "markdown",
   "source": [
    "# 二、變數敘述統計＆資料前處理"
   ],
   "metadata": {
    "collapsed": false
   },
   "id": "fa91acbfdc174ae1"
  },
  {
   "cell_type": "markdown",
   "source": [
    "## (一)、變數敘述統計"
   ],
   "metadata": {
    "collapsed": false
   },
   "id": "5e797ef74ea5c68e"
  },
  {
   "cell_type": "code",
   "execution_count": 1,
   "outputs": [
    {
     "data": {
      "text/plain": "              USMER  MEDICAL_UNIT           SEX  PATIENT_TYPE       INTUBED  \\\ncount  1.048575e+06  1.048575e+06  1.048575e+06  1.048575e+06  1.048575e+06   \nmean   1.632194e+00  8.980565e+00  1.499259e+00  1.190765e+00  7.952288e+01   \nstd    4.822084e-01  3.723278e+00  4.999997e-01  3.929041e-01  3.686889e+01   \nmin    1.000000e+00  1.000000e+00  1.000000e+00  1.000000e+00  1.000000e+00   \n25%    1.000000e+00  4.000000e+00  1.000000e+00  1.000000e+00  9.700000e+01   \n50%    2.000000e+00  1.200000e+01  1.000000e+00  1.000000e+00  9.700000e+01   \n75%    2.000000e+00  1.200000e+01  2.000000e+00  1.000000e+00  9.700000e+01   \nmax    2.000000e+00  1.300000e+01  2.000000e+00  2.000000e+00  9.900000e+01   \n\n          PNEUMONIA           AGE      PREGNANT      DIABETES          COPD  \\\ncount  1.048575e+06  1.048575e+06  1.048575e+06  1.048575e+06  1.048575e+06   \nmean   3.346831e+00  4.179410e+01  4.976558e+01  2.186404e+00  2.260569e+00   \nstd    1.191288e+01  1.690739e+01  4.751073e+01  5.424242e+00  5.132258e+00   \nmin    1.000000e+00  0.000000e+00  1.000000e+00  1.000000e+00  1.000000e+00   \n25%    2.000000e+00  3.000000e+01  2.000000e+00  2.000000e+00  2.000000e+00   \n50%    2.000000e+00  4.000000e+01  9.700000e+01  2.000000e+00  2.000000e+00   \n75%    2.000000e+00  5.300000e+01  9.700000e+01  2.000000e+00  2.000000e+00   \nmax    9.900000e+01  1.210000e+02  9.800000e+01  9.800000e+01  9.800000e+01   \n\n             ASTHMA       INMSUPR  HIPERTENSION  OTHER_DISEASE  \\\ncount  1.048575e+06  1.048575e+06  1.048575e+06   1.048575e+06   \nmean   2.242626e+00  2.298132e+00  2.128989e+00   2.435143e+00   \nstd    5.114089e+00  5.462843e+00  5.236397e+00   6.646676e+00   \nmin    1.000000e+00  1.000000e+00  1.000000e+00   1.000000e+00   \n25%    2.000000e+00  2.000000e+00  2.000000e+00   2.000000e+00   \n50%    2.000000e+00  2.000000e+00  2.000000e+00   2.000000e+00   \n75%    2.000000e+00  2.000000e+00  2.000000e+00   2.000000e+00   \nmax    9.800000e+01  9.800000e+01  9.800000e+01   9.800000e+01   \n\n       CARDIOVASCULAR       OBESITY  RENAL_CHRONIC       TOBACCO  \\\ncount    1.048575e+06  1.048575e+06   1.048575e+06  1.048575e+06   \nmean     2.261810e+00  2.125176e+00   2.257180e+00  2.214333e+00   \nstd      5.194850e+00  5.175445e+00   5.135354e+00  5.323097e+00   \nmin      1.000000e+00  1.000000e+00   1.000000e+00  1.000000e+00   \n25%      2.000000e+00  2.000000e+00   2.000000e+00  2.000000e+00   \n50%      2.000000e+00  2.000000e+00   2.000000e+00  2.000000e+00   \n75%      2.000000e+00  2.000000e+00   2.000000e+00  2.000000e+00   \nmax      9.800000e+01  9.800000e+01   9.800000e+01  9.800000e+01   \n\n       CLASIFFICATION_FINAL           ICU  \ncount          1.048575e+06  1.048575e+06  \nmean           5.305653e+00  7.955397e+01  \nstd            1.881165e+00  3.682307e+01  \nmin            1.000000e+00  1.000000e+00  \n25%            3.000000e+00  9.700000e+01  \n50%            6.000000e+00  9.700000e+01  \n75%            7.000000e+00  9.700000e+01  \nmax            7.000000e+00  9.900000e+01  ",
      "text/html": "<div>\n<style scoped>\n    .dataframe tbody tr th:only-of-type {\n        vertical-align: middle;\n    }\n\n    .dataframe tbody tr th {\n        vertical-align: top;\n    }\n\n    .dataframe thead th {\n        text-align: right;\n    }\n</style>\n<table border=\"1\" class=\"dataframe\">\n  <thead>\n    <tr style=\"text-align: right;\">\n      <th></th>\n      <th>USMER</th>\n      <th>MEDICAL_UNIT</th>\n      <th>SEX</th>\n      <th>PATIENT_TYPE</th>\n      <th>INTUBED</th>\n      <th>PNEUMONIA</th>\n      <th>AGE</th>\n      <th>PREGNANT</th>\n      <th>DIABETES</th>\n      <th>COPD</th>\n      <th>ASTHMA</th>\n      <th>INMSUPR</th>\n      <th>HIPERTENSION</th>\n      <th>OTHER_DISEASE</th>\n      <th>CARDIOVASCULAR</th>\n      <th>OBESITY</th>\n      <th>RENAL_CHRONIC</th>\n      <th>TOBACCO</th>\n      <th>CLASIFFICATION_FINAL</th>\n      <th>ICU</th>\n    </tr>\n  </thead>\n  <tbody>\n    <tr>\n      <th>count</th>\n      <td>1.048575e+06</td>\n      <td>1.048575e+06</td>\n      <td>1.048575e+06</td>\n      <td>1.048575e+06</td>\n      <td>1.048575e+06</td>\n      <td>1.048575e+06</td>\n      <td>1.048575e+06</td>\n      <td>1.048575e+06</td>\n      <td>1.048575e+06</td>\n      <td>1.048575e+06</td>\n      <td>1.048575e+06</td>\n      <td>1.048575e+06</td>\n      <td>1.048575e+06</td>\n      <td>1.048575e+06</td>\n      <td>1.048575e+06</td>\n      <td>1.048575e+06</td>\n      <td>1.048575e+06</td>\n      <td>1.048575e+06</td>\n      <td>1.048575e+06</td>\n      <td>1.048575e+06</td>\n    </tr>\n    <tr>\n      <th>mean</th>\n      <td>1.632194e+00</td>\n      <td>8.980565e+00</td>\n      <td>1.499259e+00</td>\n      <td>1.190765e+00</td>\n      <td>7.952288e+01</td>\n      <td>3.346831e+00</td>\n      <td>4.179410e+01</td>\n      <td>4.976558e+01</td>\n      <td>2.186404e+00</td>\n      <td>2.260569e+00</td>\n      <td>2.242626e+00</td>\n      <td>2.298132e+00</td>\n      <td>2.128989e+00</td>\n      <td>2.435143e+00</td>\n      <td>2.261810e+00</td>\n      <td>2.125176e+00</td>\n      <td>2.257180e+00</td>\n      <td>2.214333e+00</td>\n      <td>5.305653e+00</td>\n      <td>7.955397e+01</td>\n    </tr>\n    <tr>\n      <th>std</th>\n      <td>4.822084e-01</td>\n      <td>3.723278e+00</td>\n      <td>4.999997e-01</td>\n      <td>3.929041e-01</td>\n      <td>3.686889e+01</td>\n      <td>1.191288e+01</td>\n      <td>1.690739e+01</td>\n      <td>4.751073e+01</td>\n      <td>5.424242e+00</td>\n      <td>5.132258e+00</td>\n      <td>5.114089e+00</td>\n      <td>5.462843e+00</td>\n      <td>5.236397e+00</td>\n      <td>6.646676e+00</td>\n      <td>5.194850e+00</td>\n      <td>5.175445e+00</td>\n      <td>5.135354e+00</td>\n      <td>5.323097e+00</td>\n      <td>1.881165e+00</td>\n      <td>3.682307e+01</td>\n    </tr>\n    <tr>\n      <th>min</th>\n      <td>1.000000e+00</td>\n      <td>1.000000e+00</td>\n      <td>1.000000e+00</td>\n      <td>1.000000e+00</td>\n      <td>1.000000e+00</td>\n      <td>1.000000e+00</td>\n      <td>0.000000e+00</td>\n      <td>1.000000e+00</td>\n      <td>1.000000e+00</td>\n      <td>1.000000e+00</td>\n      <td>1.000000e+00</td>\n      <td>1.000000e+00</td>\n      <td>1.000000e+00</td>\n      <td>1.000000e+00</td>\n      <td>1.000000e+00</td>\n      <td>1.000000e+00</td>\n      <td>1.000000e+00</td>\n      <td>1.000000e+00</td>\n      <td>1.000000e+00</td>\n      <td>1.000000e+00</td>\n    </tr>\n    <tr>\n      <th>25%</th>\n      <td>1.000000e+00</td>\n      <td>4.000000e+00</td>\n      <td>1.000000e+00</td>\n      <td>1.000000e+00</td>\n      <td>9.700000e+01</td>\n      <td>2.000000e+00</td>\n      <td>3.000000e+01</td>\n      <td>2.000000e+00</td>\n      <td>2.000000e+00</td>\n      <td>2.000000e+00</td>\n      <td>2.000000e+00</td>\n      <td>2.000000e+00</td>\n      <td>2.000000e+00</td>\n      <td>2.000000e+00</td>\n      <td>2.000000e+00</td>\n      <td>2.000000e+00</td>\n      <td>2.000000e+00</td>\n      <td>2.000000e+00</td>\n      <td>3.000000e+00</td>\n      <td>9.700000e+01</td>\n    </tr>\n    <tr>\n      <th>50%</th>\n      <td>2.000000e+00</td>\n      <td>1.200000e+01</td>\n      <td>1.000000e+00</td>\n      <td>1.000000e+00</td>\n      <td>9.700000e+01</td>\n      <td>2.000000e+00</td>\n      <td>4.000000e+01</td>\n      <td>9.700000e+01</td>\n      <td>2.000000e+00</td>\n      <td>2.000000e+00</td>\n      <td>2.000000e+00</td>\n      <td>2.000000e+00</td>\n      <td>2.000000e+00</td>\n      <td>2.000000e+00</td>\n      <td>2.000000e+00</td>\n      <td>2.000000e+00</td>\n      <td>2.000000e+00</td>\n      <td>2.000000e+00</td>\n      <td>6.000000e+00</td>\n      <td>9.700000e+01</td>\n    </tr>\n    <tr>\n      <th>75%</th>\n      <td>2.000000e+00</td>\n      <td>1.200000e+01</td>\n      <td>2.000000e+00</td>\n      <td>1.000000e+00</td>\n      <td>9.700000e+01</td>\n      <td>2.000000e+00</td>\n      <td>5.300000e+01</td>\n      <td>9.700000e+01</td>\n      <td>2.000000e+00</td>\n      <td>2.000000e+00</td>\n      <td>2.000000e+00</td>\n      <td>2.000000e+00</td>\n      <td>2.000000e+00</td>\n      <td>2.000000e+00</td>\n      <td>2.000000e+00</td>\n      <td>2.000000e+00</td>\n      <td>2.000000e+00</td>\n      <td>2.000000e+00</td>\n      <td>7.000000e+00</td>\n      <td>9.700000e+01</td>\n    </tr>\n    <tr>\n      <th>max</th>\n      <td>2.000000e+00</td>\n      <td>1.300000e+01</td>\n      <td>2.000000e+00</td>\n      <td>2.000000e+00</td>\n      <td>9.900000e+01</td>\n      <td>9.900000e+01</td>\n      <td>1.210000e+02</td>\n      <td>9.800000e+01</td>\n      <td>9.800000e+01</td>\n      <td>9.800000e+01</td>\n      <td>9.800000e+01</td>\n      <td>9.800000e+01</td>\n      <td>9.800000e+01</td>\n      <td>9.800000e+01</td>\n      <td>9.800000e+01</td>\n      <td>9.800000e+01</td>\n      <td>9.800000e+01</td>\n      <td>9.800000e+01</td>\n      <td>7.000000e+00</td>\n      <td>9.900000e+01</td>\n    </tr>\n  </tbody>\n</table>\n</div>"
     },
     "execution_count": 1,
     "metadata": {},
     "output_type": "execute_result"
    }
   ],
   "source": [
    "# 針對連續性變數做敘述統計\n",
    "import pandas as pd\n",
    "\n",
    "df = pd.read_csv(\"./covid_data.csv\")\n",
    "df.describe()"
   ],
   "metadata": {
    "collapsed": false,
    "ExecuteTime": {
     "end_time": "2024-12-15T12:45:16.159325Z",
     "start_time": "2024-12-15T12:45:15.243696Z"
    }
   },
   "id": "initial_id"
  },
  {
   "cell_type": "code",
   "execution_count": 14,
   "outputs": [
    {
     "name": "stdout",
     "output_type": "stream",
     "text": [
      "<class 'pandas.core.frame.DataFrame'>\n",
      "RangeIndex: 1048575 entries, 0 to 1048574\n",
      "Data columns (total 21 columns):\n",
      " #   Column                Non-Null Count    Dtype \n",
      "---  ------                --------------    ----- \n",
      " 0   USMER                 1048575 non-null  int64 \n",
      " 1   MEDICAL_UNIT          1048575 non-null  int64 \n",
      " 2   SEX                   1048575 non-null  int64 \n",
      " 3   PATIENT_TYPE          1048575 non-null  int64 \n",
      " 4   DATE_DIED             1048575 non-null  object\n",
      " 5   INTUBED               1048575 non-null  int64 \n",
      " 6   PNEUMONIA             1048575 non-null  int64 \n",
      " 7   AGE                   1048575 non-null  int64 \n",
      " 8   PREGNANT              1048575 non-null  int64 \n",
      " 9   DIABETES              1048575 non-null  int64 \n",
      " 10  COPD                  1048575 non-null  int64 \n",
      " 11  ASTHMA                1048575 non-null  int64 \n",
      " 12  INMSUPR               1048575 non-null  int64 \n",
      " 13  HIPERTENSION          1048575 non-null  int64 \n",
      " 14  OTHER_DISEASE         1048575 non-null  int64 \n",
      " 15  CARDIOVASCULAR        1048575 non-null  int64 \n",
      " 16  OBESITY               1048575 non-null  int64 \n",
      " 17  RENAL_CHRONIC         1048575 non-null  int64 \n",
      " 18  TOBACCO               1048575 non-null  int64 \n",
      " 19  CLASIFFICATION_FINAL  1048575 non-null  int64 \n",
      " 20  ICU                   1048575 non-null  int64 \n",
      "dtypes: int64(20), object(1)\n",
      "memory usage: 168.0+ MB\n"
     ]
    }
   ],
   "source": [
    "import pandas as pd\n",
    "\n",
    "df = pd.read_csv(\"./covid_data.csv\")\n",
    "df.info()"
   ],
   "metadata": {
    "collapsed": false,
    "ExecuteTime": {
     "end_time": "2024-12-15T12:54:05.928474Z",
     "start_time": "2024-12-15T12:54:05.282947Z"
    }
   },
   "id": "bf9ff13bac3fba64"
  },
  {
   "cell_type": "code",
   "execution_count": 15,
   "outputs": [
    {
     "name": "stdout",
     "output_type": "stream",
     "text": [
      "<class 'pandas.core.frame.DataFrame'>\n",
      "Index: 76749 entries, 5 to 1048569\n",
      "Data columns (total 21 columns):\n",
      " #   Column                Non-Null Count  Dtype \n",
      "---  ------                --------------  ----- \n",
      " 0   USMER                 76749 non-null  int64 \n",
      " 1   MEDICAL_UNIT          76749 non-null  int64 \n",
      " 2   SEX                   76749 non-null  int64 \n",
      " 3   PATIENT_TYPE          76749 non-null  int64 \n",
      " 4   DATE_DIED             76749 non-null  object\n",
      " 5   INTUBED               76749 non-null  int64 \n",
      " 6   PNEUMONIA             76749 non-null  int64 \n",
      " 7   AGE                   76749 non-null  int64 \n",
      " 8   PREGNANT              76749 non-null  int64 \n",
      " 9   DIABETES              76749 non-null  int64 \n",
      " 10  COPD                  76749 non-null  int64 \n",
      " 11  ASTHMA                76749 non-null  int64 \n",
      " 12  INMSUPR               76749 non-null  int64 \n",
      " 13  HIPERTENSION          76749 non-null  int64 \n",
      " 14  OTHER_DISEASE         76749 non-null  int64 \n",
      " 15  CARDIOVASCULAR        76749 non-null  int64 \n",
      " 16  OBESITY               76749 non-null  int64 \n",
      " 17  RENAL_CHRONIC         76749 non-null  int64 \n",
      " 18  TOBACCO               76749 non-null  int64 \n",
      " 19  CLASIFFICATION_FINAL  76749 non-null  int64 \n",
      " 20  ICU                   76749 non-null  int64 \n",
      "dtypes: int64(20), object(1)\n",
      "memory usage: 12.9+ MB\n"
     ]
    }
   ],
   "source": [
    "import pandas as pd\n",
    "\n",
    "# 讀取資料集\n",
    "df = pd.read_csv('covid_data.csv')\n",
    "\n",
    "# 定義缺失值的條件（97 或 99）\n",
    "missing_values = [97, 98, 99]\n",
    "\n",
    "# 遍歷所有欄位，去除包含 97 或 99 的行\n",
    "df_cleaned = df[~df.isin(missing_values).any(axis=1)]\n",
    "\n",
    "df_cleaned.info()"
   ],
   "metadata": {
    "collapsed": false,
    "ExecuteTime": {
     "end_time": "2024-12-15T12:54:07.401627Z",
     "start_time": "2024-12-15T12:54:06.684842Z"
    }
   },
   "id": "d0c038260ba16ee9"
  },
  {
   "cell_type": "code",
   "execution_count": 16,
   "outputs": [
    {
     "name": "stdout",
     "output_type": "stream",
     "text": [
      "<class 'pandas.core.frame.DataFrame'>\n",
      "Index: 76749 entries, 5 to 1048569\n",
      "Data columns (total 21 columns):\n",
      " #   Column                Non-Null Count  Dtype \n",
      "---  ------                --------------  ----- \n",
      " 0   USMER                 76749 non-null  object\n",
      " 1   MEDICAL_UNIT          76749 non-null  object\n",
      " 2   SEX                   76749 non-null  object\n",
      " 3   PATIENT_TYPE          76749 non-null  object\n",
      " 4   DATE_DIED             76749 non-null  object\n",
      " 5   INTUBED               76749 non-null  object\n",
      " 6   PNEUMONIA             76749 non-null  object\n",
      " 7   AGE                   76749 non-null  int64 \n",
      " 8   PREGNANT              76749 non-null  object\n",
      " 9   DIABETES              76749 non-null  object\n",
      " 10  COPD                  76749 non-null  object\n",
      " 11  ASTHMA                76749 non-null  object\n",
      " 12  INMSUPR               76749 non-null  object\n",
      " 13  HIPERTENSION          76749 non-null  object\n",
      " 14  OTHER_DISEASE         76749 non-null  object\n",
      " 15  CARDIOVASCULAR        76749 non-null  object\n",
      " 16  OBESITY               76749 non-null  object\n",
      " 17  RENAL_CHRONIC         76749 non-null  object\n",
      " 18  TOBACCO               76749 non-null  object\n",
      " 19  CLASIFFICATION_FINAL  76749 non-null  object\n",
      " 20  ICU                   76749 non-null  object\n",
      "dtypes: int64(1), object(20)\n",
      "memory usage: 12.9+ MB\n"
     ]
    }
   ],
   "source": [
    "# 將所有欄位類型列為字典\n",
    "dtype_dict = {col: 'object' for col in df_cleaned.columns if col != 'AGE'}\n",
    "\n",
    "# 使用 astype() 轉換資料類型\n",
    "df_cleaned = df_cleaned.astype(dtype_dict)\n",
    "df_cleaned.info()"
   ],
   "metadata": {
    "collapsed": false,
    "ExecuteTime": {
     "end_time": "2024-12-15T12:54:08.130183Z",
     "start_time": "2024-12-15T12:54:08.074277Z"
    }
   },
   "id": "8a564575c9725e0c"
  },
  {
   "cell_type": "code",
   "execution_count": 17,
   "outputs": [
    {
     "data": {
      "text/plain": "IS_DIED\n0    52940\n1    23809\nName: count, dtype: int64"
     },
     "execution_count": 17,
     "metadata": {},
     "output_type": "execute_result"
    }
   ],
   "source": [
    "# 建立 IS_DIED 欄位：判斷 DATE_DIED 是否為 '9999-99-99'，是的話表示病患沒有死亡（顯示 0，反之則為 1）\n",
    "df_cleaned['IS_DIED'] = df_cleaned['DATE_DIED'].apply(lambda x: 0 if x == '9999-99-99' else 1)\n",
    "df_cleaned['IS_DIED'] = df_cleaned['IS_DIED'].astype('object')\n",
    "\n",
    "# 捨棄 DATE_DIED 欄位\n",
    "df_cleaned = df_cleaned.drop(columns=['DATE_DIED'])\n",
    "\n",
    "df_cleaned[\"IS_DIED\"].value_counts()"
   ],
   "metadata": {
    "collapsed": false,
    "ExecuteTime": {
     "end_time": "2024-12-15T12:54:09.655455Z",
     "start_time": "2024-12-15T12:54:09.624746Z"
    }
   },
   "id": "e1f0bcb03ad2efad"
  },
  {
   "cell_type": "code",
   "execution_count": 18,
   "outputs": [
    {
     "data": {
      "text/plain": "                Variable  \\\n0                  USMER   \n1           MEDICAL_UNIT   \n2                    SEX   \n3           PATIENT_TYPE   \n4                INTUBED   \n5              PNEUMONIA   \n6               PREGNANT   \n7               DIABETES   \n8                   COPD   \n9                 ASTHMA   \n10               INMSUPR   \n11          HIPERTENSION   \n12         OTHER_DISEASE   \n13        CARDIOVASCULAR   \n14               OBESITY   \n15         RENAL_CHRONIC   \n16               TOBACCO   \n17  CLASIFFICATION_FINAL   \n18                   ICU   \n19               IS_DIED   \n\n                                                                                                                 Code  \n0                                                                                                  1: 42080, 2: 34669  \n1   4: 36165, 12: 26005, 6: 5934, 9: 3141, 3: 1651, 8: 1225, 10: 1224, 5: 693, 11: 461, 7: 119, 13: 102, 2: 19, 1: 10  \n2                                                                                                            1: 76749  \n3                                                                                                            2: 76749  \n4                                                                                                  2: 65111, 1: 11638  \n5                                                                                                  1: 43579, 2: 33170  \n6                                                                                                   2: 74957, 1: 1792  \n7                                                                                                  2: 52446, 1: 24303  \n8                                                                                                   2: 73031, 1: 3718  \n9                                                                                                   2: 74066, 1: 2683  \n10                                                                                                  2: 73574, 1: 3175  \n11                                                                                                 2: 48493, 1: 28256  \n12                                                                                                  2: 71672, 1: 5077  \n13                                                                                                  2: 72790, 1: 3959  \n14                                                                                                 2: 59502, 1: 17247  \n15                                                                                                  2: 71939, 1: 4810  \n16                                                                                                  2: 73406, 1: 3343  \n17                                                       3: 39963, 7: 26777, 6: 6444, 5: 1985, 1: 741, 2: 590, 4: 249  \n18                                                                                                  2: 70772, 1: 5977  \n19                                                                                                 0: 52940, 1: 23809  ",
      "text/html": "<div>\n<style scoped>\n    .dataframe tbody tr th:only-of-type {\n        vertical-align: middle;\n    }\n\n    .dataframe tbody tr th {\n        vertical-align: top;\n    }\n\n    .dataframe thead th {\n        text-align: right;\n    }\n</style>\n<table border=\"1\" class=\"dataframe\">\n  <thead>\n    <tr style=\"text-align: right;\">\n      <th></th>\n      <th>Variable</th>\n      <th>Code</th>\n    </tr>\n  </thead>\n  <tbody>\n    <tr>\n      <th>0</th>\n      <td>USMER</td>\n      <td>1: 42080, 2: 34669</td>\n    </tr>\n    <tr>\n      <th>1</th>\n      <td>MEDICAL_UNIT</td>\n      <td>4: 36165, 12: 26005, 6: 5934, 9: 3141, 3: 1651, 8: 1225, 10: 1224, 5: 693, 11: 461, 7: 119, 13: 102, 2: 19, 1: 10</td>\n    </tr>\n    <tr>\n      <th>2</th>\n      <td>SEX</td>\n      <td>1: 76749</td>\n    </tr>\n    <tr>\n      <th>3</th>\n      <td>PATIENT_TYPE</td>\n      <td>2: 76749</td>\n    </tr>\n    <tr>\n      <th>4</th>\n      <td>INTUBED</td>\n      <td>2: 65111, 1: 11638</td>\n    </tr>\n    <tr>\n      <th>5</th>\n      <td>PNEUMONIA</td>\n      <td>1: 43579, 2: 33170</td>\n    </tr>\n    <tr>\n      <th>6</th>\n      <td>PREGNANT</td>\n      <td>2: 74957, 1: 1792</td>\n    </tr>\n    <tr>\n      <th>7</th>\n      <td>DIABETES</td>\n      <td>2: 52446, 1: 24303</td>\n    </tr>\n    <tr>\n      <th>8</th>\n      <td>COPD</td>\n      <td>2: 73031, 1: 3718</td>\n    </tr>\n    <tr>\n      <th>9</th>\n      <td>ASTHMA</td>\n      <td>2: 74066, 1: 2683</td>\n    </tr>\n    <tr>\n      <th>10</th>\n      <td>INMSUPR</td>\n      <td>2: 73574, 1: 3175</td>\n    </tr>\n    <tr>\n      <th>11</th>\n      <td>HIPERTENSION</td>\n      <td>2: 48493, 1: 28256</td>\n    </tr>\n    <tr>\n      <th>12</th>\n      <td>OTHER_DISEASE</td>\n      <td>2: 71672, 1: 5077</td>\n    </tr>\n    <tr>\n      <th>13</th>\n      <td>CARDIOVASCULAR</td>\n      <td>2: 72790, 1: 3959</td>\n    </tr>\n    <tr>\n      <th>14</th>\n      <td>OBESITY</td>\n      <td>2: 59502, 1: 17247</td>\n    </tr>\n    <tr>\n      <th>15</th>\n      <td>RENAL_CHRONIC</td>\n      <td>2: 71939, 1: 4810</td>\n    </tr>\n    <tr>\n      <th>16</th>\n      <td>TOBACCO</td>\n      <td>2: 73406, 1: 3343</td>\n    </tr>\n    <tr>\n      <th>17</th>\n      <td>CLASIFFICATION_FINAL</td>\n      <td>3: 39963, 7: 26777, 6: 6444, 5: 1985, 1: 741, 2: 590, 4: 249</td>\n    </tr>\n    <tr>\n      <th>18</th>\n      <td>ICU</td>\n      <td>2: 70772, 1: 5977</td>\n    </tr>\n    <tr>\n      <th>19</th>\n      <td>IS_DIED</td>\n      <td>0: 52940, 1: 23809</td>\n    </tr>\n  </tbody>\n</table>\n</div>"
     },
     "execution_count": 18,
     "metadata": {},
     "output_type": "execute_result"
    }
   ],
   "source": [
    "# 針對類別型變數做敘述統計\n",
    "import pandas as pd\n",
    "\n",
    "pd.set_option('display.max_colwidth', None)\n",
    "\n",
    "def generate_code_description(column):\n",
    "    return \", \".join([f\"{val}: {count}\" for val, count in df_cleaned[column].value_counts().items()])\n",
    "\n",
    "category_columns = df_cleaned.select_dtypes(include=['object']).columns\n",
    "summary = pd.DataFrame({\n",
    "    \"Variable\": category_columns,\n",
    "    \"Code\": [generate_code_description(col) for col in category_columns],\n",
    "})\n",
    "summary"
   ],
   "metadata": {
    "collapsed": false,
    "ExecuteTime": {
     "end_time": "2024-12-15T12:55:20.651971Z",
     "start_time": "2024-12-15T12:55:20.567676Z"
    }
   },
   "id": "b4b6a8c945c6014a"
  },
  {
   "cell_type": "markdown",
   "source": [
    "## (二)、資料前處理"
   ],
   "metadata": {
    "collapsed": false
   },
   "id": "43ea5b0e14b37d22"
  },
  {
   "metadata": {
    "ExecuteTime": {
     "end_time": "2024-12-15T13:00:11.937629Z",
     "start_time": "2024-12-15T13:00:11.245974Z"
    }
   },
   "cell_type": "code",
   "source": [
    "import numpy as np\n",
    "import pandas as pd\n",
    "from scipy.stats import chi2_contingency\n",
    "\n",
    "# 假設 df_cleaned 是目前的資料集\n",
    "target_var = 'IS_DIED'\n",
    "\n",
    "# 初始化列表來存儲卡方檢定結果\n",
    "chi2_results = []\n",
    "\n",
    "# 遍歷所有類別型欄位（排除目標變數 IS_DIED 本身）\n",
    "for col in df_cleaned.select_dtypes(include='object').columns:\n",
    "    if col != target_var:\n",
    "        # 建立列聯表（Contingency Table）\n",
    "        contingency_table = pd.crosstab(df_cleaned[col], df_cleaned[target_var])\n",
    "\n",
    "        # 卡方檢定\n",
    "        chi2, p, dof, _ = chi2_contingency(contingency_table)\n",
    "\n",
    "        # 存儲結果\n",
    "        chi2_results.append({\n",
    "            'Feature': col,\n",
    "            'Chi2 Statistic': chi2,\n",
    "            'p-value': round(p, 10),\n",
    "            'Degrees of Freedom': dof,\n",
    "            'Significant (p < 0.05)': p < 0.05\n",
    "        })\n",
    "\n",
    "# 將結果整理為 DataFrame 並按 p-value 排序\n",
    "chi2_results_df = pd.DataFrame(chi2_results).sort_values(by='p-value', ascending=True)\n",
    "chi2_results_df\n"
   ],
   "id": "c07ff2529439b470",
   "outputs": [
    {
     "data": {
      "text/plain": "                 Feature  Chi2 Statistic       p-value  Degrees of Freedom  \\\n0                  USMER      227.752176  0.000000e+00                   1   \n15         RENAL_CHRONIC      360.018659  0.000000e+00                   1   \n14               OBESITY      215.454691  0.000000e+00                   1   \n13        CARDIOVASCULAR      104.198497  0.000000e+00                   1   \n11          HIPERTENSION     2428.562226  0.000000e+00                   1   \n17  CLASIFFICATION_FINAL     5282.884017  0.000000e+00                   6   \n8                   COPD      187.846263  0.000000e+00                   1   \n9                 ASTHMA       52.049811  0.000000e+00                   1   \n6               PREGNANT      621.412488  0.000000e+00                   1   \n5              PNEUMONIA     3326.443461  0.000000e+00                   1   \n4                INTUBED    13685.732861  0.000000e+00                   1   \n1           MEDICAL_UNIT     1414.277548  0.000000e+00                  12   \n7               DIABETES     1976.485064  0.000000e+00                   1   \n18                   ICU      514.968884  0.000000e+00                   1   \n12         OTHER_DISEASE       31.765261  1.740000e-08                   1   \n16               TOBACCO        2.902408  8.844734e-02                   1   \n10               INMSUPR        2.402254  1.211606e-01                   1   \n3           PATIENT_TYPE        0.000000  1.000000e+00                   0   \n2                    SEX        0.000000  1.000000e+00                   0   \n\n    Significant (p < 0.05)  \n0                     True  \n15                    True  \n14                    True  \n13                    True  \n11                    True  \n17                    True  \n8                     True  \n9                     True  \n6                     True  \n5                     True  \n4                     True  \n1                     True  \n7                     True  \n18                    True  \n12                    True  \n16                   False  \n10                   False  \n3                    False  \n2                    False  ",
      "text/html": "<div>\n<style scoped>\n    .dataframe tbody tr th:only-of-type {\n        vertical-align: middle;\n    }\n\n    .dataframe tbody tr th {\n        vertical-align: top;\n    }\n\n    .dataframe thead th {\n        text-align: right;\n    }\n</style>\n<table border=\"1\" class=\"dataframe\">\n  <thead>\n    <tr style=\"text-align: right;\">\n      <th></th>\n      <th>Feature</th>\n      <th>Chi2 Statistic</th>\n      <th>p-value</th>\n      <th>Degrees of Freedom</th>\n      <th>Significant (p &lt; 0.05)</th>\n    </tr>\n  </thead>\n  <tbody>\n    <tr>\n      <th>0</th>\n      <td>USMER</td>\n      <td>227.752176</td>\n      <td>0.000000e+00</td>\n      <td>1</td>\n      <td>True</td>\n    </tr>\n    <tr>\n      <th>15</th>\n      <td>RENAL_CHRONIC</td>\n      <td>360.018659</td>\n      <td>0.000000e+00</td>\n      <td>1</td>\n      <td>True</td>\n    </tr>\n    <tr>\n      <th>14</th>\n      <td>OBESITY</td>\n      <td>215.454691</td>\n      <td>0.000000e+00</td>\n      <td>1</td>\n      <td>True</td>\n    </tr>\n    <tr>\n      <th>13</th>\n      <td>CARDIOVASCULAR</td>\n      <td>104.198497</td>\n      <td>0.000000e+00</td>\n      <td>1</td>\n      <td>True</td>\n    </tr>\n    <tr>\n      <th>11</th>\n      <td>HIPERTENSION</td>\n      <td>2428.562226</td>\n      <td>0.000000e+00</td>\n      <td>1</td>\n      <td>True</td>\n    </tr>\n    <tr>\n      <th>17</th>\n      <td>CLASIFFICATION_FINAL</td>\n      <td>5282.884017</td>\n      <td>0.000000e+00</td>\n      <td>6</td>\n      <td>True</td>\n    </tr>\n    <tr>\n      <th>8</th>\n      <td>COPD</td>\n      <td>187.846263</td>\n      <td>0.000000e+00</td>\n      <td>1</td>\n      <td>True</td>\n    </tr>\n    <tr>\n      <th>9</th>\n      <td>ASTHMA</td>\n      <td>52.049811</td>\n      <td>0.000000e+00</td>\n      <td>1</td>\n      <td>True</td>\n    </tr>\n    <tr>\n      <th>6</th>\n      <td>PREGNANT</td>\n      <td>621.412488</td>\n      <td>0.000000e+00</td>\n      <td>1</td>\n      <td>True</td>\n    </tr>\n    <tr>\n      <th>5</th>\n      <td>PNEUMONIA</td>\n      <td>3326.443461</td>\n      <td>0.000000e+00</td>\n      <td>1</td>\n      <td>True</td>\n    </tr>\n    <tr>\n      <th>4</th>\n      <td>INTUBED</td>\n      <td>13685.732861</td>\n      <td>0.000000e+00</td>\n      <td>1</td>\n      <td>True</td>\n    </tr>\n    <tr>\n      <th>1</th>\n      <td>MEDICAL_UNIT</td>\n      <td>1414.277548</td>\n      <td>0.000000e+00</td>\n      <td>12</td>\n      <td>True</td>\n    </tr>\n    <tr>\n      <th>7</th>\n      <td>DIABETES</td>\n      <td>1976.485064</td>\n      <td>0.000000e+00</td>\n      <td>1</td>\n      <td>True</td>\n    </tr>\n    <tr>\n      <th>18</th>\n      <td>ICU</td>\n      <td>514.968884</td>\n      <td>0.000000e+00</td>\n      <td>1</td>\n      <td>True</td>\n    </tr>\n    <tr>\n      <th>12</th>\n      <td>OTHER_DISEASE</td>\n      <td>31.765261</td>\n      <td>1.740000e-08</td>\n      <td>1</td>\n      <td>True</td>\n    </tr>\n    <tr>\n      <th>16</th>\n      <td>TOBACCO</td>\n      <td>2.902408</td>\n      <td>8.844734e-02</td>\n      <td>1</td>\n      <td>False</td>\n    </tr>\n    <tr>\n      <th>10</th>\n      <td>INMSUPR</td>\n      <td>2.402254</td>\n      <td>1.211606e-01</td>\n      <td>1</td>\n      <td>False</td>\n    </tr>\n    <tr>\n      <th>3</th>\n      <td>PATIENT_TYPE</td>\n      <td>0.000000</td>\n      <td>1.000000e+00</td>\n      <td>0</td>\n      <td>False</td>\n    </tr>\n    <tr>\n      <th>2</th>\n      <td>SEX</td>\n      <td>0.000000</td>\n      <td>1.000000e+00</td>\n      <td>0</td>\n      <td>False</td>\n    </tr>\n  </tbody>\n</table>\n</div>"
     },
     "execution_count": 19,
     "metadata": {},
     "output_type": "execute_result"
    }
   ],
   "execution_count": 19
  },
  {
   "metadata": {
    "ExecuteTime": {
     "end_time": "2024-12-14T02:34:22.189092Z",
     "start_time": "2024-12-14T02:34:22.174724Z"
    }
   },
   "cell_type": "code",
   "source": [
    "import pandas as pd\n",
    "import statsmodels.api as sm\n",
    "\n",
    "df['Sleep_Quality'] = df['Sleep_Quality'].replace({'bad': 0, 'good': 1})\n",
    "\n",
    "# 結果儲存\n",
    "logit_results = []\n",
    "\n",
    "# 對每個類別型欄位進行邏輯回歸\n",
    "for col in df.columns:\n",
    "    if df[col].dtype == 'category':\n",
    "        continue\n",
    "    \n",
    "    # 合併虛擬變數與目標變數\n",
    "    X = df[col]  # 添加常數項\n",
    "    y = df['Sleep_Quality']\n",
    "    \n",
    "    # 構建邏輯回歸模型\n",
    "    logit_model = sm.Logit(y, X)\n",
    "    result = logit_model.fit(disp=False)\n",
    "    \n",
    "    # 提取 P 值\n",
    "    p_values = result.pvalues[1:]  # 跳過常數項\n",
    "    significant = (p_values <= 0.05).any()\n",
    "    \n",
    "    # 儲存結果\n",
    "    logit_results.append({\n",
    "        \"Variable\": col,\n",
    "        \"P-values\": p_values.to_dict(),\n",
    "        \"Significant (P <= 0.05)\": significant\n",
    "    })\n",
    "\n",
    "# 將結果整理為 DataFrame\n",
    "logit_df = pd.DataFrame(logit_results)\n",
    "\n",
    "# 顯示結果\n",
    "print(\"邏輯回歸分析結果：\")\n",
    "print(logit_df)\n",
    "\n",
    "# 篩選出有顯著影響的變數\n",
    "significant_variables = logit_df[logit_df['Significant (P <= 0.05)'] == True]\n",
    "print(\"\\n顯著變數：\")\n",
    "print(significant_variables)\n"
   ],
   "id": "6bc950927f932741",
   "outputs": [
    {
     "name": "stdout",
     "output_type": "stream",
     "text": [
      "邏輯回歸分析結果：\n",
      "               Variable P-values  Significant (P <= 0.05)\n",
      "0            Student_ID       {}                    False\n",
      "1                   Age       {}                    False\n",
      "2        Sleep_Duration       {}                    False\n",
      "3           Study_Hours       {}                    False\n",
      "4           Screen_Time       {}                    False\n",
      "5       Caffeine_Intake       {}                    False\n",
      "6     Physical_Activity       {}                    False\n",
      "7   Weekday_Sleep_Start       {}                    False\n",
      "8   Weekend_Sleep_Start       {}                    False\n",
      "9     Weekday_Sleep_End       {}                    False\n",
      "10    Weekend_Sleep_End       {}                    False\n",
      "\n",
      "顯著變數：\n",
      "Empty DataFrame\n",
      "Columns: [Variable, P-values, Significant (P <= 0.05)]\n",
      "Index: []\n"
     ]
    }
   ],
   "execution_count": 13
  },
  {
   "metadata": {
    "ExecuteTime": {
     "end_time": "2024-12-03T10:47:24.633029Z",
     "start_time": "2024-12-03T10:47:24.627745Z"
    }
   },
   "cell_type": "code",
   "outputs": [],
   "execution_count": 140,
   "source": [
    "# Basic packages always been used\n",
    "import numpy as np\n",
    "import matplotlib.pyplot as plt\n",
    "\n",
    "from sklearn.model_selection import train_test_split\n",
    "\n",
    "# Algorithm\n",
    "from sklearn import tree\n",
    "from sklearn.tree import DecisionTreeClassifier\n",
    "\n",
    "# Functions for evaluation\n",
    "from sklearn.model_selection import cross_val_score\n",
    "from sklearn.metrics import accuracy_score\n",
    "from sklearn.metrics import f1_score\n",
    "from sklearn.metrics import precision_score\n",
    "from sklearn.metrics import recall_score\n",
    "from sklearn.metrics import confusion_matrix\n",
    "from sklearn.metrics import ConfusionMatrixDisplay\n",
    "from sklearn.metrics import roc_auc_score,roc_curve,auc\n",
    "from sklearn.metrics import RocCurveDisplay"
   ],
   "id": "cd5c1e50976754a3"
  },
  {
   "cell_type": "code",
   "execution_count": 141,
   "outputs": [
    {
     "name": "stdout",
     "output_type": "stream",
     "text": [
      "Gender\n",
      "Male      186\n",
      "Female    166\n",
      "Other     148\n",
      "Name: count, dtype: int64\n",
      "University_Year\n",
      "3rd Year    132\n",
      "2nd Year    131\n",
      "1st Year    125\n",
      "4th Year    112\n",
      "Name: count, dtype: int64\n",
      "Sleep_Quality\n",
      "good      190\n",
      "bad       166\n",
      "normal    144\n",
      "Name: count, dtype: int64\n"
     ]
    }
   ],
   "source": [
    "for col in df.select_dtypes(include=[\"object\"]).columns.tolist():\n",
    "    print(df[col].value_counts())"
   ],
   "metadata": {
    "collapsed": false,
    "ExecuteTime": {
     "end_time": "2024-12-03T10:47:25.546862Z",
     "start_time": "2024-12-03T10:47:25.542426Z"
    }
   },
   "id": "ca9a1bf73af0b6c4"
  },
  {
   "cell_type": "code",
   "execution_count": 142,
   "outputs": [
    {
     "data": {
      "text/plain": "   Student_ID  Age  Sleep_Duration  Study_Hours  Screen_Time  Caffeine_Intake  \\\n0           1   24             7.7          7.9          3.4                2   \n1           2   21             6.3          6.0          1.9                5   \n2           3   22             5.1          6.7          3.9                5   \n3           4   24             6.3          8.6          2.8                4   \n4           5   20             4.7          2.7          2.7                0   \n\n   Physical_Activity  Weekday_Sleep_Start  Weekend_Sleep_Start  \\\n0                 37                14.16                 4.05   \n1                 74                 8.73                 7.10   \n2                 53                20.00                20.47   \n3                 55                19.82                 4.08   \n4                 85                20.98                 6.12   \n\n   Weekday_Sleep_End  ...  Gender_0  Gender_1  Gender_2  University_Year_0  \\\n0               7.41  ...         0         0         1                  0   \n1               8.21  ...         1         0         0                  1   \n2               6.88  ...         1         0         0                  0   \n3               6.69  ...         0         0         1                  0   \n4               8.98  ...         1         0         0                  0   \n\n   University_Year_1  University_Year_2  University_Year_3  Sleep_Quality_0  \\\n0                  1                  0                  0                0   \n1                  0                  0                  0                1   \n2                  0                  0                  1                0   \n3                  0                  0                  1                0   \n4                  0                  0                  1                1   \n\n   Sleep_Quality_1  Sleep_Quality_2  \n0                0                1  \n1                0                0  \n2                1                0  \n3                0                1  \n4                0                0  \n\n[5 rows x 21 columns]",
      "text/html": "<div>\n<style scoped>\n    .dataframe tbody tr th:only-of-type {\n        vertical-align: middle;\n    }\n\n    .dataframe tbody tr th {\n        vertical-align: top;\n    }\n\n    .dataframe thead th {\n        text-align: right;\n    }\n</style>\n<table border=\"1\" class=\"dataframe\">\n  <thead>\n    <tr style=\"text-align: right;\">\n      <th></th>\n      <th>Student_ID</th>\n      <th>Age</th>\n      <th>Sleep_Duration</th>\n      <th>Study_Hours</th>\n      <th>Screen_Time</th>\n      <th>Caffeine_Intake</th>\n      <th>Physical_Activity</th>\n      <th>Weekday_Sleep_Start</th>\n      <th>Weekend_Sleep_Start</th>\n      <th>Weekday_Sleep_End</th>\n      <th>...</th>\n      <th>Gender_0</th>\n      <th>Gender_1</th>\n      <th>Gender_2</th>\n      <th>University_Year_0</th>\n      <th>University_Year_1</th>\n      <th>University_Year_2</th>\n      <th>University_Year_3</th>\n      <th>Sleep_Quality_0</th>\n      <th>Sleep_Quality_1</th>\n      <th>Sleep_Quality_2</th>\n    </tr>\n  </thead>\n  <tbody>\n    <tr>\n      <th>0</th>\n      <td>1</td>\n      <td>24</td>\n      <td>7.7</td>\n      <td>7.9</td>\n      <td>3.4</td>\n      <td>2</td>\n      <td>37</td>\n      <td>14.16</td>\n      <td>4.05</td>\n      <td>7.41</td>\n      <td>...</td>\n      <td>0</td>\n      <td>0</td>\n      <td>1</td>\n      <td>0</td>\n      <td>1</td>\n      <td>0</td>\n      <td>0</td>\n      <td>0</td>\n      <td>0</td>\n      <td>1</td>\n    </tr>\n    <tr>\n      <th>1</th>\n      <td>2</td>\n      <td>21</td>\n      <td>6.3</td>\n      <td>6.0</td>\n      <td>1.9</td>\n      <td>5</td>\n      <td>74</td>\n      <td>8.73</td>\n      <td>7.10</td>\n      <td>8.21</td>\n      <td>...</td>\n      <td>1</td>\n      <td>0</td>\n      <td>0</td>\n      <td>1</td>\n      <td>0</td>\n      <td>0</td>\n      <td>0</td>\n      <td>1</td>\n      <td>0</td>\n      <td>0</td>\n    </tr>\n    <tr>\n      <th>2</th>\n      <td>3</td>\n      <td>22</td>\n      <td>5.1</td>\n      <td>6.7</td>\n      <td>3.9</td>\n      <td>5</td>\n      <td>53</td>\n      <td>20.00</td>\n      <td>20.47</td>\n      <td>6.88</td>\n      <td>...</td>\n      <td>1</td>\n      <td>0</td>\n      <td>0</td>\n      <td>0</td>\n      <td>0</td>\n      <td>0</td>\n      <td>1</td>\n      <td>0</td>\n      <td>1</td>\n      <td>0</td>\n    </tr>\n    <tr>\n      <th>3</th>\n      <td>4</td>\n      <td>24</td>\n      <td>6.3</td>\n      <td>8.6</td>\n      <td>2.8</td>\n      <td>4</td>\n      <td>55</td>\n      <td>19.82</td>\n      <td>4.08</td>\n      <td>6.69</td>\n      <td>...</td>\n      <td>0</td>\n      <td>0</td>\n      <td>1</td>\n      <td>0</td>\n      <td>0</td>\n      <td>0</td>\n      <td>1</td>\n      <td>0</td>\n      <td>0</td>\n      <td>1</td>\n    </tr>\n    <tr>\n      <th>4</th>\n      <td>5</td>\n      <td>20</td>\n      <td>4.7</td>\n      <td>2.7</td>\n      <td>2.7</td>\n      <td>0</td>\n      <td>85</td>\n      <td>20.98</td>\n      <td>6.12</td>\n      <td>8.98</td>\n      <td>...</td>\n      <td>1</td>\n      <td>0</td>\n      <td>0</td>\n      <td>0</td>\n      <td>0</td>\n      <td>0</td>\n      <td>1</td>\n      <td>1</td>\n      <td>0</td>\n      <td>0</td>\n    </tr>\n  </tbody>\n</table>\n<p>5 rows × 21 columns</p>\n</div>"
     },
     "execution_count": 142,
     "metadata": {},
     "output_type": "execute_result"
    }
   ],
   "source": [
    "mapping_university_year = {\"1st Year\": 0, \"2nd Year\": 1, \"3rd Year\": 2, \"4th Year\": 3}\n",
    "mapping_gender = {\"Male\": 0, \"Female\": 1, \"Other\": 2}\n",
    "mapping_sleep_quality = {\"bad\": 0, \"normal\": 1, \"good\": 2}\n",
    "\n",
    "df[\"Gender\"] = df[\"Gender\"].map(mapping_gender)\n",
    "df[\"University_Year\"] = df[\"University_Year\"].map(mapping_university_year)\n",
    "df[\"Sleep_Quality\"] = df[\"Sleep_Quality\"].map(mapping_sleep_quality)\n",
    "df.drop(columns=[\"Student_ID\"])\n",
    "\n",
    "dummy_df = pd.get_dummies(df, columns=[\"Gender\", \"University_Year\", \"Sleep_Quality\"], dtype=int).copy()\n",
    "dummy_df.head()"
   ],
   "metadata": {
    "collapsed": false,
    "ExecuteTime": {
     "end_time": "2024-12-03T10:47:26.269353Z",
     "start_time": "2024-12-03T10:47:26.257365Z"
    }
   },
   "id": "91b875dbdb3e2463"
  },
  {
   "cell_type": "code",
   "execution_count": 143,
   "outputs": [],
   "source": [
    "new_df = dummy_df.copy()\n",
    "new_df.head()\n",
    "\n",
    "y = new_df[[\"Sleep_Quality_0\"]].copy()\n",
    "x=new_df.drop(\n",
    "    [\"Sleep_Quality_0\", \"Sleep_Quality_1\", \"Sleep_Quality_2\"],\n",
    "    axis=1\n",
    ").copy()"
   ],
   "metadata": {
    "collapsed": false,
    "ExecuteTime": {
     "end_time": "2024-12-03T10:47:58.669020Z",
     "start_time": "2024-12-03T10:47:58.656458Z"
    }
   },
   "id": "3af2b56b6651c9b"
  },
  {
   "cell_type": "code",
   "execution_count": 144,
   "outputs": [
    {
     "name": "stdout",
     "output_type": "stream",
     "text": [
      "Random State 3 Accuracy Matrix:\n",
      "[[71.25 71.25 71.25 71.25 71.25 71.25 71.25 71.25 71.25]\n",
      " [71.25 71.25 68.75 68.75 68.75 68.75 68.75 68.75 68.75]\n",
      " [71.25 71.25 70.   67.5  68.75 66.25 66.25 66.25 66.25]\n",
      " [71.25 71.25 70.   70.   67.5  68.75 66.25 66.25 67.5 ]\n",
      " [71.25 71.25 70.   70.   66.25 63.75 65.   62.5  62.5 ]\n",
      " [71.25 71.25 70.   70.   66.25 66.25 63.75 65.   62.5 ]\n",
      " [71.25 71.25 70.   70.   66.25 66.25 65.   62.5  63.75]\n",
      " [71.25 71.25 70.   70.   66.25 66.25 65.   62.5  63.75]\n",
      " [71.25 71.25 70.   70.   66.25 66.25 65.   62.5  63.75]\n",
      " [71.25 71.25 70.   70.   66.25 66.25 65.   62.5  63.75]]\n",
      "\n",
      "Random State 30 Accuracy Matrix:\n",
      "[[75.   75.   75.   75.   75.   75.   75.   75.   75.  ]\n",
      " [75.   75.   75.   75.   75.   75.   75.   75.   75.  ]\n",
      " [75.   75.   75.   55.   56.25 56.25 56.25 56.25 56.25]\n",
      " [75.   75.   75.   55.   56.25 70.   70.   70.   70.  ]\n",
      " [75.   75.   75.   55.   56.25 70.   67.5  67.5  67.5 ]\n",
      " [75.   75.   75.   55.   56.25 70.   67.5  60.   60.  ]\n",
      " [75.   75.   75.   55.   56.25 70.   67.5  60.   60.  ]\n",
      " [75.   75.   75.   55.   56.25 70.   67.5  60.   60.  ]\n",
      " [75.   75.   75.   55.   56.25 70.   67.5  60.   60.  ]\n",
      " [75.   75.   75.   55.   56.25 70.   67.5  60.   60.  ]]\n",
      "Random State 300 Accuracy Matrix:\n",
      "[[63.75 63.75 63.75 63.75 63.75 63.75 63.75 63.75 63.75]\n",
      " [63.75 63.75 63.75 63.75 63.75 63.75 63.75 63.75 63.75]\n",
      " [63.75 63.75 61.25 58.75 58.75 65.   65.   65.   65.  ]\n",
      " [63.75 63.75 61.25 61.25 58.75 58.75 61.25 61.25 61.25]\n",
      " [63.75 63.75 61.25 61.25 58.75 58.75 61.25 61.25 63.75]\n",
      " [63.75 63.75 61.25 61.25 58.75 58.75 61.25 61.25 63.75]\n",
      " [63.75 63.75 61.25 61.25 58.75 58.75 61.25 61.25 63.75]\n",
      " [63.75 63.75 61.25 61.25 58.75 58.75 61.25 61.25 63.75]\n",
      " [63.75 63.75 61.25 61.25 58.75 58.75 61.25 61.25 63.75]\n",
      " [63.75 63.75 61.25 61.25 58.75 58.75 61.25 61.25 63.75]]\n",
      "\n",
      "Averaged Accuracy Matrix:\n",
      "[[70.   70.   70.   70.   70.   70.   70.   70.   70.  ]\n",
      " [70.   70.   69.17 69.17 69.17 69.17 69.17 69.17 69.17]\n",
      " [70.   70.   68.75 60.42 61.25 62.5  62.5  62.5  62.5 ]\n",
      " [70.   70.   68.75 62.08 60.83 65.83 65.83 65.83 66.25]\n",
      " [70.   70.   68.75 62.08 60.42 64.17 64.58 63.75 64.58]\n",
      " [70.   70.   68.75 62.08 60.42 65.   64.17 62.08 62.08]\n",
      " [70.   70.   68.75 62.08 60.42 65.   64.58 61.25 62.5 ]\n",
      " [70.   70.   68.75 62.08 60.42 65.   64.58 61.25 62.5 ]\n",
      " [70.   70.   68.75 62.08 60.42 65.   64.58 61.25 62.5 ]\n",
      " [70.   70.   68.75 62.08 60.42 65.   64.58 61.25 62.5 ]]\n",
      "\n",
      "Best Parameters Across All Random States:\n",
      "  Average Best max_depth: 1\n",
      "  Average Best max_leaf_nodes: 2\n",
      "  Average Best Accuracy: 70.0%\n"
     ]
    }
   ],
   "source": [
    "max_depth_range = range(1, 11)  # max_depth 從 1 到 10\n",
    "max_leaf_nodes_range = range(2, 11)  # max_leaf_nodes 從 2 到 10\n",
    "\n",
    "# 分割數據 (80% training, 20% testing)\n",
    "x_train, x_test, y_train, y_test = train_test_split(\n",
    "    x, y, test_size=0.2, random_state=3\n",
    ")\n",
    "\n",
    "# 儲存各個 random_state 的結果\n",
    "matrices = []  # 存放每個 random_state 的準確度矩陣\n",
    "\n",
    "# 測試不同的 random_state\n",
    "for random_state in [3, 30, 300]:\n",
    "    x_train_tuning, x_valid, y_train_tuning, y_valid = train_test_split(\n",
    "        x_train, y_train, test_size=0.2, random_state=random_state\n",
    "    )\n",
    "\n",
    "    # 建立一個空矩陣來存放準確度\n",
    "    acc_matrix = np.zeros((len(max_depth_range), len(max_leaf_nodes_range)))\n",
    "\n",
    "    for i, max_depth in enumerate(max_depth_range):\n",
    "        for j, max_leaf_nodes in enumerate(max_leaf_nodes_range):\n",
    "            # 初始化並訓練決策樹模型\n",
    "            model_cart = DecisionTreeClassifier(\n",
    "                criterion='gini',\n",
    "                max_depth=max_depth,\n",
    "                max_leaf_nodes=max_leaf_nodes,\n",
    "                min_samples_leaf=1,\n",
    "                random_state=4  # 固定隨機狀態以確保每次結果一致\n",
    "            )\n",
    "            model_cart.fit(x_train_tuning, y_train_tuning)  # 訓練模型\n",
    "\n",
    "            # 預測並計算驗證準確度\n",
    "            prediction = model_cart.predict(x_valid)\n",
    "            valid_acc = accuracy_score(y_valid, prediction)\n",
    "            acc_matrix[i, j] = valid_acc * 100  # 將準確度轉為百分比格式\n",
    "\n",
    "    matrices.append(acc_matrix)\n",
    "\n",
    "    # 印出當前 random_state 的準確度矩陣\n",
    "    print(f\"Random State {random_state} Accuracy Matrix:\")\n",
    "    print(np.round(acc_matrix, 2))\n",
    "    print()\n",
    "\n",
    "# 計算平均矩陣\n",
    "average_matrix = np.mean(matrices, axis=0)\n",
    "\n",
    "# 找出平均矩陣的最佳值與其索引\n",
    "max_avg_acc = average_matrix.max()\n",
    "max_avg_idx = np.unravel_index(average_matrix.argmax(), average_matrix.shape)\n",
    "best_avg_depth = max_depth_range[max_avg_idx[0]]\n",
    "best_avg_leaf_nodes = max_leaf_nodes_range[max_avg_idx[1]]\n",
    "\n",
    "# 印出平均矩陣與最佳參數\n",
    "print(\"Averaged Accuracy Matrix:\")\n",
    "print(np.round(average_matrix, 2))\n",
    "print(f\"\\nBest Parameters Across All Random States:\")\n",
    "print(f\"  Average Best max_depth: {best_avg_depth}\")\n",
    "print(f\"  Average Best max_leaf_nodes: {best_avg_leaf_nodes}\")\n",
    "print(f\"  Average Best Accuracy: {round(max_avg_acc, 2)}%\")"
   ],
   "metadata": {
    "collapsed": false,
    "ExecuteTime": {
     "end_time": "2024-12-03T10:48:11.545111Z",
     "start_time": "2024-12-03T10:48:10.951761Z"
    }
   },
   "id": "44e42868bb497353"
  },
  {
   "cell_type": "code",
   "execution_count": 145,
   "outputs": [
    {
     "name": "stdout",
     "output_type": "stream",
     "text": [
      "Testing ACC: 64.0\n",
      "Testing f1s: 21.74\n",
      "Testing pre: 50.0\n",
      "Testing sen: 13.89\n",
      "Testing spe: 92.19\n"
     ]
    },
    {
     "data": {
      "text/plain": "<sklearn.metrics._plot.confusion_matrix.ConfusionMatrixDisplay at 0x13abc7c10>"
     },
     "execution_count": 145,
     "metadata": {},
     "output_type": "execute_result"
    },
    {
     "data": {
      "text/plain": "<Figure size 640x480 with 2 Axes>",
      "image/png": "[encoded data removed]"
     },
     "metadata": {},
     "output_type": "display_data"
    }
   ],
   "source": [
    "# 5.3 Evaluate with testing data set\n",
    "x_train, x_test, y_train, y_test = train_test_split(\n",
    "    x, y, test_size=0.2, random_state=3)\n",
    "\n",
    "# 建立決策數\n",
    "HHmodel=DecisionTreeClassifier(\n",
    "    criterion='gini',\n",
    "    max_depth=2,\n",
    "    max_leaf_nodes=3,\n",
    "    min_samples_leaf=1,\n",
    "    random_state=4\n",
    ")\n",
    "HHmodel.fit(x_train,y_train)\n",
    "final_model_testing_prediction=HHmodel.predict(x_test)\n",
    "final_model_testing_acc=accuracy_score(y_test,final_model_testing_prediction)\n",
    "final_model_testing_f1s=f1_score(y_test,final_model_testing_prediction,pos_label=1)\n",
    "final_model_testing_pre=precision_score(y_test,final_model_testing_prediction,pos_label=1)\n",
    "final_model_testing_sen=recall_score(y_test,final_model_testing_prediction,pos_label=1)\n",
    "final_model_testing_spe=recall_score(y_test,final_model_testing_prediction,pos_label=0)\n",
    "final_model_testing_cm=confusion_matrix(y_test,final_model_testing_prediction)\n",
    "\n",
    "#print result\n",
    "print('Testing ACC:',round(final_model_testing_acc*100,2))\n",
    "print('Testing f1s:',round(final_model_testing_f1s*100,2))\n",
    "print('Testing pre:',round(final_model_testing_pre*100,2))\n",
    "print('Testing sen:',round(final_model_testing_sen*100,2))\n",
    "print('Testing spe:',round(final_model_testing_spe*100,2))\n",
    "ConfusionMatrixDisplay(final_model_testing_cm,display_labels=[\"0 not survived\",\"1 survived\"]).plot()"
   ],
   "metadata": {
    "collapsed": false,
    "ExecuteTime": {
     "end_time": "2024-12-03T10:49:07.913363Z",
     "start_time": "2024-12-03T10:49:07.823526Z"
    }
   },
   "id": "e24fe7fd5e0dd506"
  },
  {
   "cell_type": "code",
   "execution_count": null,
   "outputs": [],
   "source": [],
   "metadata": {
    "collapsed": false
   },
   "id": "c3409dca428f232f"
  }
 ],
 "metadata": {
  "kernelspec": {
   "display_name": "Python 3",
   "language": "python",
   "name": "python3"
  },
  "language_info": {
   "codemirror_mode": {
    "name": "ipython",
    "version": 2
   },
   "file_extension": ".py",
   "mimetype": "text/x-python",
   "name": "python",
   "nbconvert_exporter": "python",
   "pygments_lexer": "ipython2",
   "version": "2.7.6"
  }
 },
 "nbformat": 4,
 "nbformat_minor": 5
}
