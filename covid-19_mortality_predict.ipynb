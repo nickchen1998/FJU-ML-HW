{
 "cells": [
  {
   "cell_type": "markdown",
   "source": [
    "# 一、資料集介紹\n",
    "\n",
    "資料集網址：[Covid Data](https://www.kaggle.com/datasets/meirnizri/covid19-dataset)\n",
    "預測問題：病患在確定得到 Covid Data 後是否會死亡\n",
    "目標變數：DATE_DIED（紀錄病人死亡日期，如果沒有死亡則輸入 9999-99-99 表示。）"
   ],
   "metadata": {
    "collapsed": false
   },
   "id": "6aaecd5556c13c6d"
  },
  {
   "cell_type": "markdown",
   "source": [
    "# 二、變數敘述統計＆資料前處理"
   ],
   "metadata": {
    "collapsed": false
   },
   "id": "fa91acbfdc174ae1"
  },
  {
   "cell_type": "markdown",
   "source": [
    "## (一)、變數敘述統計"
   ],
   "metadata": {
    "collapsed": false
   },
   "id": "5e797ef74ea5c68e"
  },
  {
   "cell_type": "code",
   "execution_count": 115,
   "outputs": [
    {
     "data": {
      "text/plain": "              USMER  MEDICAL_UNIT           SEX  PATIENT_TYPE       INTUBED  \\\ncount  1.048575e+06  1.048575e+06  1.048575e+06  1.048575e+06  1.048575e+06   \nmean   1.632194e+00  8.980565e+00  1.499259e+00  1.190765e+00  7.952288e+01   \nstd    4.822084e-01  3.723278e+00  4.999997e-01  3.929041e-01  3.686889e+01   \nmin    1.000000e+00  1.000000e+00  1.000000e+00  1.000000e+00  1.000000e+00   \n25%    1.000000e+00  4.000000e+00  1.000000e+00  1.000000e+00  9.700000e+01   \n50%    2.000000e+00  1.200000e+01  1.000000e+00  1.000000e+00  9.700000e+01   \n75%    2.000000e+00  1.200000e+01  2.000000e+00  1.000000e+00  9.700000e+01   \nmax    2.000000e+00  1.300000e+01  2.000000e+00  2.000000e+00  9.900000e+01   \n\n          PNEUMONIA           AGE      PREGNANT      DIABETES          COPD  \\\ncount  1.048575e+06  1.048575e+06  1.048575e+06  1.048575e+06  1.048575e+06   \nmean   3.346831e+00  4.179410e+01  4.976558e+01  2.186404e+00  2.260569e+00   \nstd    1.191288e+01  1.690739e+01  4.751073e+01  5.424242e+00  5.132258e+00   \nmin    1.000000e+00  0.000000e+00  1.000000e+00  1.000000e+00  1.000000e+00   \n25%    2.000000e+00  3.000000e+01  2.000000e+00  2.000000e+00  2.000000e+00   \n50%    2.000000e+00  4.000000e+01  9.700000e+01  2.000000e+00  2.000000e+00   \n75%    2.000000e+00  5.300000e+01  9.700000e+01  2.000000e+00  2.000000e+00   \nmax    9.900000e+01  1.210000e+02  9.800000e+01  9.800000e+01  9.800000e+01   \n\n             ASTHMA       INMSUPR  HIPERTENSION  OTHER_DISEASE  \\\ncount  1.048575e+06  1.048575e+06  1.048575e+06   1.048575e+06   \nmean   2.242626e+00  2.298132e+00  2.128989e+00   2.435143e+00   \nstd    5.114089e+00  5.462843e+00  5.236397e+00   6.646676e+00   \nmin    1.000000e+00  1.000000e+00  1.000000e+00   1.000000e+00   \n25%    2.000000e+00  2.000000e+00  2.000000e+00   2.000000e+00   \n50%    2.000000e+00  2.000000e+00  2.000000e+00   2.000000e+00   \n75%    2.000000e+00  2.000000e+00  2.000000e+00   2.000000e+00   \nmax    9.800000e+01  9.800000e+01  9.800000e+01   9.800000e+01   \n\n       CARDIOVASCULAR       OBESITY  RENAL_CHRONIC       TOBACCO  \\\ncount    1.048575e+06  1.048575e+06   1.048575e+06  1.048575e+06   \nmean     2.261810e+00  2.125176e+00   2.257180e+00  2.214333e+00   \nstd      5.194850e+00  5.175445e+00   5.135354e+00  5.323097e+00   \nmin      1.000000e+00  1.000000e+00   1.000000e+00  1.000000e+00   \n25%      2.000000e+00  2.000000e+00   2.000000e+00  2.000000e+00   \n50%      2.000000e+00  2.000000e+00   2.000000e+00  2.000000e+00   \n75%      2.000000e+00  2.000000e+00   2.000000e+00  2.000000e+00   \nmax      9.800000e+01  9.800000e+01   9.800000e+01  9.800000e+01   \n\n       CLASIFFICATION_FINAL           ICU  \ncount          1.048575e+06  1.048575e+06  \nmean           5.305653e+00  7.955397e+01  \nstd            1.881165e+00  3.682307e+01  \nmin            1.000000e+00  1.000000e+00  \n25%            3.000000e+00  9.700000e+01  \n50%            6.000000e+00  9.700000e+01  \n75%            7.000000e+00  9.700000e+01  \nmax            7.000000e+00  9.900000e+01  ",
      "text/html": "<div>\n<style scoped>\n    .dataframe tbody tr th:only-of-type {\n        vertical-align: middle;\n    }\n\n    .dataframe tbody tr th {\n        vertical-align: top;\n    }\n\n    .dataframe thead th {\n        text-align: right;\n    }\n</style>\n<table border=\"1\" class=\"dataframe\">\n  <thead>\n    <tr style=\"text-align: right;\">\n      <th></th>\n      <th>USMER</th>\n      <th>MEDICAL_UNIT</th>\n      <th>SEX</th>\n      <th>PATIENT_TYPE</th>\n      <th>INTUBED</th>\n      <th>PNEUMONIA</th>\n      <th>AGE</th>\n      <th>PREGNANT</th>\n      <th>DIABETES</th>\n      <th>COPD</th>\n      <th>ASTHMA</th>\n      <th>INMSUPR</th>\n      <th>HIPERTENSION</th>\n      <th>OTHER_DISEASE</th>\n      <th>CARDIOVASCULAR</th>\n      <th>OBESITY</th>\n      <th>RENAL_CHRONIC</th>\n      <th>TOBACCO</th>\n      <th>CLASIFFICATION_FINAL</th>\n      <th>ICU</th>\n    </tr>\n  </thead>\n  <tbody>\n    <tr>\n      <th>count</th>\n      <td>1.048575e+06</td>\n      <td>1.048575e+06</td>\n      <td>1.048575e+06</td>\n      <td>1.048575e+06</td>\n      <td>1.048575e+06</td>\n      <td>1.048575e+06</td>\n      <td>1.048575e+06</td>\n      <td>1.048575e+06</td>\n      <td>1.048575e+06</td>\n      <td>1.048575e+06</td>\n      <td>1.048575e+06</td>\n      <td>1.048575e+06</td>\n      <td>1.048575e+06</td>\n      <td>1.048575e+06</td>\n      <td>1.048575e+06</td>\n      <td>1.048575e+06</td>\n      <td>1.048575e+06</td>\n      <td>1.048575e+06</td>\n      <td>1.048575e+06</td>\n      <td>1.048575e+06</td>\n    </tr>\n    <tr>\n      <th>mean</th>\n      <td>1.632194e+00</td>\n      <td>8.980565e+00</td>\n      <td>1.499259e+00</td>\n      <td>1.190765e+00</td>\n      <td>7.952288e+01</td>\n      <td>3.346831e+00</td>\n      <td>4.179410e+01</td>\n      <td>4.976558e+01</td>\n      <td>2.186404e+00</td>\n      <td>2.260569e+00</td>\n      <td>2.242626e+00</td>\n      <td>2.298132e+00</td>\n      <td>2.128989e+00</td>\n      <td>2.435143e+00</td>\n      <td>2.261810e+00</td>\n      <td>2.125176e+00</td>\n      <td>2.257180e+00</td>\n      <td>2.214333e+00</td>\n      <td>5.305653e+00</td>\n      <td>7.955397e+01</td>\n    </tr>\n    <tr>\n      <th>std</th>\n      <td>4.822084e-01</td>\n      <td>3.723278e+00</td>\n      <td>4.999997e-01</td>\n      <td>3.929041e-01</td>\n      <td>3.686889e+01</td>\n      <td>1.191288e+01</td>\n      <td>1.690739e+01</td>\n      <td>4.751073e+01</td>\n      <td>5.424242e+00</td>\n      <td>5.132258e+00</td>\n      <td>5.114089e+00</td>\n      <td>5.462843e+00</td>\n      <td>5.236397e+00</td>\n      <td>6.646676e+00</td>\n      <td>5.194850e+00</td>\n      <td>5.175445e+00</td>\n      <td>5.135354e+00</td>\n      <td>5.323097e+00</td>\n      <td>1.881165e+00</td>\n      <td>3.682307e+01</td>\n    </tr>\n    <tr>\n      <th>min</th>\n      <td>1.000000e+00</td>\n      <td>1.000000e+00</td>\n      <td>1.000000e+00</td>\n      <td>1.000000e+00</td>\n      <td>1.000000e+00</td>\n      <td>1.000000e+00</td>\n      <td>0.000000e+00</td>\n      <td>1.000000e+00</td>\n      <td>1.000000e+00</td>\n      <td>1.000000e+00</td>\n      <td>1.000000e+00</td>\n      <td>1.000000e+00</td>\n      <td>1.000000e+00</td>\n      <td>1.000000e+00</td>\n      <td>1.000000e+00</td>\n      <td>1.000000e+00</td>\n      <td>1.000000e+00</td>\n      <td>1.000000e+00</td>\n      <td>1.000000e+00</td>\n      <td>1.000000e+00</td>\n    </tr>\n    <tr>\n      <th>25%</th>\n      <td>1.000000e+00</td>\n      <td>4.000000e+00</td>\n      <td>1.000000e+00</td>\n      <td>1.000000e+00</td>\n      <td>9.700000e+01</td>\n      <td>2.000000e+00</td>\n      <td>3.000000e+01</td>\n      <td>2.000000e+00</td>\n      <td>2.000000e+00</td>\n      <td>2.000000e+00</td>\n      <td>2.000000e+00</td>\n      <td>2.000000e+00</td>\n      <td>2.000000e+00</td>\n      <td>2.000000e+00</td>\n      <td>2.000000e+00</td>\n      <td>2.000000e+00</td>\n      <td>2.000000e+00</td>\n      <td>2.000000e+00</td>\n      <td>3.000000e+00</td>\n      <td>9.700000e+01</td>\n    </tr>\n    <tr>\n      <th>50%</th>\n      <td>2.000000e+00</td>\n      <td>1.200000e+01</td>\n      <td>1.000000e+00</td>\n      <td>1.000000e+00</td>\n      <td>9.700000e+01</td>\n      <td>2.000000e+00</td>\n      <td>4.000000e+01</td>\n      <td>9.700000e+01</td>\n      <td>2.000000e+00</td>\n      <td>2.000000e+00</td>\n      <td>2.000000e+00</td>\n      <td>2.000000e+00</td>\n      <td>2.000000e+00</td>\n      <td>2.000000e+00</td>\n      <td>2.000000e+00</td>\n      <td>2.000000e+00</td>\n      <td>2.000000e+00</td>\n      <td>2.000000e+00</td>\n      <td>6.000000e+00</td>\n      <td>9.700000e+01</td>\n    </tr>\n    <tr>\n      <th>75%</th>\n      <td>2.000000e+00</td>\n      <td>1.200000e+01</td>\n      <td>2.000000e+00</td>\n      <td>1.000000e+00</td>\n      <td>9.700000e+01</td>\n      <td>2.000000e+00</td>\n      <td>5.300000e+01</td>\n      <td>9.700000e+01</td>\n      <td>2.000000e+00</td>\n      <td>2.000000e+00</td>\n      <td>2.000000e+00</td>\n      <td>2.000000e+00</td>\n      <td>2.000000e+00</td>\n      <td>2.000000e+00</td>\n      <td>2.000000e+00</td>\n      <td>2.000000e+00</td>\n      <td>2.000000e+00</td>\n      <td>2.000000e+00</td>\n      <td>7.000000e+00</td>\n      <td>9.700000e+01</td>\n    </tr>\n    <tr>\n      <th>max</th>\n      <td>2.000000e+00</td>\n      <td>1.300000e+01</td>\n      <td>2.000000e+00</td>\n      <td>2.000000e+00</td>\n      <td>9.900000e+01</td>\n      <td>9.900000e+01</td>\n      <td>1.210000e+02</td>\n      <td>9.800000e+01</td>\n      <td>9.800000e+01</td>\n      <td>9.800000e+01</td>\n      <td>9.800000e+01</td>\n      <td>9.800000e+01</td>\n      <td>9.800000e+01</td>\n      <td>9.800000e+01</td>\n      <td>9.800000e+01</td>\n      <td>9.800000e+01</td>\n      <td>9.800000e+01</td>\n      <td>9.800000e+01</td>\n      <td>7.000000e+00</td>\n      <td>9.900000e+01</td>\n    </tr>\n  </tbody>\n</table>\n</div>"
     },
     "execution_count": 115,
     "metadata": {},
     "output_type": "execute_result"
    }
   ],
   "source": [
    "# 針對連續性變數做敘述統計\n",
    "import pandas as pd\n",
    "\n",
    "df = pd.read_csv(\"./covid_data.csv\")\n",
    "df.describe()"
   ],
   "metadata": {
    "collapsed": false,
    "ExecuteTime": {
     "end_time": "2024-12-20T12:22:31.292264Z",
     "start_time": "2024-12-20T12:22:30.668456Z"
    }
   },
   "id": "initial_id"
  },
  {
   "cell_type": "code",
   "execution_count": 116,
   "outputs": [
    {
     "name": "stdout",
     "output_type": "stream",
     "text": [
      "<class 'pandas.core.frame.DataFrame'>\n",
      "RangeIndex: 1048575 entries, 0 to 1048574\n",
      "Data columns (total 21 columns):\n",
      " #   Column                Non-Null Count    Dtype \n",
      "---  ------                --------------    ----- \n",
      " 0   USMER                 1048575 non-null  int64 \n",
      " 1   MEDICAL_UNIT          1048575 non-null  int64 \n",
      " 2   SEX                   1048575 non-null  int64 \n",
      " 3   PATIENT_TYPE          1048575 non-null  int64 \n",
      " 4   DATE_DIED             1048575 non-null  object\n",
      " 5   INTUBED               1048575 non-null  int64 \n",
      " 6   PNEUMONIA             1048575 non-null  int64 \n",
      " 7   AGE                   1048575 non-null  int64 \n",
      " 8   PREGNANT              1048575 non-null  int64 \n",
      " 9   DIABETES              1048575 non-null  int64 \n",
      " 10  COPD                  1048575 non-null  int64 \n",
      " 11  ASTHMA                1048575 non-null  int64 \n",
      " 12  INMSUPR               1048575 non-null  int64 \n",
      " 13  HIPERTENSION          1048575 non-null  int64 \n",
      " 14  OTHER_DISEASE         1048575 non-null  int64 \n",
      " 15  CARDIOVASCULAR        1048575 non-null  int64 \n",
      " 16  OBESITY               1048575 non-null  int64 \n",
      " 17  RENAL_CHRONIC         1048575 non-null  int64 \n",
      " 18  TOBACCO               1048575 non-null  int64 \n",
      " 19  CLASIFFICATION_FINAL  1048575 non-null  int64 \n",
      " 20  ICU                   1048575 non-null  int64 \n",
      "dtypes: int64(20), object(1)\n",
      "memory usage: 168.0+ MB\n"
     ]
    }
   ],
   "source": [
    "import pandas as pd\n",
    "\n",
    "df = pd.read_csv(\"./covid_data.csv\")\n",
    "df.info()"
   ],
   "metadata": {
    "collapsed": false,
    "ExecuteTime": {
     "end_time": "2024-12-20T12:22:32.455483Z",
     "start_time": "2024-12-20T12:22:31.968050Z"
    }
   },
   "id": "bf9ff13bac3fba64"
  },
  {
   "cell_type": "code",
   "execution_count": 117,
   "outputs": [
    {
     "name": "stdout",
     "output_type": "stream",
     "text": [
      "<class 'pandas.core.frame.DataFrame'>\n",
      "Index: 76749 entries, 5 to 1048569\n",
      "Data columns (total 21 columns):\n",
      " #   Column                Non-Null Count  Dtype \n",
      "---  ------                --------------  ----- \n",
      " 0   USMER                 76749 non-null  int64 \n",
      " 1   MEDICAL_UNIT          76749 non-null  int64 \n",
      " 2   SEX                   76749 non-null  int64 \n",
      " 3   PATIENT_TYPE          76749 non-null  int64 \n",
      " 4   DATE_DIED             76749 non-null  object\n",
      " 5   INTUBED               76749 non-null  int64 \n",
      " 6   PNEUMONIA             76749 non-null  int64 \n",
      " 7   AGE                   76749 non-null  int64 \n",
      " 8   PREGNANT              76749 non-null  int64 \n",
      " 9   DIABETES              76749 non-null  int64 \n",
      " 10  COPD                  76749 non-null  int64 \n",
      " 11  ASTHMA                76749 non-null  int64 \n",
      " 12  INMSUPR               76749 non-null  int64 \n",
      " 13  HIPERTENSION          76749 non-null  int64 \n",
      " 14  OTHER_DISEASE         76749 non-null  int64 \n",
      " 15  CARDIOVASCULAR        76749 non-null  int64 \n",
      " 16  OBESITY               76749 non-null  int64 \n",
      " 17  RENAL_CHRONIC         76749 non-null  int64 \n",
      " 18  TOBACCO               76749 non-null  int64 \n",
      " 19  CLASIFFICATION_FINAL  76749 non-null  int64 \n",
      " 20  ICU                   76749 non-null  int64 \n",
      "dtypes: int64(20), object(1)\n",
      "memory usage: 12.9+ MB\n"
     ]
    }
   ],
   "source": [
    "import pandas as pd\n",
    "\n",
    "# 讀取資料集\n",
    "df = pd.read_csv('covid_data.csv')\n",
    "\n",
    "# 定義缺失值的條件（97 或 99）\n",
    "missing_values = [97, 98, 99]\n",
    "\n",
    "# 遍歷所有欄位，去除包含 97 或 99 的行\n",
    "df_cleaned = df[~df.isin(missing_values).any(axis=1)]\n",
    "\n",
    "df_cleaned.info()"
   ],
   "metadata": {
    "collapsed": false,
    "ExecuteTime": {
     "end_time": "2024-12-20T12:22:33.594967Z",
     "start_time": "2024-12-20T12:22:32.985736Z"
    }
   },
   "id": "d0c038260ba16ee9"
  },
  {
   "cell_type": "code",
   "execution_count": 118,
   "outputs": [
    {
     "name": "stdout",
     "output_type": "stream",
     "text": [
      "<class 'pandas.core.frame.DataFrame'>\n",
      "Index: 76749 entries, 5 to 1048569\n",
      "Data columns (total 21 columns):\n",
      " #   Column                Non-Null Count  Dtype \n",
      "---  ------                --------------  ----- \n",
      " 0   USMER                 76749 non-null  object\n",
      " 1   MEDICAL_UNIT          76749 non-null  object\n",
      " 2   SEX                   76749 non-null  object\n",
      " 3   PATIENT_TYPE          76749 non-null  object\n",
      " 4   DATE_DIED             76749 non-null  object\n",
      " 5   INTUBED               76749 non-null  object\n",
      " 6   PNEUMONIA             76749 non-null  object\n",
      " 7   AGE                   76749 non-null  int64 \n",
      " 8   PREGNANT              76749 non-null  object\n",
      " 9   DIABETES              76749 non-null  object\n",
      " 10  COPD                  76749 non-null  object\n",
      " 11  ASTHMA                76749 non-null  object\n",
      " 12  INMSUPR               76749 non-null  object\n",
      " 13  HIPERTENSION          76749 non-null  object\n",
      " 14  OTHER_DISEASE         76749 non-null  object\n",
      " 15  CARDIOVASCULAR        76749 non-null  object\n",
      " 16  OBESITY               76749 non-null  object\n",
      " 17  RENAL_CHRONIC         76749 non-null  object\n",
      " 18  TOBACCO               76749 non-null  object\n",
      " 19  CLASIFFICATION_FINAL  76749 non-null  object\n",
      " 20  ICU                   76749 non-null  object\n",
      "dtypes: int64(1), object(20)\n",
      "memory usage: 12.9+ MB\n"
     ]
    }
   ],
   "source": [
    "# 將所有欄位類型列為字典\n",
    "dtype_dict = {col: 'object' for col in df_cleaned.columns if col != 'AGE'}\n",
    "\n",
    "# 使用 astype() 轉換資料類型\n",
    "df_cleaned = df_cleaned.astype(dtype_dict)\n",
    "df_cleaned.info()"
   ],
   "metadata": {
    "collapsed": false,
    "ExecuteTime": {
     "end_time": "2024-12-20T12:22:34.208195Z",
     "start_time": "2024-12-20T12:22:34.158908Z"
    }
   },
   "id": "8a564575c9725e0c"
  },
  {
   "cell_type": "code",
   "execution_count": 119,
   "outputs": [
    {
     "data": {
      "text/plain": "IS_DIED\n0    52940\n1    23809\nName: count, dtype: int64"
     },
     "execution_count": 119,
     "metadata": {},
     "output_type": "execute_result"
    }
   ],
   "source": [
    "# 建立 IS_DIED 欄位：判斷 DATE_DIED 是否為 '9999-99-99'，是的話表示病患沒有死亡（顯示 0，反之則為 1）\n",
    "df_cleaned['IS_DIED'] = df_cleaned['DATE_DIED'].apply(lambda x: 0 if x == '9999-99-99' else 1)\n",
    "df_cleaned['IS_DIED'] = df_cleaned['IS_DIED'].astype('object')\n",
    "\n",
    "# 捨棄 DATE_DIED 欄位\n",
    "df_cleaned = df_cleaned.drop(columns=['DATE_DIED'])\n",
    "\n",
    "df_cleaned[\"IS_DIED\"].value_counts()"
   ],
   "metadata": {
    "collapsed": false,
    "ExecuteTime": {
     "end_time": "2024-12-20T12:22:35.043091Z",
     "start_time": "2024-12-20T12:22:35.006520Z"
    }
   },
   "id": "e1f0bcb03ad2efad"
  },
  {
   "cell_type": "code",
   "execution_count": 120,
   "outputs": [
    {
     "data": {
      "text/plain": "                Variable  \\\n0                  USMER   \n1           MEDICAL_UNIT   \n2                    SEX   \n3           PATIENT_TYPE   \n4                INTUBED   \n5              PNEUMONIA   \n6               PREGNANT   \n7               DIABETES   \n8                   COPD   \n9                 ASTHMA   \n10               INMSUPR   \n11          HIPERTENSION   \n12         OTHER_DISEASE   \n13        CARDIOVASCULAR   \n14               OBESITY   \n15         RENAL_CHRONIC   \n16               TOBACCO   \n17  CLASIFFICATION_FINAL   \n18                   ICU   \n19               IS_DIED   \n\n                                                                                                                 Code  \n0                                                                                                  1: 42080, 2: 34669  \n1   4: 36165, 12: 26005, 6: 5934, 9: 3141, 3: 1651, 8: 1225, 10: 1224, 5: 693, 11: 461, 7: 119, 13: 102, 2: 19, 1: 10  \n2                                                                                                            1: 76749  \n3                                                                                                            2: 76749  \n4                                                                                                  2: 65111, 1: 11638  \n5                                                                                                  1: 43579, 2: 33170  \n6                                                                                                   2: 74957, 1: 1792  \n7                                                                                                  2: 52446, 1: 24303  \n8                                                                                                   2: 73031, 1: 3718  \n9                                                                                                   2: 74066, 1: 2683  \n10                                                                                                  2: 73574, 1: 3175  \n11                                                                                                 2: 48493, 1: 28256  \n12                                                                                                  2: 71672, 1: 5077  \n13                                                                                                  2: 72790, 1: 3959  \n14                                                                                                 2: 59502, 1: 17247  \n15                                                                                                  2: 71939, 1: 4810  \n16                                                                                                  2: 73406, 1: 3343  \n17                                                       3: 39963, 7: 26777, 6: 6444, 5: 1985, 1: 741, 2: 590, 4: 249  \n18                                                                                                  2: 70772, 1: 5977  \n19                                                                                                 0: 52940, 1: 23809  ",
      "text/html": "<div>\n<style scoped>\n    .dataframe tbody tr th:only-of-type {\n        vertical-align: middle;\n    }\n\n    .dataframe tbody tr th {\n        vertical-align: top;\n    }\n\n    .dataframe thead th {\n        text-align: right;\n    }\n</style>\n<table border=\"1\" class=\"dataframe\">\n  <thead>\n    <tr style=\"text-align: right;\">\n      <th></th>\n      <th>Variable</th>\n      <th>Code</th>\n    </tr>\n  </thead>\n  <tbody>\n    <tr>\n      <th>0</th>\n      <td>USMER</td>\n      <td>1: 42080, 2: 34669</td>\n    </tr>\n    <tr>\n      <th>1</th>\n      <td>MEDICAL_UNIT</td>\n      <td>4: 36165, 12: 26005, 6: 5934, 9: 3141, 3: 1651, 8: 1225, 10: 1224, 5: 693, 11: 461, 7: 119, 13: 102, 2: 19, 1: 10</td>\n    </tr>\n    <tr>\n      <th>2</th>\n      <td>SEX</td>\n      <td>1: 76749</td>\n    </tr>\n    <tr>\n      <th>3</th>\n      <td>PATIENT_TYPE</td>\n      <td>2: 76749</td>\n    </tr>\n    <tr>\n      <th>4</th>\n      <td>INTUBED</td>\n      <td>2: 65111, 1: 11638</td>\n    </tr>\n    <tr>\n      <th>5</th>\n      <td>PNEUMONIA</td>\n      <td>1: 43579, 2: 33170</td>\n    </tr>\n    <tr>\n      <th>6</th>\n      <td>PREGNANT</td>\n      <td>2: 74957, 1: 1792</td>\n    </tr>\n    <tr>\n      <th>7</th>\n      <td>DIABETES</td>\n      <td>2: 52446, 1: 24303</td>\n    </tr>\n    <tr>\n      <th>8</th>\n      <td>COPD</td>\n      <td>2: 73031, 1: 3718</td>\n    </tr>\n    <tr>\n      <th>9</th>\n      <td>ASTHMA</td>\n      <td>2: 74066, 1: 2683</td>\n    </tr>\n    <tr>\n      <th>10</th>\n      <td>INMSUPR</td>\n      <td>2: 73574, 1: 3175</td>\n    </tr>\n    <tr>\n      <th>11</th>\n      <td>HIPERTENSION</td>\n      <td>2: 48493, 1: 28256</td>\n    </tr>\n    <tr>\n      <th>12</th>\n      <td>OTHER_DISEASE</td>\n      <td>2: 71672, 1: 5077</td>\n    </tr>\n    <tr>\n      <th>13</th>\n      <td>CARDIOVASCULAR</td>\n      <td>2: 72790, 1: 3959</td>\n    </tr>\n    <tr>\n      <th>14</th>\n      <td>OBESITY</td>\n      <td>2: 59502, 1: 17247</td>\n    </tr>\n    <tr>\n      <th>15</th>\n      <td>RENAL_CHRONIC</td>\n      <td>2: 71939, 1: 4810</td>\n    </tr>\n    <tr>\n      <th>16</th>\n      <td>TOBACCO</td>\n      <td>2: 73406, 1: 3343</td>\n    </tr>\n    <tr>\n      <th>17</th>\n      <td>CLASIFFICATION_FINAL</td>\n      <td>3: 39963, 7: 26777, 6: 6444, 5: 1985, 1: 741, 2: 590, 4: 249</td>\n    </tr>\n    <tr>\n      <th>18</th>\n      <td>ICU</td>\n      <td>2: 70772, 1: 5977</td>\n    </tr>\n    <tr>\n      <th>19</th>\n      <td>IS_DIED</td>\n      <td>0: 52940, 1: 23809</td>\n    </tr>\n  </tbody>\n</table>\n</div>"
     },
     "execution_count": 120,
     "metadata": {},
     "output_type": "execute_result"
    }
   ],
   "source": [
    "# 針對類別型變數做敘述統計\n",
    "import pandas as pd\n",
    "\n",
    "pd.set_option('display.max_colwidth', None)\n",
    "\n",
    "def generate_code_description(column):\n",
    "    return \", \".join([f\"{val}: {count}\" for val, count in df_cleaned[column].value_counts().items()])\n",
    "\n",
    "category_columns = df_cleaned.select_dtypes(include=['object']).columns\n",
    "summary = pd.DataFrame({\n",
    "    \"Variable\": category_columns,\n",
    "    \"Code\": [generate_code_description(col) for col in category_columns],\n",
    "})\n",
    "summary"
   ],
   "metadata": {
    "collapsed": false,
    "ExecuteTime": {
     "end_time": "2024-12-20T12:22:36.181649Z",
     "start_time": "2024-12-20T12:22:36.115782Z"
    }
   },
   "id": "b4b6a8c945c6014a"
  },
  {
   "cell_type": "markdown",
   "source": [
    "## (二)、資料前處理"
   ],
   "metadata": {
    "collapsed": false
   },
   "id": "43ea5b0e14b37d22"
  },
  {
   "metadata": {
    "ExecuteTime": {
     "end_time": "2024-12-20T12:22:38.864677Z",
     "start_time": "2024-12-20T12:22:38.674121Z"
    }
   },
   "cell_type": "code",
   "source": [
    "import pandas as pd\n",
    "from scipy.stats import chi2_contingency\n",
    "\n",
    "# 假設 df_cleaned 是目前的資料集\n",
    "target_var = 'IS_DIED'\n",
    "\n",
    "# 初始化列表來存儲卡方檢定結果\n",
    "chi2_results = []\n",
    "\n",
    "# 遍歷所有類別型欄位（排除目標變數 IS_DIED 本身）\n",
    "for col in df_cleaned.select_dtypes(include='object').columns:\n",
    "    if col != target_var:\n",
    "        # 建立列聯表（Contingency Table）\n",
    "        contingency_table = pd.crosstab(df_cleaned[col], df_cleaned[target_var])\n",
    "\n",
    "        # 卡方檢定\n",
    "        chi2, p, dof, _ = chi2_contingency(contingency_table)\n",
    "\n",
    "        # 存儲結果\n",
    "        chi2_results.append({\n",
    "            'Feature': col,\n",
    "            'Chi2 Statistic': chi2,\n",
    "            'p-value': round(p, 10),\n",
    "            'Significant (p < 0.05)': p < 0.05\n",
    "        })\n",
    "\n",
    "# 將結果整理為 DataFrame 並按 p-value 排序\n",
    "chi2_results_df = pd.DataFrame(chi2_results).sort_values(by='p-value', ascending=True)\n",
    "chi2_results_df\n"
   ],
   "id": "c07ff2529439b470",
   "outputs": [
    {
     "data": {
      "text/plain": "                 Feature  Chi2 Statistic       p-value  Significant (p < 0.05)\n0                  USMER      227.752176  0.000000e+00                    True\n15         RENAL_CHRONIC      360.018659  0.000000e+00                    True\n14               OBESITY      215.454691  0.000000e+00                    True\n13        CARDIOVASCULAR      104.198497  0.000000e+00                    True\n11          HIPERTENSION     2428.562226  0.000000e+00                    True\n17  CLASIFFICATION_FINAL     5282.884017  0.000000e+00                    True\n8                   COPD      187.846263  0.000000e+00                    True\n9                 ASTHMA       52.049811  0.000000e+00                    True\n6               PREGNANT      621.412488  0.000000e+00                    True\n5              PNEUMONIA     3326.443461  0.000000e+00                    True\n4                INTUBED    13685.732861  0.000000e+00                    True\n1           MEDICAL_UNIT     1414.277548  0.000000e+00                    True\n7               DIABETES     1976.485064  0.000000e+00                    True\n18                   ICU      514.968884  0.000000e+00                    True\n12         OTHER_DISEASE       31.765261  1.740000e-08                    True\n16               TOBACCO        2.902408  8.844734e-02                   False\n10               INMSUPR        2.402254  1.211606e-01                   False\n3           PATIENT_TYPE        0.000000  1.000000e+00                   False\n2                    SEX        0.000000  1.000000e+00                   False",
      "text/html": "<div>\n<style scoped>\n    .dataframe tbody tr th:only-of-type {\n        vertical-align: middle;\n    }\n\n    .dataframe tbody tr th {\n        vertical-align: top;\n    }\n\n    .dataframe thead th {\n        text-align: right;\n    }\n</style>\n<table border=\"1\" class=\"dataframe\">\n  <thead>\n    <tr style=\"text-align: right;\">\n      <th></th>\n      <th>Feature</th>\n      <th>Chi2 Statistic</th>\n      <th>p-value</th>\n      <th>Significant (p &lt; 0.05)</th>\n    </tr>\n  </thead>\n  <tbody>\n    <tr>\n      <th>0</th>\n      <td>USMER</td>\n      <td>227.752176</td>\n      <td>0.000000e+00</td>\n      <td>True</td>\n    </tr>\n    <tr>\n      <th>15</th>\n      <td>RENAL_CHRONIC</td>\n      <td>360.018659</td>\n      <td>0.000000e+00</td>\n      <td>True</td>\n    </tr>\n    <tr>\n      <th>14</th>\n      <td>OBESITY</td>\n      <td>215.454691</td>\n      <td>0.000000e+00</td>\n      <td>True</td>\n    </tr>\n    <tr>\n      <th>13</th>\n      <td>CARDIOVASCULAR</td>\n      <td>104.198497</td>\n      <td>0.000000e+00</td>\n      <td>True</td>\n    </tr>\n    <tr>\n      <th>11</th>\n      <td>HIPERTENSION</td>\n      <td>2428.562226</td>\n      <td>0.000000e+00</td>\n      <td>True</td>\n    </tr>\n    <tr>\n      <th>17</th>\n      <td>CLASIFFICATION_FINAL</td>\n      <td>5282.884017</td>\n      <td>0.000000e+00</td>\n      <td>True</td>\n    </tr>\n    <tr>\n      <th>8</th>\n      <td>COPD</td>\n      <td>187.846263</td>\n      <td>0.000000e+00</td>\n      <td>True</td>\n    </tr>\n    <tr>\n      <th>9</th>\n      <td>ASTHMA</td>\n      <td>52.049811</td>\n      <td>0.000000e+00</td>\n      <td>True</td>\n    </tr>\n    <tr>\n      <th>6</th>\n      <td>PREGNANT</td>\n      <td>621.412488</td>\n      <td>0.000000e+00</td>\n      <td>True</td>\n    </tr>\n    <tr>\n      <th>5</th>\n      <td>PNEUMONIA</td>\n      <td>3326.443461</td>\n      <td>0.000000e+00</td>\n      <td>True</td>\n    </tr>\n    <tr>\n      <th>4</th>\n      <td>INTUBED</td>\n      <td>13685.732861</td>\n      <td>0.000000e+00</td>\n      <td>True</td>\n    </tr>\n    <tr>\n      <th>1</th>\n      <td>MEDICAL_UNIT</td>\n      <td>1414.277548</td>\n      <td>0.000000e+00</td>\n      <td>True</td>\n    </tr>\n    <tr>\n      <th>7</th>\n      <td>DIABETES</td>\n      <td>1976.485064</td>\n      <td>0.000000e+00</td>\n      <td>True</td>\n    </tr>\n    <tr>\n      <th>18</th>\n      <td>ICU</td>\n      <td>514.968884</td>\n      <td>0.000000e+00</td>\n      <td>True</td>\n    </tr>\n    <tr>\n      <th>12</th>\n      <td>OTHER_DISEASE</td>\n      <td>31.765261</td>\n      <td>1.740000e-08</td>\n      <td>True</td>\n    </tr>\n    <tr>\n      <th>16</th>\n      <td>TOBACCO</td>\n      <td>2.902408</td>\n      <td>8.844734e-02</td>\n      <td>False</td>\n    </tr>\n    <tr>\n      <th>10</th>\n      <td>INMSUPR</td>\n      <td>2.402254</td>\n      <td>1.211606e-01</td>\n      <td>False</td>\n    </tr>\n    <tr>\n      <th>3</th>\n      <td>PATIENT_TYPE</td>\n      <td>0.000000</td>\n      <td>1.000000e+00</td>\n      <td>False</td>\n    </tr>\n    <tr>\n      <th>2</th>\n      <td>SEX</td>\n      <td>0.000000</td>\n      <td>1.000000e+00</td>\n      <td>False</td>\n    </tr>\n  </tbody>\n</table>\n</div>"
     },
     "execution_count": 121,
     "metadata": {},
     "output_type": "execute_result"
    }
   ],
   "execution_count": 121
  },
  {
   "cell_type": "code",
   "execution_count": 122,
   "outputs": [
    {
     "name": "stdout",
     "output_type": "stream",
     "text": [
      "<class 'pandas.core.frame.DataFrame'>\n",
      "Index: 76749 entries, 5 to 1048569\n",
      "Data columns (total 17 columns):\n",
      " #   Column                Non-Null Count  Dtype \n",
      "---  ------                --------------  ----- \n",
      " 0   USMER                 76749 non-null  object\n",
      " 1   MEDICAL_UNIT          76749 non-null  object\n",
      " 2   INTUBED               76749 non-null  object\n",
      " 3   PNEUMONIA             76749 non-null  object\n",
      " 4   AGE                   76749 non-null  int64 \n",
      " 5   PREGNANT              76749 non-null  object\n",
      " 6   DIABETES              76749 non-null  object\n",
      " 7   COPD                  76749 non-null  object\n",
      " 8   ASTHMA                76749 non-null  object\n",
      " 9   HIPERTENSION          76749 non-null  object\n",
      " 10  OTHER_DISEASE         76749 non-null  object\n",
      " 11  CARDIOVASCULAR        76749 non-null  object\n",
      " 12  OBESITY               76749 non-null  object\n",
      " 13  RENAL_CHRONIC         76749 non-null  object\n",
      " 14  CLASIFFICATION_FINAL  76749 non-null  object\n",
      " 15  ICU                   76749 non-null  object\n",
      " 16  IS_DIED               76749 non-null  object\n",
      "dtypes: int64(1), object(16)\n",
      "memory usage: 10.5+ MB\n"
     ]
    }
   ],
   "source": [
    "# 清除卡方檢定不符合規定的欄位，並生成新的資料集\n",
    "df_selected_cleaned = df_cleaned.copy()\n",
    "for tmp in chi2_results:\n",
    "    if not tmp.get(\"Significant (p < 0.05)\"):\n",
    "        df_selected_cleaned = df_selected_cleaned.drop(columns=[tmp.get(\"Feature\")])\n",
    "\n",
    "df_selected_cleaned.info()"
   ],
   "metadata": {
    "collapsed": false,
    "ExecuteTime": {
     "end_time": "2024-12-20T12:22:39.682240Z",
     "start_time": "2024-12-20T12:22:39.569844Z"
    }
   },
   "id": "ddb5be6af832fa2c"
  },
  {
   "cell_type": "code",
   "execution_count": 123,
   "outputs": [
    {
     "data": {
      "text/plain": "   USMER MEDICAL_UNIT SEX PATIENT_TYPE INTUBED PNEUMONIA  AGE PREGNANT  \\\n5      2            1   1            2       2         1   40        2   \n8      2            1   1            2       2         2   37        2   \n9      2            1   1            2       2         2   25        2   \n16     2            1   1            2       2         1   80        2   \n56     2            1   1            2       1         1   58        2   \n\n   DIABETES COPD  ... INMSUPR HIPERTENSION OTHER_DISEASE CARDIOVASCULAR  \\\n5         2    2  ...       2            2             2              2   \n8         1    2  ...       2            1             2              2   \n9         2    2  ...       2            2             2              2   \n16        2    2  ...       2            1             2              2   \n56        2    2  ...       2            1             2              1   \n\n   OBESITY RENAL_CHRONIC TOBACCO CLASIFFICATION_FINAL ICU IS_DIED  \n5        2             2       2                    3   2       0  \n8        1             2       2                    3   2       0  \n9        2             2       2                    3   2       0  \n16       2             2       2                    3   1       0  \n56       1             2       2                    7   1       0  \n\n[5 rows x 21 columns]",
      "text/html": "<div>\n<style scoped>\n    .dataframe tbody tr th:only-of-type {\n        vertical-align: middle;\n    }\n\n    .dataframe tbody tr th {\n        vertical-align: top;\n    }\n\n    .dataframe thead th {\n        text-align: right;\n    }\n</style>\n<table border=\"1\" class=\"dataframe\">\n  <thead>\n    <tr style=\"text-align: right;\">\n      <th></th>\n      <th>USMER</th>\n      <th>MEDICAL_UNIT</th>\n      <th>SEX</th>\n      <th>PATIENT_TYPE</th>\n      <th>INTUBED</th>\n      <th>PNEUMONIA</th>\n      <th>AGE</th>\n      <th>PREGNANT</th>\n      <th>DIABETES</th>\n      <th>COPD</th>\n      <th>...</th>\n      <th>INMSUPR</th>\n      <th>HIPERTENSION</th>\n      <th>OTHER_DISEASE</th>\n      <th>CARDIOVASCULAR</th>\n      <th>OBESITY</th>\n      <th>RENAL_CHRONIC</th>\n      <th>TOBACCO</th>\n      <th>CLASIFFICATION_FINAL</th>\n      <th>ICU</th>\n      <th>IS_DIED</th>\n    </tr>\n  </thead>\n  <tbody>\n    <tr>\n      <th>5</th>\n      <td>2</td>\n      <td>1</td>\n      <td>1</td>\n      <td>2</td>\n      <td>2</td>\n      <td>1</td>\n      <td>40</td>\n      <td>2</td>\n      <td>2</td>\n      <td>2</td>\n      <td>...</td>\n      <td>2</td>\n      <td>2</td>\n      <td>2</td>\n      <td>2</td>\n      <td>2</td>\n      <td>2</td>\n      <td>2</td>\n      <td>3</td>\n      <td>2</td>\n      <td>0</td>\n    </tr>\n    <tr>\n      <th>8</th>\n      <td>2</td>\n      <td>1</td>\n      <td>1</td>\n      <td>2</td>\n      <td>2</td>\n      <td>2</td>\n      <td>37</td>\n      <td>2</td>\n      <td>1</td>\n      <td>2</td>\n      <td>...</td>\n      <td>2</td>\n      <td>1</td>\n      <td>2</td>\n      <td>2</td>\n      <td>1</td>\n      <td>2</td>\n      <td>2</td>\n      <td>3</td>\n      <td>2</td>\n      <td>0</td>\n    </tr>\n    <tr>\n      <th>9</th>\n      <td>2</td>\n      <td>1</td>\n      <td>1</td>\n      <td>2</td>\n      <td>2</td>\n      <td>2</td>\n      <td>25</td>\n      <td>2</td>\n      <td>2</td>\n      <td>2</td>\n      <td>...</td>\n      <td>2</td>\n      <td>2</td>\n      <td>2</td>\n      <td>2</td>\n      <td>2</td>\n      <td>2</td>\n      <td>2</td>\n      <td>3</td>\n      <td>2</td>\n      <td>0</td>\n    </tr>\n    <tr>\n      <th>16</th>\n      <td>2</td>\n      <td>1</td>\n      <td>1</td>\n      <td>2</td>\n      <td>2</td>\n      <td>1</td>\n      <td>80</td>\n      <td>2</td>\n      <td>2</td>\n      <td>2</td>\n      <td>...</td>\n      <td>2</td>\n      <td>1</td>\n      <td>2</td>\n      <td>2</td>\n      <td>2</td>\n      <td>2</td>\n      <td>2</td>\n      <td>3</td>\n      <td>1</td>\n      <td>0</td>\n    </tr>\n    <tr>\n      <th>56</th>\n      <td>2</td>\n      <td>1</td>\n      <td>1</td>\n      <td>2</td>\n      <td>1</td>\n      <td>1</td>\n      <td>58</td>\n      <td>2</td>\n      <td>2</td>\n      <td>2</td>\n      <td>...</td>\n      <td>2</td>\n      <td>1</td>\n      <td>2</td>\n      <td>1</td>\n      <td>1</td>\n      <td>2</td>\n      <td>2</td>\n      <td>7</td>\n      <td>1</td>\n      <td>0</td>\n    </tr>\n  </tbody>\n</table>\n<p>5 rows × 21 columns</p>\n</div>"
     },
     "execution_count": 123,
     "metadata": {},
     "output_type": "execute_result"
    }
   ],
   "source": [
    "df_cleaned.head()"
   ],
   "metadata": {
    "collapsed": false,
    "ExecuteTime": {
     "end_time": "2024-12-20T12:22:40.772997Z",
     "start_time": "2024-12-20T12:22:40.747505Z"
    }
   },
   "id": "7bee992daba97213"
  },
  {
   "cell_type": "code",
   "execution_count": 124,
   "outputs": [
    {
     "data": {
      "text/plain": "         AGE  USMER_1  USMER_2  MEDICAL_UNIT_1  MEDICAL_UNIT_2  \\\n5         40        0        1               1               0   \n8         37        0        1               1               0   \n9         25        0        1               1               0   \n16        80        0        1               1               0   \n56        58        0        1               1               0   \n...      ...      ...      ...             ...             ...   \n1048535   79        1        0               0               0   \n1048553   61        0        1               0               0   \n1048554   63        0        1               0               0   \n1048567   23        1        0               0               0   \n1048569   56        1        0               0               0   \n\n         MEDICAL_UNIT_3  MEDICAL_UNIT_4  MEDICAL_UNIT_5  MEDICAL_UNIT_6  \\\n5                     0               0               0               0   \n8                     0               0               0               0   \n9                     0               0               0               0   \n16                    0               0               0               0   \n56                    0               0               0               0   \n...                 ...             ...             ...             ...   \n1048535               0               0               0               0   \n1048553               0               0               0               0   \n1048554               0               0               0               0   \n1048567               0               0               0               0   \n1048569               0               0               0               0   \n\n         MEDICAL_UNIT_7  ...  CLASIFFICATION_FINAL_2  CLASIFFICATION_FINAL_3  \\\n5                     0  ...                       0                       1   \n8                     0  ...                       0                       1   \n9                     0  ...                       0                       1   \n16                    0  ...                       0                       1   \n56                    0  ...                       0                       0   \n...                 ...  ...                     ...                     ...   \n1048535               0  ...                       0                       0   \n1048553               0  ...                       0                       0   \n1048554               0  ...                       0                       0   \n1048567               0  ...                       0                       0   \n1048569               0  ...                       0                       0   \n\n         CLASIFFICATION_FINAL_4  CLASIFFICATION_FINAL_5  \\\n5                             0                       0   \n8                             0                       0   \n9                             0                       0   \n16                            0                       0   \n56                            0                       0   \n...                         ...                     ...   \n1048535                       0                       0   \n1048553                       0                       0   \n1048554                       0                       0   \n1048567                       0                       0   \n1048569                       0                       0   \n\n         CLASIFFICATION_FINAL_6  CLASIFFICATION_FINAL_7  ICU_1  ICU_2  \\\n5                             0                       0      0      1   \n8                             0                       0      0      1   \n9                             0                       0      0      1   \n16                            0                       0      1      0   \n56                            0                       1      1      0   \n...                         ...                     ...    ...    ...   \n1048535                       0                       1      0      1   \n1048553                       0                       1      0      1   \n1048554                       0                       1      0      1   \n1048567                       0                       1      0      1   \n1048569                       0                       1      0      1   \n\n         IS_DIED_0  IS_DIED_1  \n5                1          0  \n8                1          0  \n9                1          0  \n16               1          0  \n56               1          0  \n...            ...        ...  \n1048535          1          0  \n1048553          1          0  \n1048554          1          0  \n1048567          1          0  \n1048569          1          0  \n\n[76749 rows x 55 columns]",
      "text/html": "<div>\n<style scoped>\n    .dataframe tbody tr th:only-of-type {\n        vertical-align: middle;\n    }\n\n    .dataframe tbody tr th {\n        vertical-align: top;\n    }\n\n    .dataframe thead th {\n        text-align: right;\n    }\n</style>\n<table border=\"1\" class=\"dataframe\">\n  <thead>\n    <tr style=\"text-align: right;\">\n      <th></th>\n      <th>AGE</th>\n      <th>USMER_1</th>\n      <th>USMER_2</th>\n      <th>MEDICAL_UNIT_1</th>\n      <th>MEDICAL_UNIT_2</th>\n      <th>MEDICAL_UNIT_3</th>\n      <th>MEDICAL_UNIT_4</th>\n      <th>MEDICAL_UNIT_5</th>\n      <th>MEDICAL_UNIT_6</th>\n      <th>MEDICAL_UNIT_7</th>\n      <th>...</th>\n      <th>CLASIFFICATION_FINAL_2</th>\n      <th>CLASIFFICATION_FINAL_3</th>\n      <th>CLASIFFICATION_FINAL_4</th>\n      <th>CLASIFFICATION_FINAL_5</th>\n      <th>CLASIFFICATION_FINAL_6</th>\n      <th>CLASIFFICATION_FINAL_7</th>\n      <th>ICU_1</th>\n      <th>ICU_2</th>\n      <th>IS_DIED_0</th>\n      <th>IS_DIED_1</th>\n    </tr>\n  </thead>\n  <tbody>\n    <tr>\n      <th>5</th>\n      <td>40</td>\n      <td>0</td>\n      <td>1</td>\n      <td>1</td>\n      <td>0</td>\n      <td>0</td>\n      <td>0</td>\n      <td>0</td>\n      <td>0</td>\n      <td>0</td>\n      <td>...</td>\n      <td>0</td>\n      <td>1</td>\n      <td>0</td>\n      <td>0</td>\n      <td>0</td>\n      <td>0</td>\n      <td>0</td>\n      <td>1</td>\n      <td>1</td>\n      <td>0</td>\n    </tr>\n    <tr>\n      <th>8</th>\n      <td>37</td>\n      <td>0</td>\n      <td>1</td>\n      <td>1</td>\n      <td>0</td>\n      <td>0</td>\n      <td>0</td>\n      <td>0</td>\n      <td>0</td>\n      <td>0</td>\n      <td>...</td>\n      <td>0</td>\n      <td>1</td>\n      <td>0</td>\n      <td>0</td>\n      <td>0</td>\n      <td>0</td>\n      <td>0</td>\n      <td>1</td>\n      <td>1</td>\n      <td>0</td>\n    </tr>\n    <tr>\n      <th>9</th>\n      <td>25</td>\n      <td>0</td>\n      <td>1</td>\n      <td>1</td>\n      <td>0</td>\n      <td>0</td>\n      <td>0</td>\n      <td>0</td>\n      <td>0</td>\n      <td>0</td>\n      <td>...</td>\n      <td>0</td>\n      <td>1</td>\n      <td>0</td>\n      <td>0</td>\n      <td>0</td>\n      <td>0</td>\n      <td>0</td>\n      <td>1</td>\n      <td>1</td>\n      <td>0</td>\n    </tr>\n    <tr>\n      <th>16</th>\n      <td>80</td>\n      <td>0</td>\n      <td>1</td>\n      <td>1</td>\n      <td>0</td>\n      <td>0</td>\n      <td>0</td>\n      <td>0</td>\n      <td>0</td>\n      <td>0</td>\n      <td>...</td>\n      <td>0</td>\n      <td>1</td>\n      <td>0</td>\n      <td>0</td>\n      <td>0</td>\n      <td>0</td>\n      <td>1</td>\n      <td>0</td>\n      <td>1</td>\n      <td>0</td>\n    </tr>\n    <tr>\n      <th>56</th>\n      <td>58</td>\n      <td>0</td>\n      <td>1</td>\n      <td>1</td>\n      <td>0</td>\n      <td>0</td>\n      <td>0</td>\n      <td>0</td>\n      <td>0</td>\n      <td>0</td>\n      <td>...</td>\n      <td>0</td>\n      <td>0</td>\n      <td>0</td>\n      <td>0</td>\n      <td>0</td>\n      <td>1</td>\n      <td>1</td>\n      <td>0</td>\n      <td>1</td>\n      <td>0</td>\n    </tr>\n    <tr>\n      <th>...</th>\n      <td>...</td>\n      <td>...</td>\n      <td>...</td>\n      <td>...</td>\n      <td>...</td>\n      <td>...</td>\n      <td>...</td>\n      <td>...</td>\n      <td>...</td>\n      <td>...</td>\n      <td>...</td>\n      <td>...</td>\n      <td>...</td>\n      <td>...</td>\n      <td>...</td>\n      <td>...</td>\n      <td>...</td>\n      <td>...</td>\n      <td>...</td>\n      <td>...</td>\n      <td>...</td>\n    </tr>\n    <tr>\n      <th>1048535</th>\n      <td>79</td>\n      <td>1</td>\n      <td>0</td>\n      <td>0</td>\n      <td>0</td>\n      <td>0</td>\n      <td>0</td>\n      <td>0</td>\n      <td>0</td>\n      <td>0</td>\n      <td>...</td>\n      <td>0</td>\n      <td>0</td>\n      <td>0</td>\n      <td>0</td>\n      <td>0</td>\n      <td>1</td>\n      <td>0</td>\n      <td>1</td>\n      <td>1</td>\n      <td>0</td>\n    </tr>\n    <tr>\n      <th>1048553</th>\n      <td>61</td>\n      <td>0</td>\n      <td>1</td>\n      <td>0</td>\n      <td>0</td>\n      <td>0</td>\n      <td>0</td>\n      <td>0</td>\n      <td>0</td>\n      <td>0</td>\n      <td>...</td>\n      <td>0</td>\n      <td>0</td>\n      <td>0</td>\n      <td>0</td>\n      <td>0</td>\n      <td>1</td>\n      <td>0</td>\n      <td>1</td>\n      <td>1</td>\n      <td>0</td>\n    </tr>\n    <tr>\n      <th>1048554</th>\n      <td>63</td>\n      <td>0</td>\n      <td>1</td>\n      <td>0</td>\n      <td>0</td>\n      <td>0</td>\n      <td>0</td>\n      <td>0</td>\n      <td>0</td>\n      <td>0</td>\n      <td>...</td>\n      <td>0</td>\n      <td>0</td>\n      <td>0</td>\n      <td>0</td>\n      <td>0</td>\n      <td>1</td>\n      <td>0</td>\n      <td>1</td>\n      <td>1</td>\n      <td>0</td>\n    </tr>\n    <tr>\n      <th>1048567</th>\n      <td>23</td>\n      <td>1</td>\n      <td>0</td>\n      <td>0</td>\n      <td>0</td>\n      <td>0</td>\n      <td>0</td>\n      <td>0</td>\n      <td>0</td>\n      <td>0</td>\n      <td>...</td>\n      <td>0</td>\n      <td>0</td>\n      <td>0</td>\n      <td>0</td>\n      <td>0</td>\n      <td>1</td>\n      <td>0</td>\n      <td>1</td>\n      <td>1</td>\n      <td>0</td>\n    </tr>\n    <tr>\n      <th>1048569</th>\n      <td>56</td>\n      <td>1</td>\n      <td>0</td>\n      <td>0</td>\n      <td>0</td>\n      <td>0</td>\n      <td>0</td>\n      <td>0</td>\n      <td>0</td>\n      <td>0</td>\n      <td>...</td>\n      <td>0</td>\n      <td>0</td>\n      <td>0</td>\n      <td>0</td>\n      <td>0</td>\n      <td>1</td>\n      <td>0</td>\n      <td>1</td>\n      <td>1</td>\n      <td>0</td>\n    </tr>\n  </tbody>\n</table>\n<p>76749 rows × 55 columns</p>\n</div>"
     },
     "execution_count": 124,
     "metadata": {},
     "output_type": "execute_result"
    }
   ],
   "source": [
    "dataset_a = pd.get_dummies(df_cleaned, dtype=int)\n",
    "dataset_a"
   ],
   "metadata": {
    "collapsed": false,
    "ExecuteTime": {
     "end_time": "2024-12-20T12:22:42.240528Z",
     "start_time": "2024-12-20T12:22:42.130961Z"
    }
   },
   "id": "6f0f1fea3d70dac7"
  },
  {
   "cell_type": "code",
   "execution_count": 125,
   "outputs": [
    {
     "data": {
      "text/plain": "         AGE  USMER_1  USMER_2  MEDICAL_UNIT_1  MEDICAL_UNIT_2  \\\n5         40        0        1               1               0   \n8         37        0        1               1               0   \n9         25        0        1               1               0   \n16        80        0        1               1               0   \n56        58        0        1               1               0   \n...      ...      ...      ...             ...             ...   \n1048535   79        1        0               0               0   \n1048553   61        0        1               0               0   \n1048554   63        0        1               0               0   \n1048567   23        1        0               0               0   \n1048569   56        1        0               0               0   \n\n         MEDICAL_UNIT_3  MEDICAL_UNIT_4  MEDICAL_UNIT_5  MEDICAL_UNIT_6  \\\n5                     0               0               0               0   \n8                     0               0               0               0   \n9                     0               0               0               0   \n16                    0               0               0               0   \n56                    0               0               0               0   \n...                 ...             ...             ...             ...   \n1048535               0               0               0               0   \n1048553               0               0               0               0   \n1048554               0               0               0               0   \n1048567               0               0               0               0   \n1048569               0               0               0               0   \n\n         MEDICAL_UNIT_7  ...  CLASIFFICATION_FINAL_2  CLASIFFICATION_FINAL_3  \\\n5                     0  ...                       0                       1   \n8                     0  ...                       0                       1   \n9                     0  ...                       0                       1   \n16                    0  ...                       0                       1   \n56                    0  ...                       0                       0   \n...                 ...  ...                     ...                     ...   \n1048535               0  ...                       0                       0   \n1048553               0  ...                       0                       0   \n1048554               0  ...                       0                       0   \n1048567               0  ...                       0                       0   \n1048569               0  ...                       0                       0   \n\n         CLASIFFICATION_FINAL_4  CLASIFFICATION_FINAL_5  \\\n5                             0                       0   \n8                             0                       0   \n9                             0                       0   \n16                            0                       0   \n56                            0                       0   \n...                         ...                     ...   \n1048535                       0                       0   \n1048553                       0                       0   \n1048554                       0                       0   \n1048567                       0                       0   \n1048569                       0                       0   \n\n         CLASIFFICATION_FINAL_6  CLASIFFICATION_FINAL_7  ICU_1  ICU_2  \\\n5                             0                       0      0      1   \n8                             0                       0      0      1   \n9                             0                       0      0      1   \n16                            0                       0      1      0   \n56                            0                       1      1      0   \n...                         ...                     ...    ...    ...   \n1048535                       0                       1      0      1   \n1048553                       0                       1      0      1   \n1048554                       0                       1      0      1   \n1048567                       0                       1      0      1   \n1048569                       0                       1      0      1   \n\n         IS_DIED_0  IS_DIED_1  \n5                1          0  \n8                1          0  \n9                1          0  \n16               1          0  \n56               1          0  \n...            ...        ...  \n1048535          1          0  \n1048553          1          0  \n1048554          1          0  \n1048567          1          0  \n1048569          1          0  \n\n[76749 rows x 49 columns]",
      "text/html": "<div>\n<style scoped>\n    .dataframe tbody tr th:only-of-type {\n        vertical-align: middle;\n    }\n\n    .dataframe tbody tr th {\n        vertical-align: top;\n    }\n\n    .dataframe thead th {\n        text-align: right;\n    }\n</style>\n<table border=\"1\" class=\"dataframe\">\n  <thead>\n    <tr style=\"text-align: right;\">\n      <th></th>\n      <th>AGE</th>\n      <th>USMER_1</th>\n      <th>USMER_2</th>\n      <th>MEDICAL_UNIT_1</th>\n      <th>MEDICAL_UNIT_2</th>\n      <th>MEDICAL_UNIT_3</th>\n      <th>MEDICAL_UNIT_4</th>\n      <th>MEDICAL_UNIT_5</th>\n      <th>MEDICAL_UNIT_6</th>\n      <th>MEDICAL_UNIT_7</th>\n      <th>...</th>\n      <th>CLASIFFICATION_FINAL_2</th>\n      <th>CLASIFFICATION_FINAL_3</th>\n      <th>CLASIFFICATION_FINAL_4</th>\n      <th>CLASIFFICATION_FINAL_5</th>\n      <th>CLASIFFICATION_FINAL_6</th>\n      <th>CLASIFFICATION_FINAL_7</th>\n      <th>ICU_1</th>\n      <th>ICU_2</th>\n      <th>IS_DIED_0</th>\n      <th>IS_DIED_1</th>\n    </tr>\n  </thead>\n  <tbody>\n    <tr>\n      <th>5</th>\n      <td>40</td>\n      <td>0</td>\n      <td>1</td>\n      <td>1</td>\n      <td>0</td>\n      <td>0</td>\n      <td>0</td>\n      <td>0</td>\n      <td>0</td>\n      <td>0</td>\n      <td>...</td>\n      <td>0</td>\n      <td>1</td>\n      <td>0</td>\n      <td>0</td>\n      <td>0</td>\n      <td>0</td>\n      <td>0</td>\n      <td>1</td>\n      <td>1</td>\n      <td>0</td>\n    </tr>\n    <tr>\n      <th>8</th>\n      <td>37</td>\n      <td>0</td>\n      <td>1</td>\n      <td>1</td>\n      <td>0</td>\n      <td>0</td>\n      <td>0</td>\n      <td>0</td>\n      <td>0</td>\n      <td>0</td>\n      <td>...</td>\n      <td>0</td>\n      <td>1</td>\n      <td>0</td>\n      <td>0</td>\n      <td>0</td>\n      <td>0</td>\n      <td>0</td>\n      <td>1</td>\n      <td>1</td>\n      <td>0</td>\n    </tr>\n    <tr>\n      <th>9</th>\n      <td>25</td>\n      <td>0</td>\n      <td>1</td>\n      <td>1</td>\n      <td>0</td>\n      <td>0</td>\n      <td>0</td>\n      <td>0</td>\n      <td>0</td>\n      <td>0</td>\n      <td>...</td>\n      <td>0</td>\n      <td>1</td>\n      <td>0</td>\n      <td>0</td>\n      <td>0</td>\n      <td>0</td>\n      <td>0</td>\n      <td>1</td>\n      <td>1</td>\n      <td>0</td>\n    </tr>\n    <tr>\n      <th>16</th>\n      <td>80</td>\n      <td>0</td>\n      <td>1</td>\n      <td>1</td>\n      <td>0</td>\n      <td>0</td>\n      <td>0</td>\n      <td>0</td>\n      <td>0</td>\n      <td>0</td>\n      <td>...</td>\n      <td>0</td>\n      <td>1</td>\n      <td>0</td>\n      <td>0</td>\n      <td>0</td>\n      <td>0</td>\n      <td>1</td>\n      <td>0</td>\n      <td>1</td>\n      <td>0</td>\n    </tr>\n    <tr>\n      <th>56</th>\n      <td>58</td>\n      <td>0</td>\n      <td>1</td>\n      <td>1</td>\n      <td>0</td>\n      <td>0</td>\n      <td>0</td>\n      <td>0</td>\n      <td>0</td>\n      <td>0</td>\n      <td>...</td>\n      <td>0</td>\n      <td>0</td>\n      <td>0</td>\n      <td>0</td>\n      <td>0</td>\n      <td>1</td>\n      <td>1</td>\n      <td>0</td>\n      <td>1</td>\n      <td>0</td>\n    </tr>\n    <tr>\n      <th>...</th>\n      <td>...</td>\n      <td>...</td>\n      <td>...</td>\n      <td>...</td>\n      <td>...</td>\n      <td>...</td>\n      <td>...</td>\n      <td>...</td>\n      <td>...</td>\n      <td>...</td>\n      <td>...</td>\n      <td>...</td>\n      <td>...</td>\n      <td>...</td>\n      <td>...</td>\n      <td>...</td>\n      <td>...</td>\n      <td>...</td>\n      <td>...</td>\n      <td>...</td>\n      <td>...</td>\n    </tr>\n    <tr>\n      <th>1048535</th>\n      <td>79</td>\n      <td>1</td>\n      <td>0</td>\n      <td>0</td>\n      <td>0</td>\n      <td>0</td>\n      <td>0</td>\n      <td>0</td>\n      <td>0</td>\n      <td>0</td>\n      <td>...</td>\n      <td>0</td>\n      <td>0</td>\n      <td>0</td>\n      <td>0</td>\n      <td>0</td>\n      <td>1</td>\n      <td>0</td>\n      <td>1</td>\n      <td>1</td>\n      <td>0</td>\n    </tr>\n    <tr>\n      <th>1048553</th>\n      <td>61</td>\n      <td>0</td>\n      <td>1</td>\n      <td>0</td>\n      <td>0</td>\n      <td>0</td>\n      <td>0</td>\n      <td>0</td>\n      <td>0</td>\n      <td>0</td>\n      <td>...</td>\n      <td>0</td>\n      <td>0</td>\n      <td>0</td>\n      <td>0</td>\n      <td>0</td>\n      <td>1</td>\n      <td>0</td>\n      <td>1</td>\n      <td>1</td>\n      <td>0</td>\n    </tr>\n    <tr>\n      <th>1048554</th>\n      <td>63</td>\n      <td>0</td>\n      <td>1</td>\n      <td>0</td>\n      <td>0</td>\n      <td>0</td>\n      <td>0</td>\n      <td>0</td>\n      <td>0</td>\n      <td>0</td>\n      <td>...</td>\n      <td>0</td>\n      <td>0</td>\n      <td>0</td>\n      <td>0</td>\n      <td>0</td>\n      <td>1</td>\n      <td>0</td>\n      <td>1</td>\n      <td>1</td>\n      <td>0</td>\n    </tr>\n    <tr>\n      <th>1048567</th>\n      <td>23</td>\n      <td>1</td>\n      <td>0</td>\n      <td>0</td>\n      <td>0</td>\n      <td>0</td>\n      <td>0</td>\n      <td>0</td>\n      <td>0</td>\n      <td>0</td>\n      <td>...</td>\n      <td>0</td>\n      <td>0</td>\n      <td>0</td>\n      <td>0</td>\n      <td>0</td>\n      <td>1</td>\n      <td>0</td>\n      <td>1</td>\n      <td>1</td>\n      <td>0</td>\n    </tr>\n    <tr>\n      <th>1048569</th>\n      <td>56</td>\n      <td>1</td>\n      <td>0</td>\n      <td>0</td>\n      <td>0</td>\n      <td>0</td>\n      <td>0</td>\n      <td>0</td>\n      <td>0</td>\n      <td>0</td>\n      <td>...</td>\n      <td>0</td>\n      <td>0</td>\n      <td>0</td>\n      <td>0</td>\n      <td>0</td>\n      <td>1</td>\n      <td>0</td>\n      <td>1</td>\n      <td>1</td>\n      <td>0</td>\n    </tr>\n  </tbody>\n</table>\n<p>76749 rows × 49 columns</p>\n</div>"
     },
     "execution_count": 125,
     "metadata": {},
     "output_type": "execute_result"
    }
   ],
   "source": [
    "dataset_b = pd.get_dummies(df_selected_cleaned, dtype=int)\n",
    "dataset_b"
   ],
   "metadata": {
    "collapsed": false,
    "ExecuteTime": {
     "end_time": "2024-12-20T12:22:45.336183Z",
     "start_time": "2024-12-20T12:22:45.270173Z"
    }
   },
   "id": "e78002734fc23183"
  },
  {
   "cell_type": "markdown",
   "source": [
    "# 三、建立模型 - 決策樹"
   ],
   "metadata": {
    "collapsed": false
   },
   "id": "6d6e14859c04c4e7"
  },
  {
   "cell_type": "markdown",
   "source": [
    "## (一)、Dataset A 決策樹"
   ],
   "metadata": {
    "collapsed": false
   },
   "id": "37ac624d3b6b987d"
  },
  {
   "cell_type": "code",
   "execution_count": 126,
   "outputs": [
    {
     "name": "stdout",
     "output_type": "stream",
     "text": [
      "Random State 3 Selected Accuracy Matrix:\n",
      "Depth Range: [6, 7, 8, 9, 10]\n",
      "Leaf Nodes Range: [47, 48, 49, 50, 51, 52, 53]\n",
      "[[79.76 79.73 79.71 79.72 79.72 79.72 79.72]\n",
      " [80.04 80.   80.   80.02 80.02 80.02 80.02]\n",
      " [80.19 80.13 80.13 80.13 80.13 80.13 80.13]\n",
      " [80.15 80.15 80.15 80.19 80.13 80.13 80.13]\n",
      " [80.16 80.16 80.16 80.16 80.16 80.16 80.16]]\n",
      "\n",
      "Random State 30 Selected Accuracy Matrix:\n",
      "Depth Range: [6, 7, 8, 9, 10]\n",
      "Leaf Nodes Range: [47, 48, 49, 50, 51, 52, 53]\n",
      "[[78.9  78.86 78.86 78.88 78.88 78.88 78.88]\n",
      " [79.01 79.01 79.01 79.01 79.   79.   79.03]\n",
      " [79.15 79.15 79.15 79.15 79.15 79.11 79.11]\n",
      " [79.19 79.19 79.15 79.17 79.24 79.24 79.24]\n",
      " [79.11 79.11 79.19 79.19 79.15 79.17 79.24]]\n",
      "\n",
      "Random State 300 Selected Accuracy Matrix:\n",
      "Depth Range: [6, 7, 8, 9, 10]\n",
      "Leaf Nodes Range: [47, 48, 49, 50, 51, 52, 53]\n",
      "[[79.23 79.23 79.23 79.23 79.27 79.27 79.26]\n",
      " [79.38 79.38 79.39 79.39 79.37 79.37 79.37]\n",
      " [79.48 79.48 79.48 79.48 79.48 79.48 79.48]\n",
      " [79.48 79.48 79.48 79.48 79.36 79.36 79.36]\n",
      " [79.36 79.36 79.36 79.36 79.36 79.36 79.24]]\n",
      "\n",
      "Averaged Accuracy Matrix (Selected Range):\n",
      "Depth Range: [6, 7, 8, 9, 10]\n",
      "Leaf Nodes Range: [47, 48, 49, 50, 51, 52, 53]\n",
      "[[79.29 79.27 79.27 79.28 79.29 79.29 79.29]\n",
      " [79.48 79.46 79.47 79.47 79.47 79.47 79.48]\n",
      " [79.61 79.59 79.59 79.59 79.59 79.57 79.57]\n",
      " [79.61 79.61 79.6  79.61 79.58 79.58 79.58]\n",
      " [79.54 79.54 79.57 79.57 79.56 79.56 79.55]]\n",
      "\n",
      "Best Parameters Across All Random States:\n",
      "  Average Best max_depth: 9\n",
      "  Average Best max_leaf_nodes: 50\n",
      "  Average Best Accuracy: 79.61%\n",
      "\n",
      "Testing ACC: 78.17\n",
      "Testing f1s: 85.01\n",
      "Testing pre: 80.36\n",
      "Testing sen: 90.23\n",
      "Testing spe: 51.84\n"
     ]
    },
    {
     "data": {
      "text/plain": "<sklearn.metrics._plot.confusion_matrix.ConfusionMatrixDisplay at 0x177fbfdd0>"
     },
     "execution_count": 126,
     "metadata": {},
     "output_type": "execute_result"
    },
    {
     "data": {
      "text/plain": "<Figure size 640x480 with 2 Axes>",
      "image/png": "[encoded data removed]"
     },
     "metadata": {},
     "output_type": "display_data"
    }
   ],
   "source": [
    "from sklearn.model_selection import train_test_split\n",
    "from sklearn.tree import DecisionTreeClassifier\n",
    "from sklearn.metrics import accuracy_score\n",
    "import numpy as np\n",
    "from sklearn.metrics import f1_score, precision_score, recall_score, confusion_matrix\n",
    "from sklearn.metrics import ConfusionMatrixDisplay\n",
    "\n",
    "\n",
    "y = dataset_a['IS_DIED_0'].copy()\n",
    "x = dataset_a.drop(columns=['IS_DIED_0', 'IS_DIED_1']).copy()\n",
    "max_depth_range = range(1, 11)\n",
    "max_leaf_nodes_range = range(2, 60)\n",
    "\n",
    "# 分割數據 (80% training, 20% testing)\n",
    "x_train, x_test, y_train, y_test = train_test_split(\n",
    "    x, y, test_size=0.2, random_state=3\n",
    ")\n",
    "\n",
    "# 儲存各個 random_state 的結果\n",
    "matrices = []  # 存放每個 random_state 的準確度矩陣\n",
    "random_state_results = {}  # 存放每個 random_state 的結果\n",
    "\n",
    "# 測試不同的 random_state\n",
    "for random_state in [3, 30, 300]:\n",
    "    x_train_tuning, x_valid, y_train_tuning, y_valid = train_test_split(\n",
    "        x_train, y_train, test_size=0.2, random_state=random_state\n",
    "    )\n",
    "\n",
    "    # 建立一個空矩陣來存放準確度\n",
    "    acc_matrix = np.zeros((len(max_depth_range), len(max_leaf_nodes_range)))\n",
    "\n",
    "    for i, max_depth in enumerate(max_depth_range):\n",
    "        for j, max_leaf_nodes in enumerate(max_leaf_nodes_range):\n",
    "            # 初始化並訓練決策樹模型\n",
    "            model_cart = DecisionTreeClassifier(\n",
    "                criterion='gini',\n",
    "                max_depth=max_depth,\n",
    "                max_leaf_nodes=max_leaf_nodes,\n",
    "                min_samples_leaf=1,\n",
    "                random_state=4  # 固定隨機狀態以確保每次結果一致\n",
    "            )\n",
    "            model_cart.fit(x_train_tuning, y_train_tuning)  # 訓練模型\n",
    "\n",
    "            # 預測並計算驗證準確度\n",
    "            prediction = model_cart.predict(x_valid)\n",
    "            valid_acc = accuracy_score(y_valid, prediction)\n",
    "            acc_matrix[i, j] = valid_acc * 100  # 將準確度轉為百分比格式\n",
    "\n",
    "    matrices.append(acc_matrix)\n",
    "    random_state_results[random_state] = acc_matrix\n",
    "\n",
    "# 計算平均矩陣\n",
    "average_matrix = np.mean(matrices, axis=0)\n",
    "\n",
    "# 找出平均矩陣的最佳值與其索引\n",
    "max_avg_acc = average_matrix.max()\n",
    "max_avg_idx = np.unravel_index(average_matrix.argmax(), average_matrix.shape)\n",
    "best_avg_depth = max_depth_range[max_avg_idx[0]]\n",
    "best_avg_leaf_nodes = max_leaf_nodes_range[max_avg_idx[1]]\n",
    "\n",
    "# 篩選最佳結果的前後三筆資料\n",
    "start_depth = max(0, max_avg_idx[0] - 3)\n",
    "end_depth = min(len(max_depth_range), max_avg_idx[0] + 4)\n",
    "start_leaf = max(0, max_avg_idx[1] - 3)\n",
    "end_leaf = min(len(max_leaf_nodes_range), max_avg_idx[1] + 4)\n",
    "\n",
    "selected_data = average_matrix[start_depth:end_depth, start_leaf:end_leaf]\n",
    "selected_depth_range = list(max_depth_range)[start_depth:end_depth]\n",
    "selected_leaf_range = list(max_leaf_nodes_range)[start_leaf:end_leaf]\n",
    "\n",
    "# 印出每個 random_state 的結果（依照索引範圍篩選）\n",
    "for random_state, matrix in random_state_results.items():\n",
    "    selected_matrix = matrix[start_depth:end_depth, start_leaf:end_leaf]\n",
    "    print(f\"Random State {random_state} Selected Accuracy Matrix:\")\n",
    "    print(\"Depth Range:\", selected_depth_range)\n",
    "    print(\"Leaf Nodes Range:\", selected_leaf_range)\n",
    "    print(np.round(selected_matrix, 2))\n",
    "    print()\n",
    "\n",
    "# 印出平均矩陣與最佳參數\n",
    "print(\"Averaged Accuracy Matrix (Selected Range):\")\n",
    "print(\"Depth Range:\", selected_depth_range)\n",
    "print(\"Leaf Nodes Range:\", selected_leaf_range)\n",
    "print(np.round(selected_data, 2))\n",
    "print(f\"\\nBest Parameters Across All Random States:\")\n",
    "print(f\"  Average Best max_depth: {best_avg_depth}\")\n",
    "print(f\"  Average Best max_leaf_nodes: {best_avg_leaf_nodes}\")\n",
    "print(f\"  Average Best Accuracy: {round(max_avg_acc, 2)}%\")\n",
    "print()\n",
    "\n",
    "\n",
    "HHmodel=DecisionTreeClassifier(\n",
    "    criterion='gini',\n",
    "    max_depth=best_avg_depth,\n",
    "    max_leaf_nodes=best_avg_leaf_nodes,\n",
    "    min_samples_leaf=1,\n",
    "    random_state=4\n",
    ")\n",
    "HHmodel.fit(x_train,y_train)\n",
    "final_model_testing_prediction=HHmodel.predict(x_test)\n",
    "final_model_testing_acc=accuracy_score(y_test,final_model_testing_prediction)\n",
    "final_model_testing_f1s=f1_score(y_test,final_model_testing_prediction,pos_label=1)\n",
    "final_model_testing_pre=precision_score(y_test,final_model_testing_prediction,pos_label=1)\n",
    "final_model_testing_sen=recall_score(y_test,final_model_testing_prediction,pos_label=1)\n",
    "final_model_testing_spe=recall_score(y_test,final_model_testing_prediction,pos_label=0)\n",
    "final_model_testing_cm=confusion_matrix(y_test,final_model_testing_prediction)\n",
    "\n",
    "#print result\n",
    "print('Testing ACC:',round(final_model_testing_acc*100,2))\n",
    "print('Testing f1s:',round(final_model_testing_f1s*100,2))\n",
    "print('Testing pre:',round(final_model_testing_pre*100,2))\n",
    "print('Testing sen:',round(final_model_testing_sen*100,2))\n",
    "print('Testing spe:',round(final_model_testing_spe*100,2))\n",
    "ConfusionMatrixDisplay(final_model_testing_cm,display_labels=[\"0 is not died\",\"1 is died\"]).plot()"
   ],
   "metadata": {
    "collapsed": false,
    "ExecuteTime": {
     "end_time": "2024-12-20T12:24:12.853143Z",
     "start_time": "2024-12-20T12:22:54.730066Z"
    }
   },
   "id": "c2df541314a15f0a"
  },
  {
   "cell_type": "markdown",
   "source": [
    "## (二)、Dataset B 決策樹"
   ],
   "metadata": {
    "collapsed": false
   },
   "id": "f21e315dd160080e"
  },
  {
   "cell_type": "code",
   "execution_count": 127,
   "outputs": [
    {
     "name": "stdout",
     "output_type": "stream",
     "text": [
      "Random State 3 Selected Accuracy Matrix:\n",
      "Depth Range: [6, 7, 8, 9, 10]\n",
      "Leaf Nodes Range: [47, 48, 49, 50, 51, 52, 53]\n",
      "[[79.76 79.73 79.71 79.72 79.72 79.72 79.72]\n",
      " [80.04 80.   80.   80.02 80.02 80.02 80.02]\n",
      " [80.19 80.13 80.13 80.13 80.13 80.13 80.13]\n",
      " [80.15 80.15 80.15 80.19 80.13 80.13 80.13]\n",
      " [80.16 80.16 80.16 80.16 80.16 80.16 80.16]]\n",
      "\n",
      "Random State 30 Selected Accuracy Matrix:\n",
      "Depth Range: [6, 7, 8, 9, 10]\n",
      "Leaf Nodes Range: [47, 48, 49, 50, 51, 52, 53]\n",
      "[[78.9  78.86 78.86 78.88 78.88 78.88 78.88]\n",
      " [79.01 79.01 79.01 79.01 79.   79.   79.03]\n",
      " [79.15 79.15 79.15 79.15 79.15 79.11 79.11]\n",
      " [79.19 79.19 79.15 79.17 79.24 79.24 79.24]\n",
      " [79.11 79.11 79.19 79.19 79.15 79.17 79.24]]\n",
      "\n",
      "Random State 300 Selected Accuracy Matrix:\n",
      "Depth Range: [6, 7, 8, 9, 10]\n",
      "Leaf Nodes Range: [47, 48, 49, 50, 51, 52, 53]\n",
      "[[79.25 79.25 79.27 79.31 79.28 79.28 79.28]\n",
      " [79.38 79.38 79.39 79.39 79.37 79.37 79.37]\n",
      " [79.48 79.48 79.48 79.48 79.48 79.48 79.48]\n",
      " [79.48 79.48 79.48 79.48 79.36 79.36 79.36]\n",
      " [79.36 79.36 79.36 79.36 79.36 79.36 79.24]]\n",
      "\n",
      "Averaged Accuracy Matrix (Selected Range):\n",
      "Depth Range: [6, 7, 8, 9, 10]\n",
      "Leaf Nodes Range: [47, 48, 49, 50, 51, 52, 53]\n",
      "[[79.3  79.28 79.28 79.3  79.29 79.29 79.29]\n",
      " [79.48 79.46 79.47 79.47 79.47 79.47 79.48]\n",
      " [79.61 79.59 79.59 79.59 79.59 79.57 79.57]\n",
      " [79.61 79.61 79.6  79.61 79.58 79.58 79.58]\n",
      " [79.54 79.54 79.57 79.57 79.56 79.56 79.55]]\n",
      "\n",
      "Best Parameters Across All Random States:\n",
      "  Average Best max_depth: 9\n",
      "  Average Best max_leaf_nodes: 50\n",
      "  Average Best Accuracy: 79.61%\n",
      "\n",
      "Testing ACC: 78.17\n",
      "Testing f1s: 85.01\n",
      "Testing pre: 80.36\n",
      "Testing sen: 90.23\n",
      "Testing spe: 51.84\n"
     ]
    },
    {
     "data": {
      "text/plain": "<sklearn.metrics._plot.confusion_matrix.ConfusionMatrixDisplay at 0x32c9c3150>"
     },
     "execution_count": 127,
     "metadata": {},
     "output_type": "execute_result"
    },
    {
     "data": {
      "text/plain": "<Figure size 640x480 with 2 Axes>",
      "image/png": "[encoded data removed]"
     },
     "metadata": {},
     "output_type": "display_data"
    }
   ],
   "source": [
    "from sklearn.model_selection import train_test_split\n",
    "from sklearn.tree import DecisionTreeClassifier\n",
    "from sklearn.metrics import accuracy_score\n",
    "import numpy as np\n",
    "from sklearn.metrics import f1_score, precision_score, recall_score, confusion_matrix\n",
    "from sklearn.metrics import ConfusionMatrixDisplay\n",
    "\n",
    "\n",
    "y = dataset_b['IS_DIED_0'].copy()\n",
    "x = dataset_b.drop(columns=['IS_DIED_0', 'IS_DIED_1']).copy()\n",
    "max_depth_range = range(1, 11)\n",
    "max_leaf_nodes_range = range(2, 60)\n",
    "\n",
    "# 分割數據 (80% training, 20% testing)\n",
    "x_train, x_test, y_train, y_test = train_test_split(\n",
    "    x, y, test_size=0.2, random_state=3\n",
    ")\n",
    "\n",
    "# 儲存各個 random_state 的結果\n",
    "matrices = []  # 存放每個 random_state 的準確度矩陣\n",
    "random_state_results = {}  # 存放每個 random_state 的結果\n",
    "\n",
    "# 測試不同的 random_state\n",
    "for random_state in [3, 30, 300]:\n",
    "    x_train_tuning, x_valid, y_train_tuning, y_valid = train_test_split(\n",
    "        x_train, y_train, test_size=0.2, random_state=random_state\n",
    "    )\n",
    "\n",
    "    # 建立一個空矩陣來存放準確度\n",
    "    acc_matrix = np.zeros((len(max_depth_range), len(max_leaf_nodes_range)))\n",
    "\n",
    "    for i, max_depth in enumerate(max_depth_range):\n",
    "        for j, max_leaf_nodes in enumerate(max_leaf_nodes_range):\n",
    "            # 初始化並訓練決策樹模型\n",
    "            model_cart = DecisionTreeClassifier(\n",
    "                criterion='gini',\n",
    "                max_depth=max_depth,\n",
    "                max_leaf_nodes=max_leaf_nodes,\n",
    "                min_samples_leaf=1,\n",
    "                random_state=4  # 固定隨機狀態以確保每次結果一致\n",
    "            )\n",
    "            model_cart.fit(x_train_tuning, y_train_tuning)  # 訓練模型\n",
    "\n",
    "            # 預測並計算驗證準確度\n",
    "            prediction = model_cart.predict(x_valid)\n",
    "            valid_acc = accuracy_score(y_valid, prediction)\n",
    "            acc_matrix[i, j] = valid_acc * 100  # 將準確度轉為百分比格式\n",
    "\n",
    "    matrices.append(acc_matrix)\n",
    "    random_state_results[random_state] = acc_matrix\n",
    "\n",
    "# 計算平均矩陣\n",
    "average_matrix = np.mean(matrices, axis=0)\n",
    "\n",
    "# 找出平均矩陣的最佳值與其索引\n",
    "max_avg_acc = average_matrix.max()\n",
    "max_avg_idx = np.unravel_index(average_matrix.argmax(), average_matrix.shape)\n",
    "best_avg_depth = max_depth_range[max_avg_idx[0]]\n",
    "best_avg_leaf_nodes = max_leaf_nodes_range[max_avg_idx[1]]\n",
    "\n",
    "# 篩選最佳結果的前後三筆資料\n",
    "start_depth = max(0, max_avg_idx[0] - 3)\n",
    "end_depth = min(len(max_depth_range), max_avg_idx[0] + 4)\n",
    "start_leaf = max(0, max_avg_idx[1] - 3)\n",
    "end_leaf = min(len(max_leaf_nodes_range), max_avg_idx[1] + 4)\n",
    "\n",
    "selected_data = average_matrix[start_depth:end_depth, start_leaf:end_leaf]\n",
    "selected_depth_range = list(max_depth_range)[start_depth:end_depth]\n",
    "selected_leaf_range = list(max_leaf_nodes_range)[start_leaf:end_leaf]\n",
    "\n",
    "# 印出每個 random_state 的結果（依照索引範圍篩選）\n",
    "for random_state, matrix in random_state_results.items():\n",
    "    selected_matrix = matrix[start_depth:end_depth, start_leaf:end_leaf]\n",
    "    print(f\"Random State {random_state} Selected Accuracy Matrix:\")\n",
    "    print(\"Depth Range:\", selected_depth_range)\n",
    "    print(\"Leaf Nodes Range:\", selected_leaf_range)\n",
    "    print(np.round(selected_matrix, 2))\n",
    "    print()\n",
    "\n",
    "# 印出平均矩陣與最佳參數\n",
    "print(\"Averaged Accuracy Matrix (Selected Range):\")\n",
    "print(\"Depth Range:\", selected_depth_range)\n",
    "print(\"Leaf Nodes Range:\", selected_leaf_range)\n",
    "print(np.round(selected_data, 2))\n",
    "print(f\"\\nBest Parameters Across All Random States:\")\n",
    "print(f\"  Average Best max_depth: {best_avg_depth}\")\n",
    "print(f\"  Average Best max_leaf_nodes: {best_avg_leaf_nodes}\")\n",
    "print(f\"  Average Best Accuracy: {round(max_avg_acc, 2)}%\")\n",
    "print()\n",
    "\n",
    "\n",
    "HHmodel=DecisionTreeClassifier(\n",
    "    criterion='gini',\n",
    "    max_depth=best_avg_depth,\n",
    "    max_leaf_nodes=best_avg_leaf_nodes,\n",
    "    min_samples_leaf=1,\n",
    "    random_state=4\n",
    ")\n",
    "HHmodel.fit(x_train,y_train)\n",
    "final_model_testing_prediction=HHmodel.predict(x_test)\n",
    "final_model_testing_acc=accuracy_score(y_test,final_model_testing_prediction)\n",
    "final_model_testing_f1s=f1_score(y_test,final_model_testing_prediction,pos_label=1)\n",
    "final_model_testing_pre=precision_score(y_test,final_model_testing_prediction,pos_label=1)\n",
    "final_model_testing_sen=recall_score(y_test,final_model_testing_prediction,pos_label=1)\n",
    "final_model_testing_spe=recall_score(y_test,final_model_testing_prediction,pos_label=0)\n",
    "final_model_testing_cm=confusion_matrix(y_test,final_model_testing_prediction)\n",
    "\n",
    "#print result\n",
    "print('Testing ACC:',round(final_model_testing_acc*100,2))\n",
    "print('Testing f1s:',round(final_model_testing_f1s*100,2))\n",
    "print('Testing pre:',round(final_model_testing_pre*100,2))\n",
    "print('Testing sen:',round(final_model_testing_sen*100,2))\n",
    "print('Testing spe:',round(final_model_testing_spe*100,2))\n",
    "ConfusionMatrixDisplay(final_model_testing_cm,display_labels=[\"0 is not died\",\"1 is died\"]).plot()"
   ],
   "metadata": {
    "collapsed": false,
    "ExecuteTime": {
     "end_time": "2024-12-20T12:25:30.965613Z",
     "start_time": "2024-12-20T12:24:20.353219Z"
    }
   },
   "id": "dd8567155ef6650"
  },
  {
   "cell_type": "markdown",
   "source": [
    "# 四、建立模型 - SVM"
   ],
   "metadata": {
    "collapsed": false
   },
   "id": "9870ff4603c29787"
  },
  {
   "cell_type": "markdown",
   "source": [
    "## (一)、Dataset A SVM"
   ],
   "metadata": {
    "collapsed": false
   },
   "id": "ae979018ca666ab6"
  },
  {
   "cell_type": "code",
   "execution_count": null,
   "outputs": [],
   "source": [
    "from sklearn.model_selection import train_test_split\n",
    "from sklearn.svm import SVC\n",
    "from sklearn.metrics import accuracy_score, f1_score, precision_score, recall_score, confusion_matrix\n",
    "from sklearn.preprocessing import MinMaxScaler\n",
    "from sklearn.metrics import ConfusionMatrixDisplay\n",
    "import numpy as np\n",
    "\n",
    "\n",
    "y = dataset_a['IS_DIED_0'].copy()\n",
    "x = dataset_a.drop(columns=['IS_DIED_0', 'IS_DIED_1']).copy()\n",
    "\n",
    "scaler = MinMaxScaler()\n",
    "scaling = scaler.fit_transform(x)\n",
    "scaled_data = pd.DataFrame(data=scaling, columns=x.columns)\n",
    "\n",
    "x_train, x_test, y_train, y_test = train_test_split(scaled_data, y, test_size=0.2, random_state=3)\n",
    "\n",
    "# 設定超參數範圍\n",
    "C_values = [2 ** i for i in range(-5, 16)]  # C 值範圍 [2^-5, ..., 2^15]\n",
    "degrees = range(1, 6)  # Degree 範圍 [1, ..., 2]\n",
    "\n",
    "# 結果儲存矩陣 (每個 random_state 都有一個矩陣)\n",
    "accuracy_matrices = {}\n",
    "\n",
    "# 進行超參數調整\n",
    "for random_state in [3, 30, 300]:\n",
    "    x_train_tuning, x_valid, y_train_tuning, y_valid = train_test_split(\n",
    "        x_train, y_train, test_size=0.2, random_state=random_state)\n",
    "\n",
    "    # 建立空矩陣來儲存當前 random_state 的準確度 (len(C_values) x len(degrees))\n",
    "    acc_matrix = np.zeros((len(C_values), len(degrees)))\n",
    "\n",
    "    for i, c in enumerate(C_values):\n",
    "        for j, degree in enumerate(degrees):\n",
    "            # 初始化模型\n",
    "            model = SVC(C=c, kernel='poly', degree=degree)\n",
    "            model.fit(x_train_tuning, y_train_tuning)  # 訓練模型\n",
    "\n",
    "            # 驗證模型\n",
    "            prediction = model.predict(x_valid)\n",
    "            valid_acc = accuracy_score(y_valid, prediction)\n",
    "\n",
    "            # 儲存準確度至矩陣\n",
    "            acc_matrix[i, j] = valid_acc * 100  # 轉為百分比格式\n",
    "\n",
    "    # 四捨五入矩陣結果\n",
    "    acc_matrix = np.round(acc_matrix, 2)\n",
    "    accuracy_matrices[random_state] = acc_matrix\n",
    "\n",
    "# 計算所有 random_state 準確度矩陣的平均\n",
    "average_matrix = np.mean(list(accuracy_matrices.values()), axis=0)\n",
    "average_matrix = np.round(average_matrix, 2)\n",
    "\n",
    "# 印出每個 random_state 的準確度矩陣\n",
    "print(\"\\nAccuracy Matrices for Each Random State:\")\n",
    "for random_state, acc_matrix in accuracy_matrices.items():\n",
    "    print(f\"\\nRandom State {random_state}:\")\n",
    "    print(\"C Values:\", C_values)\n",
    "    print(\"Degrees:\", list(degrees))\n",
    "    print(acc_matrix)\n",
    "\n",
    "print(\"\\nAverage Accuracy Matrix Across All Random States:\")\n",
    "print(\"C Values:\", C_values)\n",
    "print(\"Degrees:\", list(degrees))\n",
    "print(average_matrix)\n",
    "\n",
    "# 找出平均準確度矩陣中的最大值及其索引\n",
    "max_index = np.unravel_index(np.argmax(average_matrix, axis=None), average_matrix.shape)\n",
    "best_c_index, best_degree_index = max_index\n",
    "\n",
    "# 取得對應的最佳 C 和 degree 值\n",
    "best_c = C_values[best_c_index]\n",
    "best_degree = degrees[best_degree_index]\n",
    "\n",
    "print(f\"\\nBest Hyperparameters:\")\n",
    "print(f\"C = {best_c}\")\n",
    "print(f\"Degree = {best_degree}\")\n",
    "\n",
    "# 訓練最終模型\n",
    "final_model = SVC(C=best_c, kernel='poly', degree=best_degree)\n",
    "final_model.fit(x_train, y_train)\n",
    "\n",
    "# 測試集結果\n",
    "final_prediction = final_model.predict(x_test)\n",
    "final_acc = accuracy_score(y_test, final_prediction)\n",
    "final_f1 = f1_score(y_test, final_prediction, pos_label=1)\n",
    "final_precision = precision_score(y_test, final_prediction, pos_label=1)\n",
    "final_recall = recall_score(y_test, final_prediction, pos_label=1)\n",
    "final_specificity = recall_score(y_test, final_prediction, pos_label=0)\n",
    "final_confusion_matrix = confusion_matrix(y_test, final_prediction)\n",
    "\n",
    "# 印出測試結果\n",
    "print(\"\\nFinal Model Results:\")\n",
    "print(f\"Testing Accuracy: {round(final_acc * 100, 2)}%\")\n",
    "print(f\"Testing F1 Score: {round(final_f1 * 100, 2)}%\")\n",
    "print(f\"Testing Precision: {round(final_precision * 100, 2)}%\")\n",
    "print(f\"Testing Sensitivity: {round(final_recall * 100, 2)}%\")\n",
    "print(f\"Testing Specificity: {round(final_specificity * 100, 2)}%\")\n",
    "\n",
    "ConfusionMatrixDisplay(final_confusion_matrix, display_labels=[\"0 is not died\", \"1 is died\"]).plot()\n"
   ],
   "metadata": {
    "collapsed": false,
    "ExecuteTime": {
     "start_time": "2024-12-20T12:40:12.782651Z"
    }
   },
   "id": "f12c6b75cf2b3c19"
  },
  {
   "cell_type": "markdown",
   "source": [
    "## (二)、Dataset B SVM"
   ],
   "metadata": {
    "collapsed": false
   },
   "id": "a54b423b1603f04f"
  },
  {
   "cell_type": "code",
   "execution_count": null,
   "outputs": [],
   "source": [
    "from sklearn.model_selection import train_test_split\n",
    "from sklearn.svm import SVC\n",
    "from sklearn.metrics import accuracy_score, f1_score, precision_score, recall_score, confusion_matrix\n",
    "from sklearn.preprocessing import MinMaxScaler\n",
    "from sklearn.metrics import ConfusionMatrixDisplay\n",
    "import numpy as np\n",
    "\n",
    "\n",
    "y = dataset_b['IS_DIED_0'].copy()\n",
    "x = dataset_b.drop(columns=['IS_DIED_0', 'IS_DIED_1']).copy()\n",
    "\n",
    "scaler = MinMaxScaler()\n",
    "scaling = scaler.fit_transform(x)\n",
    "scaled_data = pd.DataFrame(data=scaling, columns=x.columns)\n",
    "\n",
    "x_train, x_test, y_train, y_test = train_test_split(scaled_data, y, test_size=0.2, random_state=3)\n",
    "\n",
    "# 設定超參數範圍\n",
    "C_values = [2 ** i for i in range(-5, 16)]  # C 值範圍 [2^-5, ..., 2^15]\n",
    "degrees = range(1, 6)  # Degree 範圍 [1, ..., 2]\n",
    "\n",
    "# 結果儲存矩陣 (每個 random_state 都有一個矩陣)\n",
    "accuracy_matrices = {}\n",
    "\n",
    "# 進行超參數調整\n",
    "for random_state in [3, 30, 300]:\n",
    "    x_train_tuning, x_valid, y_train_tuning, y_valid = train_test_split(\n",
    "        x_train, y_train, test_size=0.2, random_state=random_state)\n",
    "\n",
    "    # 建立空矩陣來儲存當前 random_state 的準確度 (len(C_values) x len(degrees))\n",
    "    acc_matrix = np.zeros((len(C_values), len(degrees)))\n",
    "\n",
    "    for i, c in enumerate(C_values):\n",
    "        for j, degree in enumerate(degrees):\n",
    "            # 初始化模型\n",
    "            model = SVC(C=c, kernel='poly', degree=degree)\n",
    "            model.fit(x_train_tuning, y_train_tuning)  # 訓練模型\n",
    "\n",
    "            # 驗證模型\n",
    "            prediction = model.predict(x_valid)\n",
    "            valid_acc = accuracy_score(y_valid, prediction)\n",
    "\n",
    "            # 儲存準確度至矩陣\n",
    "            acc_matrix[i, j] = valid_acc * 100  # 轉為百分比格式\n",
    "\n",
    "    # 四捨五入矩陣結果\n",
    "    acc_matrix = np.round(acc_matrix, 2)\n",
    "    accuracy_matrices[random_state] = acc_matrix\n",
    "\n",
    "# 計算所有 random_state 準確度矩陣的平均\n",
    "average_matrix = np.mean(list(accuracy_matrices.values()), axis=0)\n",
    "average_matrix = np.round(average_matrix, 2)\n",
    "\n",
    "# 印出每個 random_state 的準確度矩陣\n",
    "print(\"\\nAccuracy Matrices for Each Random State:\")\n",
    "for random_state, acc_matrix in accuracy_matrices.items():\n",
    "    print(f\"\\nRandom State {random_state}:\")\n",
    "    print(\"C Values:\", C_values)\n",
    "    print(\"Degrees:\", list(degrees))\n",
    "    print(acc_matrix)\n",
    "\n",
    "print(\"\\nAverage Accuracy Matrix Across All Random States:\")\n",
    "print(\"C Values:\", C_values)\n",
    "print(\"Degrees:\", list(degrees))\n",
    "print(average_matrix)\n",
    "\n",
    "# 找出平均準確度矩陣中的最大值及其索引\n",
    "max_index = np.unravel_index(np.argmax(average_matrix, axis=None), average_matrix.shape)\n",
    "best_c_index, best_degree_index = max_index\n",
    "\n",
    "# 取得對應的最佳 C 和 degree 值\n",
    "best_c = C_values[best_c_index]\n",
    "best_degree = degrees[best_degree_index]\n",
    "\n",
    "print(f\"\\nBest Hyperparameters:\")\n",
    "print(f\"C = {best_c}\")\n",
    "print(f\"Degree = {best_degree}\")\n",
    "\n",
    "# 訓練最終模型\n",
    "final_model = SVC(C=best_c, kernel='poly', degree=best_degree)\n",
    "final_model.fit(x_train, y_train)\n",
    "\n",
    "# 測試集結果\n",
    "final_prediction = final_model.predict(x_test)\n",
    "final_acc = accuracy_score(y_test, final_prediction)\n",
    "final_f1 = f1_score(y_test, final_prediction, pos_label=1)\n",
    "final_precision = precision_score(y_test, final_prediction, pos_label=1)\n",
    "final_recall = recall_score(y_test, final_prediction, pos_label=1)\n",
    "final_specificity = recall_score(y_test, final_prediction, pos_label=0)\n",
    "final_confusion_matrix = confusion_matrix(y_test, final_prediction)\n",
    "\n",
    "# 印出測試結果\n",
    "print(\"\\nFinal Model Results:\")\n",
    "print(f\"Testing Accuracy: {round(final_acc * 100, 2)}%\")\n",
    "print(f\"Testing F1 Score: {round(final_f1 * 100, 2)}%\")\n",
    "print(f\"Testing Precision: {round(final_precision * 100, 2)}%\")\n",
    "print(f\"Testing Sensitivity: {round(final_recall * 100, 2)}%\")\n",
    "print(f\"Testing Specificity: {round(final_specificity * 100, 2)}%\")\n",
    "\n",
    "ConfusionMatrixDisplay(final_confusion_matrix, display_labels=[\"0 is not died\", \"1 is died\"]).plot()\n"
   ],
   "metadata": {
    "collapsed": false
   },
   "id": "fde240854e3914c3"
  },
  {
   "cell_type": "markdown",
   "source": [
    "# 五、建立模型 - KNN"
   ],
   "metadata": {
    "collapsed": false
   },
   "id": "1d18244786b4f52a"
  },
  {
   "cell_type": "markdown",
   "source": [
    "## (一)、Dataset A KNN"
   ],
   "metadata": {
    "collapsed": false
   },
   "id": "111a041b45d6ecb9"
  },
  {
   "cell_type": "code",
   "execution_count": 130,
   "outputs": [
    {
     "name": "stdout",
     "output_type": "stream",
     "text": [
      "\n",
      "Accuracy Matrices for Each Random State:\n",
      "\n",
      "Random State 3:\n",
      "n_neighbors Range: [1, 2, 3, 4, 5, 6, 7, 8, 9, 10, 11, 12, 13, 14, 15, 16, 17, 18, 19, 20, 21, 22, 23, 24, 25, 26, 27, 28, 29, 30]\n",
      "[71.45 68.67 75.72 74.61 76.95 76.12 77.84 77.35 78.12 77.7  78.53 78.14\n",
      " 78.73 78.49 78.79 78.51 78.83 78.73 79.08 78.92 79.25 79.22 79.4  79.15\n",
      " 79.3  79.27 79.19 79.28 79.45 79.42]\n",
      "\n",
      "Random State 30:\n",
      "n_neighbors Range: [1, 2, 3, 4, 5, 6, 7, 8, 9, 10, 11, 12, 13, 14, 15, 16, 17, 18, 19, 20, 21, 22, 23, 24, 25, 26, 27, 28, 29, 30]\n",
      "[72.05 68.6  74.97 73.88 76.43 75.77 76.97 76.7  77.94 77.67 78.08 77.79\n",
      " 78.27 78.23 78.17 78.14 78.21 78.18 78.33 78.35 78.36 78.44 78.5  78.51\n",
      " 78.46 78.6  78.39 78.49 78.47 78.49]\n",
      "\n",
      "Random State 300:\n",
      "n_neighbors Range: [1, 2, 3, 4, 5, 6, 7, 8, 9, 10, 11, 12, 13, 14, 15, 16, 17, 18, 19, 20, 21, 22, 23, 24, 25, 26, 27, 28, 29, 30]\n",
      "[71.69 68.43 75.08 74.18 76.78 75.88 77.74 77.19 77.91 77.4  78.44 77.92\n",
      " 78.44 78.06 78.31 78.23 78.67 78.57 78.88 78.64 79.18 79.09 79.1  79.24\n",
      " 79.41 79.14 79.43 79.49 79.32 79.35]\n",
      "\n",
      "Average Accuracy Matrix Across All Random States:\n",
      "n_neighbors Range: [1, 2, 3, 4, 5, 6, 7, 8, 9, 10, 11, 12, 13, 14, 15, 16, 17, 18, 19, 20, 21, 22, 23, 24, 25, 26, 27, 28, 29, 30]\n",
      "[71.73 68.57 75.26 74.22 76.72 75.92 77.52 77.08 77.99 77.59 78.35 77.95\n",
      " 78.48 78.26 78.42 78.29 78.57 78.49 78.76 78.64 78.93 78.92 79.   78.97\n",
      " 79.06 79.   79.   79.09 79.08 79.09]\n",
      "\n",
      "Best Hyperparameters:\n",
      "n_neighbors = 28\n",
      "\n",
      "Final Model Results:\n",
      "Testing Accuracy: 78.25%\n",
      "Testing F1 Score: 85.14%\n",
      "Testing Precision: 80.09%\n",
      "Testing Sensitivity: 90.88%\n",
      "Testing Specificity: 50.65%\n"
     ]
    },
    {
     "data": {
      "text/plain": "<sklearn.metrics._plot.confusion_matrix.ConfusionMatrixDisplay at 0x32ed76090>"
     },
     "execution_count": 130,
     "metadata": {},
     "output_type": "execute_result"
    },
    {
     "data": {
      "text/plain": "<Figure size 640x480 with 2 Axes>",
      "image/png": "[encoded data removed]"
     },
     "metadata": {},
     "output_type": "display_data"
    }
   ],
   "source": [
    "# 修改後的程式碼\n",
    "from sklearn.model_selection import train_test_split\n",
    "from sklearn.neighbors import KNeighborsClassifier\n",
    "from sklearn.metrics import accuracy_score, f1_score, precision_score, recall_score, confusion_matrix\n",
    "from sklearn.preprocessing import MinMaxScaler\n",
    "from sklearn.metrics import ConfusionMatrixDisplay\n",
    "import numpy as np\n",
    "\n",
    "# 資料準備\n",
    "y = dataset_a['IS_DIED_0'].copy()\n",
    "x = dataset_a.drop(columns=['IS_DIED_0', 'IS_DIED_1']).copy()\n",
    "\n",
    "scaler = MinMaxScaler()\n",
    "scaling = scaler.fit_transform(x)\n",
    "scaled_data = pd.DataFrame(data=scaling, columns=x.columns)\n",
    "\n",
    "x_train, x_test, y_train, y_test = train_test_split(scaled_data, y, test_size=0.2, random_state=3)\n",
    "\n",
    "# 設定超參數範圍\n",
    "n_neighbors_range = range(1, 31)  # 鄰居數範圍\n",
    "\n",
    "# 結果儲存矩陣 (每個 random_state 都有一個矩陣)\n",
    "accuracy_matrices = {}\n",
    "\n",
    "# 進行超參數調整\n",
    "for random_state in [3, 30, 300]:\n",
    "    x_train_tuning, x_valid, y_train_tuning, y_valid = train_test_split(\n",
    "        x_train, y_train, test_size=0.2, random_state=random_state)\n",
    "\n",
    "    # 建立空矩陣來儲存當前 random_state 的準確度 (len(n_neighbors_range))\n",
    "    acc_matrix = np.zeros(len(n_neighbors_range))\n",
    "\n",
    "    for i, n_neighbors in enumerate(n_neighbors_range):\n",
    "        # 初始化模型\n",
    "        model = KNeighborsClassifier(n_neighbors=n_neighbors)\n",
    "        model.fit(x_train_tuning, y_train_tuning)  # 訓練模型\n",
    "\n",
    "        # 驗證模型\n",
    "        prediction = model.predict(x_valid)\n",
    "        valid_acc = accuracy_score(y_valid, prediction)\n",
    "\n",
    "        # 儲存準確度至矩陣\n",
    "        acc_matrix[i] = valid_acc * 100  # 轉為百分比格式\n",
    "\n",
    "    # 四捨五入矩陣結果\n",
    "    acc_matrix = np.round(acc_matrix, 2)\n",
    "    accuracy_matrices[random_state] = acc_matrix\n",
    "\n",
    "# 計算所有 random_state 準確度矩陣的平均\n",
    "average_matrix = np.mean(list(accuracy_matrices.values()), axis=0)\n",
    "average_matrix = np.round(average_matrix, 2)\n",
    "\n",
    "# 印出每個 random_state 的準確度矩陣\n",
    "print(\"\\nAccuracy Matrices for Each Random State:\")\n",
    "for random_state, acc_matrix in accuracy_matrices.items():\n",
    "    print(f\"\\nRandom State {random_state}:\")\n",
    "    print(\"n_neighbors Range:\", list(n_neighbors_range))\n",
    "    print(acc_matrix)\n",
    "\n",
    "print(\"\\nAverage Accuracy Matrix Across All Random States:\")\n",
    "print(\"n_neighbors Range:\", list(n_neighbors_range))\n",
    "print(average_matrix)\n",
    "\n",
    "# 找出平均準確度矩陣中的最大值及其索引\n",
    "best_n_neighbors_index = np.argmax(average_matrix)\n",
    "\n",
    "# 取得對應的最佳 n_neighbors 值\n",
    "best_n_neighbors = list(n_neighbors_range)[best_n_neighbors_index]\n",
    "\n",
    "print(f\"\\nBest Hyperparameters:\")\n",
    "print(f\"n_neighbors = {best_n_neighbors}\")\n",
    "\n",
    "# 訓練最終模型\n",
    "final_model = KNeighborsClassifier(n_neighbors=best_n_neighbors)\n",
    "final_model.fit(x_train, y_train)\n",
    "\n",
    "# 測試集結果\n",
    "final_prediction = final_model.predict(x_test)\n",
    "final_acc = accuracy_score(y_test, final_prediction)\n",
    "final_f1 = f1_score(y_test, final_prediction, pos_label=1)\n",
    "final_precision = precision_score(y_test, final_prediction, pos_label=1)\n",
    "final_recall = recall_score(y_test, final_prediction, pos_label=1)\n",
    "final_specificity = recall_score(y_test, final_prediction, pos_label=0)\n",
    "final_confusion_matrix = confusion_matrix(y_test, final_prediction)\n",
    "\n",
    "# 印出測試結果\n",
    "print(\"\\nFinal Model Results:\")\n",
    "print(f\"Testing Accuracy: {round(final_acc * 100, 2)}%\")\n",
    "print(f\"Testing F1 Score: {round(final_f1 * 100, 2)}%\")\n",
    "print(f\"Testing Precision: {round(final_precision * 100, 2)}%\")\n",
    "print(f\"Testing Sensitivity: {round(final_recall * 100, 2)}%\")\n",
    "print(f\"Testing Specificity: {round(final_specificity * 100, 2)}%\")\n",
    "\n",
    "ConfusionMatrixDisplay(final_confusion_matrix, display_labels=[\"0 is not died\", \"1 is died\"]).plot()\n"
   ],
   "metadata": {
    "collapsed": false,
    "ExecuteTime": {
     "end_time": "2024-12-20T12:49:55.683623Z",
     "start_time": "2024-12-20T12:49:07.072926Z"
    }
   },
   "id": "31de65a68e313122"
  },
  {
   "cell_type": "markdown",
   "source": [
    "## (二)、Dataset B KNN"
   ],
   "metadata": {
    "collapsed": false
   },
   "id": "4cfbb4426e31dd17"
  },
  {
   "cell_type": "code",
   "execution_count": 131,
   "outputs": [
    {
     "name": "stdout",
     "output_type": "stream",
     "text": [
      "\n",
      "Accuracy Matrices for Each Random State:\n",
      "\n",
      "Random State 3:\n",
      "n_neighbors Range: [1, 2, 3, 4, 5, 6, 7, 8, 9, 10, 11, 12, 13, 14, 15, 16, 17, 18, 19, 20, 21, 22, 23, 24, 25, 26, 27, 28, 29, 30]\n",
      "[71.68 68.93 75.62 74.39 77.17 76.23 78.05 77.39 78.57 78.12 78.96 78.53\n",
      " 78.93 78.64 79.16 78.69 79.05 78.84 79.06 78.95 79.34 79.23 79.2  79.28\n",
      " 79.37 79.39 79.35 79.34 79.32 79.44]\n",
      "\n",
      "Random State 30:\n",
      "n_neighbors Range: [1, 2, 3, 4, 5, 6, 7, 8, 9, 10, 11, 12, 13, 14, 15, 16, 17, 18, 19, 20, 21, 22, 23, 24, 25, 26, 27, 28, 29, 30]\n",
      "[71.75 68.44 74.93 73.87 76.56 76.15 77.21 76.77 77.8  77.66 77.97 77.83\n",
      " 78.16 78.2  78.38 78.46 78.36 78.36 78.36 78.28 78.42 78.43 78.41 78.44\n",
      " 78.27 78.47 78.44 78.47 78.38 78.29]\n",
      "\n",
      "Random State 300:\n",
      "n_neighbors Range: [1, 2, 3, 4, 5, 6, 7, 8, 9, 10, 11, 12, 13, 14, 15, 16, 17, 18, 19, 20, 21, 22, 23, 24, 25, 26, 27, 28, 29, 30]\n",
      "[71.73 68.29 75.27 74.44 76.69 75.71 77.67 77.13 78.   77.74 78.45 78.\n",
      " 78.56 78.28 78.36 78.52 78.72 78.6  78.87 78.74 78.86 78.84 79.23 79.2\n",
      " 79.12 79.22 79.32 79.33 79.36 79.38]\n",
      "\n",
      "Average Accuracy Matrix Across All Random States:\n",
      "n_neighbors Range: [1, 2, 3, 4, 5, 6, 7, 8, 9, 10, 11, 12, 13, 14, 15, 16, 17, 18, 19, 20, 21, 22, 23, 24, 25, 26, 27, 28, 29, 30]\n",
      "[71.72 68.55 75.27 74.23 76.81 76.03 77.64 77.1  78.12 77.84 78.46 78.12\n",
      " 78.55 78.37 78.63 78.56 78.71 78.6  78.76 78.66 78.87 78.83 78.95 78.97\n",
      " 78.92 79.03 79.04 79.05 79.02 79.04]\n",
      "\n",
      "Best Hyperparameters:\n",
      "n_neighbors = 28\n",
      "\n",
      "Final Model Results:\n",
      "Testing Accuracy: 78.15%\n",
      "Testing F1 Score: 85.07%\n",
      "Testing Precision: 80.07%\n",
      "Testing Sensitivity: 90.73%\n",
      "Testing Specificity: 50.67%\n"
     ]
    },
    {
     "data": {
      "text/plain": "<sklearn.metrics._plot.confusion_matrix.ConfusionMatrixDisplay at 0x3440dbc50>"
     },
     "execution_count": 131,
     "metadata": {},
     "output_type": "execute_result"
    },
    {
     "data": {
      "text/plain": "<Figure size 640x480 with 2 Axes>",
      "image/png": "[encoded data removed]"
     },
     "metadata": {},
     "output_type": "display_data"
    }
   ],
   "source": [
    "# 修改後的程式碼\n",
    "from sklearn.model_selection import train_test_split\n",
    "from sklearn.neighbors import KNeighborsClassifier\n",
    "from sklearn.metrics import accuracy_score, f1_score, precision_score, recall_score, confusion_matrix\n",
    "from sklearn.preprocessing import MinMaxScaler\n",
    "from sklearn.metrics import ConfusionMatrixDisplay\n",
    "import numpy as np\n",
    "\n",
    "# 資料準備\n",
    "y = dataset_b['IS_DIED_0'].copy()\n",
    "x = dataset_b.drop(columns=['IS_DIED_0', 'IS_DIED_1']).copy()\n",
    "\n",
    "scaler = MinMaxScaler()\n",
    "scaling = scaler.fit_transform(x)\n",
    "scaled_data = pd.DataFrame(data=scaling, columns=x.columns)\n",
    "\n",
    "x_train, x_test, y_train, y_test = train_test_split(scaled_data, y, test_size=0.2, random_state=3)\n",
    "\n",
    "# 設定超參數範圍\n",
    "n_neighbors_range = range(1, 31)  # 鄰居數範圍\n",
    "\n",
    "# 結果儲存矩陣 (每個 random_state 都有一個矩陣)\n",
    "accuracy_matrices = {}\n",
    "\n",
    "# 進行超參數調整\n",
    "for random_state in [3, 30, 300]:\n",
    "    x_train_tuning, x_valid, y_train_tuning, y_valid = train_test_split(\n",
    "        x_train, y_train, test_size=0.2, random_state=random_state)\n",
    "\n",
    "    # 建立空矩陣來儲存當前 random_state 的準確度 (len(n_neighbors_range))\n",
    "    acc_matrix = np.zeros(len(n_neighbors_range))\n",
    "\n",
    "    for i, n_neighbors in enumerate(n_neighbors_range):\n",
    "        # 初始化模型\n",
    "        model = KNeighborsClassifier(n_neighbors=n_neighbors)\n",
    "        model.fit(x_train_tuning, y_train_tuning)  # 訓練模型\n",
    "\n",
    "        # 驗證模型\n",
    "        prediction = model.predict(x_valid)\n",
    "        valid_acc = accuracy_score(y_valid, prediction)\n",
    "\n",
    "        # 儲存準確度至矩陣\n",
    "        acc_matrix[i] = valid_acc * 100  # 轉為百分比格式\n",
    "\n",
    "    # 四捨五入矩陣結果\n",
    "    acc_matrix = np.round(acc_matrix, 2)\n",
    "    accuracy_matrices[random_state] = acc_matrix\n",
    "\n",
    "# 計算所有 random_state 準確度矩陣的平均\n",
    "average_matrix = np.mean(list(accuracy_matrices.values()), axis=0)\n",
    "average_matrix = np.round(average_matrix, 2)\n",
    "\n",
    "# 印出每個 random_state 的準確度矩陣\n",
    "print(\"\\nAccuracy Matrices for Each Random State:\")\n",
    "for random_state, acc_matrix in accuracy_matrices.items():\n",
    "    print(f\"\\nRandom State {random_state}:\")\n",
    "    print(\"n_neighbors Range:\", list(n_neighbors_range))\n",
    "    print(acc_matrix)\n",
    "\n",
    "print(\"\\nAverage Accuracy Matrix Across All Random States:\")\n",
    "print(\"n_neighbors Range:\", list(n_neighbors_range))\n",
    "print(average_matrix)\n",
    "\n",
    "# 找出平均準確度矩陣中的最大值及其索引\n",
    "best_n_neighbors_index = np.argmax(average_matrix)\n",
    "\n",
    "# 取得對應的最佳 n_neighbors 值\n",
    "best_n_neighbors = list(n_neighbors_range)[best_n_neighbors_index]\n",
    "\n",
    "print(f\"\\nBest Hyperparameters:\")\n",
    "print(f\"n_neighbors = {best_n_neighbors}\")\n",
    "\n",
    "# 訓練最終模型\n",
    "final_model = KNeighborsClassifier(n_neighbors=best_n_neighbors)\n",
    "final_model.fit(x_train, y_train)\n",
    "\n",
    "# 測試集結果\n",
    "final_prediction = final_model.predict(x_test)\n",
    "final_acc = accuracy_score(y_test, final_prediction)\n",
    "final_f1 = f1_score(y_test, final_prediction, pos_label=1)\n",
    "final_precision = precision_score(y_test, final_prediction, pos_label=1)\n",
    "final_recall = recall_score(y_test, final_prediction, pos_label=1)\n",
    "final_specificity = recall_score(y_test, final_prediction, pos_label=0)\n",
    "final_confusion_matrix = confusion_matrix(y_test, final_prediction)\n",
    "\n",
    "# 印出測試結果\n",
    "print(\"\\nFinal Model Results:\")\n",
    "print(f\"Testing Accuracy: {round(final_acc * 100, 2)}%\")\n",
    "print(f\"Testing F1 Score: {round(final_f1 * 100, 2)}%\")\n",
    "print(f\"Testing Precision: {round(final_precision * 100, 2)}%\")\n",
    "print(f\"Testing Sensitivity: {round(final_recall * 100, 2)}%\")\n",
    "print(f\"Testing Specificity: {round(final_specificity * 100, 2)}%\")\n",
    "\n",
    "ConfusionMatrixDisplay(final_confusion_matrix, display_labels=[\"0 is not died\", \"1 is died\"]).plot()\n"
   ],
   "metadata": {
    "collapsed": false,
    "ExecuteTime": {
     "end_time": "2024-12-20T13:02:58.386617Z",
     "start_time": "2024-12-20T13:02:12.654381Z"
    }
   },
   "id": "1432d10bbf526b69"
  },
  {
   "cell_type": "code",
   "execution_count": null,
   "outputs": [],
   "source": [],
   "metadata": {
    "collapsed": false
   },
   "id": "e994c119fdbb5f94"
  }
 ],
 "metadata": {
  "kernelspec": {
   "display_name": "Python 3",
   "language": "python",
   "name": "python3"
  },
  "language_info": {
   "codemirror_mode": {
    "name": "ipython",
    "version": 2
   },
   "file_extension": ".py",
   "mimetype": "text/x-python",
   "name": "python",
   "nbconvert_exporter": "python",
   "pygments_lexer": "ipython2",
   "version": "2.7.6"
  }
 },
 "nbformat": 4,
 "nbformat_minor": 5
}
