{
 "cells": [
  {
   "metadata": {
    "ExecuteTime": {
     "end_time": "2024-11-30T16:08:30.851969Z",
     "start_time": "2024-11-30T16:08:30.848164Z"
    }
   },
   "cell_type": "code",
   "source": [
    "import pandas as pd\n",
    "from scipy.stats import chi2_contingency\n",
    "from sklearn.feature_selection import mutual_info_classif\n",
    "import numpy as np"
   ],
   "id": "3ac7d455f59da5e5",
   "outputs": [],
   "execution_count": 44
  },
  {
   "metadata": {
    "collapsed": true,
    "ExecuteTime": {
     "end_time": "2024-11-30T16:08:32.068029Z",
     "start_time": "2024-11-30T16:08:32.049582Z"
    }
   },
   "cell_type": "code",
   "source": [
    "df = pd.read_csv(\"./remote_mental_health_dataset.csv\")\n",
    "df.info()"
   ],
   "id": "initial_id",
   "outputs": [
    {
     "name": "stdout",
     "output_type": "stream",
     "text": [
      "<class 'pandas.core.frame.DataFrame'>\n",
      "RangeIndex: 5000 entries, 0 to 4999\n",
      "Data columns (total 20 columns):\n",
      " #   Column                             Non-Null Count  Dtype \n",
      "---  ------                             --------------  ----- \n",
      " 0   Employee_ID                        5000 non-null   object\n",
      " 1   Age                                5000 non-null   int64 \n",
      " 2   Gender                             5000 non-null   object\n",
      " 3   Job_Role                           5000 non-null   object\n",
      " 4   Industry                           5000 non-null   object\n",
      " 5   Years_of_Experience                5000 non-null   int64 \n",
      " 6   Work_Location                      5000 non-null   object\n",
      " 7   Hours_Worked_Per_Week              5000 non-null   int64 \n",
      " 8   Number_of_Virtual_Meetings         5000 non-null   int64 \n",
      " 9   Work_Life_Balance_Rating           5000 non-null   int64 \n",
      " 10  Stress_Level                       5000 non-null   object\n",
      " 11  Mental_Health_Condition            3804 non-null   object\n",
      " 12  Access_to_Mental_Health_Resources  5000 non-null   object\n",
      " 13  Productivity_Change                5000 non-null   object\n",
      " 14  Social_Isolation_Rating            5000 non-null   int64 \n",
      " 15  Satisfaction_with_Remote_Work      5000 non-null   object\n",
      " 16  Company_Support_for_Remote_Work    5000 non-null   int64 \n",
      " 17  Physical_Activity                  3371 non-null   object\n",
      " 18  Sleep_Quality                      5000 non-null   object\n",
      " 19  Region                             5000 non-null   object\n",
      "dtypes: int64(7), object(13)\n",
      "memory usage: 781.4+ KB\n"
     ]
    }
   ],
   "execution_count": 45
  },
  {
   "metadata": {
    "ExecuteTime": {
     "end_time": "2024-11-30T16:11:18.070406Z",
     "start_time": "2024-11-30T16:11:18.063345Z"
    }
   },
   "cell_type": "code",
   "source": [
    "print(\"----Before----\")\n",
    "print(df[\"Satisfaction_with_Remote_Work\"].value_counts())\n",
    "\n",
    "df['Satisfaction_with_Remote_Work'] = df['Satisfaction_with_Remote_Work'].replace('Neutral', 'Satisfied')\n",
    "print(\"----After----\")\n",
    "print(df[\"Satisfaction_with_Remote_Work\"].value_counts())"
   ],
   "id": "5a31f0d7dd00019f",
   "outputs": [
    {
     "name": "stdout",
     "output_type": "stream",
     "text": [
      "----Before----\n",
      "Satisfaction_with_Remote_Work\n",
      "Unsatisfied    1677\n",
      "Satisfied      1675\n",
      "Neutral        1648\n",
      "Name: count, dtype: int64\n",
      "----After----\n",
      "Satisfaction_with_Remote_Work\n",
      "Satisfied      3323\n",
      "Unsatisfied    1677\n",
      "Name: count, dtype: int64\n"
     ]
    }
   ],
   "execution_count": 49
  },
  {
   "metadata": {
    "ExecuteTime": {
     "end_time": "2024-11-30T16:13:34.811113Z",
     "start_time": "2024-11-30T16:13:34.737106Z"
    }
   },
   "cell_type": "code",
   "source": [
    "# 設定目標變數\n",
    "target_var = 'Satisfaction_with_Remote_Work'\n",
    "\n",
    "# 初始化結果表格\n",
    "results = []\n",
    "\n",
    "# 對每個特徵進行卡方檢定（僅限於類別型變數）\n",
    "for col in df.columns:\n",
    "    if col != target_var and df[col].dtype == 'object':  # 排除目標變數和非類別型變數\n",
    "        # 建立列聯表\n",
    "        contingency_table = pd.crosstab(df[col], df[target_var])\n",
    "        \n",
    "        # 執行卡方檢定\n",
    "        chi2, p, dof, _ = chi2_contingency(contingency_table)\n",
    "        \n",
    "        # 收集檢定結果\n",
    "        results.append({\n",
    "            'Feature': col,\n",
    "            'Chi2 Statistic': chi2,\n",
    "            'p-value': p,\n",
    "            'Degrees of Freedom': dof,\n",
    "            'Significant': p < 0.05  # 判斷是否顯著\n",
    "        })\n",
    "\n",
    "# 將結果轉換為 DataFrame\n",
    "chi2_results = pd.DataFrame(results)\n",
    "\n",
    "# 按照 p-value 排序\n",
    "chi2_results = chi2_results.sort_values(by='p-value', ascending=True)\n",
    "\n",
    "# 印出結果\n",
    "print(chi2_results)"
   ],
   "id": "c07ff2529439b470",
   "outputs": [
    {
     "name": "stdout",
     "output_type": "stream",
     "text": [
      "                              Feature  Chi2 Statistic   p-value  \\\n",
      "9                   Physical_Activity        1.395995  0.237395   \n",
      "1                              Gender        3.496855  0.321170   \n",
      "10                      Sleep_Quality        1.902950  0.386171   \n",
      "0                         Employee_ID     5000.000000  0.493351   \n",
      "6             Mental_Health_Condition        1.330426  0.514164   \n",
      "4                       Work_Location        1.180480  0.554194   \n",
      "11                             Region        2.814612  0.728541   \n",
      "2                            Job_Role        2.979534  0.811411   \n",
      "8                 Productivity_Change        0.321107  0.851672   \n",
      "5                        Stress_Level        0.303807  0.859071   \n",
      "7   Access_to_Mental_Health_Resources        0.011328  0.915239   \n",
      "3                            Industry        0.970336  0.986712   \n",
      "\n",
      "    Degrees of Freedom  Significant  \n",
      "9                    1        False  \n",
      "1                    3        False  \n",
      "10                   2        False  \n",
      "0                 4999        False  \n",
      "6                    2        False  \n",
      "4                    2        False  \n",
      "11                   5        False  \n",
      "2                    6        False  \n",
      "8                    2        False  \n",
      "5                    2        False  \n",
      "7                    1        False  \n",
      "3                    6        False  \n"
     ]
    }
   ],
   "execution_count": 53
  },
  {
   "metadata": {
    "ExecuteTime": {
     "end_time": "2024-11-30T16:12:24.047331Z",
     "start_time": "2024-11-30T16:12:10.880345Z"
    }
   },
   "cell_type": "code",
   "source": [
    "# 計算信息增益\n",
    "categorical_features = df.select_dtypes(include=['object', 'category']).columns.tolist()\n",
    "categorical_features.extend(df.select_dtypes(include=[\"int64\"]).columns.tolist())\n",
    "target_var = 'Satisfaction_with_Remote_Work'\n",
    "\n",
    "X = pd.get_dummies(df[categorical_features])  # 將類別型變數轉為數值型\n",
    "y = df[target_var]\n",
    "\n",
    "info_gain = mutual_info_classif(X, y, discrete_features=True)\n",
    "\n",
    "# 計算分裂信息\n",
    "def split_information(data, feature):\n",
    "    values = data[feature].value_counts(normalize=True)\n",
    "    return -np.sum(values * np.log2(values + 1e-9))  # 避免 log(0)\n",
    "\n",
    "split_info = [split_information(df, col) for col in categorical_features]\n",
    "\n",
    "# 計算 Gain Ratio\n",
    "gain_ratios = [ig / si if si != 0 else 0 for ig, si in zip(info_gain, split_info)]\n",
    "\n",
    "# 結果整理\n",
    "gain_ratio_df = pd.DataFrame({\n",
    "    'Feature': categorical_features,\n",
    "    'Gain Ratio': gain_ratios\n",
    "}).sort_values(by='Gain Ratio', ascending=False)\n",
    "\n",
    "print(gain_ratio_df)"
   ],
   "id": "6bc950927f932741",
   "outputs": [
    {
     "name": "stdout",
     "output_type": "stream",
     "text": [
      "                              Feature  Gain Ratio\n",
      "1                              Gender    0.001831\n",
      "2                            Job_Role    0.001247\n",
      "6             Mental_Health_Condition    0.000429\n",
      "4                       Work_Location    0.000417\n",
      "0                         Employee_ID    0.000306\n",
      "3                            Industry    0.000296\n",
      "5                        Stress_Level    0.000251\n",
      "9       Satisfaction_with_Remote_Work    0.000237\n",
      "10                  Physical_Activity    0.000219\n",
      "7   Access_to_Mental_Health_Resources    0.000219\n",
      "11                      Sleep_Quality    0.000138\n",
      "12                             Region    0.000085\n",
      "8                 Productivity_Change    0.000052\n",
      "15              Hours_Worked_Per_Week    0.000041\n",
      "18            Social_Isolation_Rating    0.000035\n",
      "19    Company_Support_for_Remote_Work    0.000035\n",
      "17           Work_Life_Balance_Rating    0.000035\n",
      "16         Number_of_Virtual_Meetings    0.000020\n",
      "14                Years_of_Experience    0.000016\n",
      "13                                Age    0.000015\n"
     ]
    }
   ],
   "execution_count": 51
  },
  {
   "metadata": {},
   "cell_type": "code",
   "outputs": [],
   "execution_count": null,
   "source": "",
   "id": "cd5c1e50976754a3"
  }
 ],
 "metadata": {
  "kernelspec": {
   "display_name": "Python 3",
   "language": "python",
   "name": "python3"
  },
  "language_info": {
   "codemirror_mode": {
    "name": "ipython",
    "version": 2
   },
   "file_extension": ".py",
   "mimetype": "text/x-python",
   "name": "python",
   "nbconvert_exporter": "python",
   "pygments_lexer": "ipython2",
   "version": "2.7.6"
  }
 },
 "nbformat": 4,
 "nbformat_minor": 5
}
