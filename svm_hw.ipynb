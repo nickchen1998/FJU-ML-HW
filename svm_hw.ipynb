{
 "cells": [
  {
   "cell_type": "code",
   "id": "initial_id",
   "metadata": {
    "collapsed": true,
    "ExecuteTime": {
     "end_time": "2024-12-03T11:21:07.558160Z",
     "start_time": "2024-12-03T11:21:06.524942Z"
    }
   },
   "source": [
    "# Basic packages always been used\n",
    "import pandas as pd\n",
    "import numpy as np\n",
    "import matplotlib.pyplot as plt\n",
    "\n",
    "# Data preprocessing useful function\n",
    "from sklearn.preprocessing import LabelEncoder\n",
    "\n",
    "# Data scaling\n",
    "# normalization\n",
    "from sklearn.preprocessing import MinMaxScaler\n",
    "# standardization\n",
    "from sklearn.preprocessing import StandardScaler\n",
    "\n",
    "# Function for spilting training & testing data set\n",
    "from sklearn.model_selection import train_test_split\n",
    "\n",
    "# Algorithm\n",
    "# SVM with linear function\n",
    "from sklearn.svm import SVC\n",
    "from sklearn.neighbors import KNeighborsClassifier\n",
    "\n",
    "# Functions for evaluation\n",
    "from sklearn.model_selection import cross_val_score\n",
    "from sklearn.metrics import accuracy_score\n",
    "from sklearn.metrics import f1_score\n",
    "from sklearn.metrics import precision_score\n",
    "from imblearn.metrics import sensitivity_score\n",
    "from imblearn.metrics import specificity_score\n",
    "from sklearn.metrics import confusion_matrix\n",
    "from sklearn.metrics import ConfusionMatrixDisplay\n",
    "from sklearn.metrics import roc_auc_score,roc_curve,auc\n",
    "from sklearn.metrics import RocCurveDisplay"
   ],
   "outputs": [],
   "execution_count": 1
  },
  {
   "cell_type": "code",
   "source": [
    "df = pd.read_csv('titanic_dataset_3.csv')\n",
    "df['Pclass']=df['Pclass'].astype(str)\n",
    "new_df=df.dropna(axis=0, how='any').copy()\n",
    "demo_mapping=new_df.copy()\n",
    "\n",
    "# create dictionary for labels\n",
    "mapping_Pclass={'3':3,'1':1,'2':2}\n",
    "mapping_Sex={'male':0,'female':1}\n",
    "mapping_Embarked={'S':0,'C':1,'Q':2}\n",
    "mapping_Survived={'no':0,'yes':1}\n",
    "\n",
    "# using map function\n",
    "demo_mapping['Pclass']=demo_mapping['Pclass'].map(mapping_Pclass)\n",
    "demo_mapping['Sex']=demo_mapping['Sex'].map(mapping_Sex)\n",
    "demo_mapping['Embarked']=demo_mapping['Embarked'].map(mapping_Embarked)\n",
    "demo_mapping['Survived']=demo_mapping['Survived'].map(mapping_Survived)\n",
    "dummied_new_df=pd.get_dummies(new_df,columns=['Pclass','Sex','Embarked','Survived'],dtype=int).copy()\n",
    "dummied_new_df.head()"
   ],
   "metadata": {
    "collapsed": false,
    "ExecuteTime": {
     "end_time": "2024-12-03T11:21:08.912134Z",
     "start_time": "2024-12-03T11:21:08.883631Z"
    }
   },
   "id": "ef80e52ccedf857f",
   "outputs": [
    {
     "data": {
      "text/plain": "    Age  SibSp  Parch   Fare  Pclass_1  Pclass_2  Pclass_3  Sex_female  \\\n1  28.0      0      0  26.55         1         0         0           0   \n2  28.0      1      1  14.40         0         0         1           1   \n3  39.0      0      0  13.00         0         1         0           0   \n4  22.0      0      0   8.05         0         0         1           0   \n5  34.0      0      0  13.00         0         1         0           0   \n\n   Sex_male  Embarked_C  Embarked_Q  Embarked_S  Survived_no  Survived_yes  \n1         1           0           0           1            0             1  \n2         0           0           0           1            1             0  \n3         1           0           0           1            1             0  \n4         1           0           0           1            1             0  \n5         1           0           0           1            0             1  ",
      "text/html": "<div>\n<style scoped>\n    .dataframe tbody tr th:only-of-type {\n        vertical-align: middle;\n    }\n\n    .dataframe tbody tr th {\n        vertical-align: top;\n    }\n\n    .dataframe thead th {\n        text-align: right;\n    }\n</style>\n<table border=\"1\" class=\"dataframe\">\n  <thead>\n    <tr style=\"text-align: right;\">\n      <th></th>\n      <th>Age</th>\n      <th>SibSp</th>\n      <th>Parch</th>\n      <th>Fare</th>\n      <th>Pclass_1</th>\n      <th>Pclass_2</th>\n      <th>Pclass_3</th>\n      <th>Sex_female</th>\n      <th>Sex_male</th>\n      <th>Embarked_C</th>\n      <th>Embarked_Q</th>\n      <th>Embarked_S</th>\n      <th>Survived_no</th>\n      <th>Survived_yes</th>\n    </tr>\n  </thead>\n  <tbody>\n    <tr>\n      <th>1</th>\n      <td>28.0</td>\n      <td>0</td>\n      <td>0</td>\n      <td>26.55</td>\n      <td>1</td>\n      <td>0</td>\n      <td>0</td>\n      <td>0</td>\n      <td>1</td>\n      <td>0</td>\n      <td>0</td>\n      <td>1</td>\n      <td>0</td>\n      <td>1</td>\n    </tr>\n    <tr>\n      <th>2</th>\n      <td>28.0</td>\n      <td>1</td>\n      <td>1</td>\n      <td>14.40</td>\n      <td>0</td>\n      <td>0</td>\n      <td>1</td>\n      <td>1</td>\n      <td>0</td>\n      <td>0</td>\n      <td>0</td>\n      <td>1</td>\n      <td>1</td>\n      <td>0</td>\n    </tr>\n    <tr>\n      <th>3</th>\n      <td>39.0</td>\n      <td>0</td>\n      <td>0</td>\n      <td>13.00</td>\n      <td>0</td>\n      <td>1</td>\n      <td>0</td>\n      <td>0</td>\n      <td>1</td>\n      <td>0</td>\n      <td>0</td>\n      <td>1</td>\n      <td>1</td>\n      <td>0</td>\n    </tr>\n    <tr>\n      <th>4</th>\n      <td>22.0</td>\n      <td>0</td>\n      <td>0</td>\n      <td>8.05</td>\n      <td>0</td>\n      <td>0</td>\n      <td>1</td>\n      <td>0</td>\n      <td>1</td>\n      <td>0</td>\n      <td>0</td>\n      <td>1</td>\n      <td>1</td>\n      <td>0</td>\n    </tr>\n    <tr>\n      <th>5</th>\n      <td>34.0</td>\n      <td>0</td>\n      <td>0</td>\n      <td>13.00</td>\n      <td>0</td>\n      <td>1</td>\n      <td>0</td>\n      <td>0</td>\n      <td>1</td>\n      <td>0</td>\n      <td>0</td>\n      <td>1</td>\n      <td>0</td>\n      <td>1</td>\n    </tr>\n  </tbody>\n</table>\n</div>"
     },
     "execution_count": 2,
     "metadata": {},
     "output_type": "execute_result"
    }
   ],
   "execution_count": 2
  },
  {
   "cell_type": "code",
   "source": [
    "#set x (make prediction) with minimax\n",
    "x=dummied_new_df.drop(['Survived_no','Survived_yes'],axis=1).copy()\n",
    "#minimax scaling\n",
    "MMscaler=MinMaxScaler(feature_range=(0, 1))\n",
    "scaling=MMscaler.fit_transform(x)\n",
    "scaled_data=pd.DataFrame(data=scaling)\n",
    "scaled_data.columns=['Age','SibsSp','Parch','Fare','Pclass_1','Pclass_2','Pclass_3','Sex_female','Sex_male','Embarked_C','Embarked_Q','Embarked_S']\n",
    "scaled_data.head()"
   ],
   "metadata": {
    "collapsed": false,
    "ExecuteTime": {
     "end_time": "2024-12-03T11:21:09.905763Z",
     "start_time": "2024-12-03T11:21:09.892091Z"
    }
   },
   "id": "e9201ca1fe45258f",
   "outputs": [
    {
     "data": {
      "text/plain": "        Age  SibsSp     Parch      Fare  Pclass_1  Pclass_2  Pclass_3  \\\n0  0.360000     0.0  0.000000  0.051822       1.0       0.0       0.0   \n1  0.360000     0.2  0.166667  0.028107       0.0       0.0       1.0   \n2  0.506667     0.0  0.000000  0.025374       0.0       1.0       0.0   \n3  0.280000     0.0  0.000000  0.015713       0.0       0.0       1.0   \n4  0.440000     0.0  0.000000  0.025374       0.0       1.0       0.0   \n\n   Sex_female  Sex_male  Embarked_C  Embarked_Q  Embarked_S  \n0         0.0       1.0         0.0         0.0         1.0  \n1         1.0       0.0         0.0         0.0         1.0  \n2         0.0       1.0         0.0         0.0         1.0  \n3         0.0       1.0         0.0         0.0         1.0  \n4         0.0       1.0         0.0         0.0         1.0  ",
      "text/html": "<div>\n<style scoped>\n    .dataframe tbody tr th:only-of-type {\n        vertical-align: middle;\n    }\n\n    .dataframe tbody tr th {\n        vertical-align: top;\n    }\n\n    .dataframe thead th {\n        text-align: right;\n    }\n</style>\n<table border=\"1\" class=\"dataframe\">\n  <thead>\n    <tr style=\"text-align: right;\">\n      <th></th>\n      <th>Age</th>\n      <th>SibsSp</th>\n      <th>Parch</th>\n      <th>Fare</th>\n      <th>Pclass_1</th>\n      <th>Pclass_2</th>\n      <th>Pclass_3</th>\n      <th>Sex_female</th>\n      <th>Sex_male</th>\n      <th>Embarked_C</th>\n      <th>Embarked_Q</th>\n      <th>Embarked_S</th>\n    </tr>\n  </thead>\n  <tbody>\n    <tr>\n      <th>0</th>\n      <td>0.360000</td>\n      <td>0.0</td>\n      <td>0.000000</td>\n      <td>0.051822</td>\n      <td>1.0</td>\n      <td>0.0</td>\n      <td>0.0</td>\n      <td>0.0</td>\n      <td>1.0</td>\n      <td>0.0</td>\n      <td>0.0</td>\n      <td>1.0</td>\n    </tr>\n    <tr>\n      <th>1</th>\n      <td>0.360000</td>\n      <td>0.2</td>\n      <td>0.166667</td>\n      <td>0.028107</td>\n      <td>0.0</td>\n      <td>0.0</td>\n      <td>1.0</td>\n      <td>1.0</td>\n      <td>0.0</td>\n      <td>0.0</td>\n      <td>0.0</td>\n      <td>1.0</td>\n    </tr>\n    <tr>\n      <th>2</th>\n      <td>0.506667</td>\n      <td>0.0</td>\n      <td>0.000000</td>\n      <td>0.025374</td>\n      <td>0.0</td>\n      <td>1.0</td>\n      <td>0.0</td>\n      <td>0.0</td>\n      <td>1.0</td>\n      <td>0.0</td>\n      <td>0.0</td>\n      <td>1.0</td>\n    </tr>\n    <tr>\n      <th>3</th>\n      <td>0.280000</td>\n      <td>0.0</td>\n      <td>0.000000</td>\n      <td>0.015713</td>\n      <td>0.0</td>\n      <td>0.0</td>\n      <td>1.0</td>\n      <td>0.0</td>\n      <td>1.0</td>\n      <td>0.0</td>\n      <td>0.0</td>\n      <td>1.0</td>\n    </tr>\n    <tr>\n      <th>4</th>\n      <td>0.440000</td>\n      <td>0.0</td>\n      <td>0.000000</td>\n      <td>0.025374</td>\n      <td>0.0</td>\n      <td>1.0</td>\n      <td>0.0</td>\n      <td>0.0</td>\n      <td>1.0</td>\n      <td>0.0</td>\n      <td>0.0</td>\n      <td>1.0</td>\n    </tr>\n  </tbody>\n</table>\n</div>"
     },
     "execution_count": 3,
     "metadata": {},
     "output_type": "execute_result"
    }
   ],
   "execution_count": 3
  },
  {
   "cell_type": "code",
   "source": [
    "#set y (want to predict)\n",
    "y=dummied_new_df['Survived_yes'].copy()\n",
    "y.head()"
   ],
   "metadata": {
    "collapsed": false,
    "ExecuteTime": {
     "end_time": "2024-12-03T11:21:10.886562Z",
     "start_time": "2024-12-03T11:21:10.878887Z"
    }
   },
   "id": "3a96d8ef0e7c5ba",
   "outputs": [
    {
     "data": {
      "text/plain": "1    1\n2    0\n3    0\n4    0\n5    1\nName: Survived_yes, dtype: int64"
     },
     "execution_count": 4,
     "metadata": {},
     "output_type": "execute_result"
    }
   ],
   "execution_count": 4
  },
  {
   "cell_type": "code",
   "source": [
    "# 5.1 Split the data (80% training, 20% testing, lock seed)\n",
    "x_train, x_test, y_train, y_test = train_test_split(scaled_data, y, test_size=0.2, random_state=4)\n",
    "\n",
    "# 設定超參數範圍\n",
    "C_values = [2 ** i for i in range(-5, 16)]  # C 值範圍 [2^-5, ..., 2^15]\n",
    "degrees = range(1, 6)  # Degree 範圍 [1, ..., 10]\n",
    "\n",
    "# 結果儲存矩陣 (每個 random_state 都有一個矩陣)\n",
    "accuracy_matrices = {}\n",
    "\n",
    "# 5.2 Manually performing hyperparameter tuning\n",
    "for random_state in [3, 30, 300]:\n",
    "    x_train_tuning, x_valid, y_train_tuning, y_valid = train_test_split(\n",
    "        x_train, y_train, test_size=0.2, random_state=random_state)\n",
    "\n",
    "    # 建立空矩陣來儲存當前 random_state 的準確度 (len(C_values) x len(degrees))\n",
    "    acc_matrix = np.zeros((len(C_values), len(degrees)))\n",
    "\n",
    "    print(f\"\\nRandom State {random_state}:\")\n",
    "    \n",
    "    for i, c in enumerate(C_values):\n",
    "        for j, degree in enumerate(degrees):\n",
    "            # 初始化模型\n",
    "            model = SVC(C=c, kernel='poly', degree=degree)\n",
    "            model.fit(x_train_tuning, y_train_tuning)  # 訓練模型\n",
    "\n",
    "            # 驗證模型\n",
    "            prediction = model.predict(x_valid)\n",
    "            valid_acc = accuracy_score(y_valid, prediction)\n",
    "\n",
    "            # 儲存準確度至矩陣\n",
    "            acc_matrix[i, j] = valid_acc * 100  # 轉為百分比格式\n",
    "\n",
    "    # 四捨五入矩陣結果\n",
    "    acc_matrix = np.round(acc_matrix, 2)\n",
    "    accuracy_matrices[random_state] = acc_matrix\n",
    "\n",
    "    # 打印當前 random_state 的準確度矩陣\n",
    "    print(f\"Accuracy Matrix for Random State {random_state}:\")\n",
    "    print(acc_matrix)\n",
    "\n",
    "# 計算所有 random_state 準確度矩陣的平均\n",
    "average_matrix = np.mean(list(accuracy_matrices.values()), axis=0)\n",
    "average_matrix = np.round(average_matrix, 2)\n",
    "\n",
    "print(\"\\nAverage Accuracy Matrix Across All Random States:\")\n",
    "print(average_matrix)\n",
    "\n",
    "# 找出平均準確度矩陣中的最大值及其索引\n",
    "max_index = np.unravel_index(np.argmax(average_matrix, axis=None), average_matrix.shape)\n",
    "best_c_index, best_degree_index = max_index\n",
    "\n",
    "# 取得對應的最佳 C 和 degree 值\n",
    "best_c = C_values[best_c_index]\n",
    "best_degree = degrees[best_degree_index]\n",
    "\n",
    "print(f\"\\nBest Hyperparameters:\")\n",
    "print(f\"C = {best_c}\")\n",
    "print(f\"Degree = {best_degree}\")"
   ],
   "metadata": {
    "collapsed": false,
    "ExecuteTime": {
     "end_time": "2024-12-03T11:24:15.936047Z",
     "start_time": "2024-12-03T11:21:11.764104Z"
    }
   },
   "id": "c649f48fbfa27123",
   "outputs": [
    {
     "name": "stdout",
     "output_type": "stream",
     "text": [
      "\n",
      "Random State 3:\n",
      "Accuracy Matrix for Random State 3:\n",
      "[[71.09 71.09 73.44 73.44 73.44]\n",
      " [71.09 72.66 73.44 72.66 72.66]\n",
      " [71.09 73.44 73.44 72.66 72.66]\n",
      " [71.09 73.44 72.66 72.66 71.88]\n",
      " [71.09 72.66 72.66 71.88 71.88]\n",
      " [71.09 75.   72.66 71.88 71.88]\n",
      " [71.09 73.44 72.66 71.88 70.31]\n",
      " [71.09 72.66 73.44 71.88 71.09]\n",
      " [71.09 73.44 74.22 71.88 69.53]\n",
      " [71.09 75.   73.44 71.09 69.53]\n",
      " [71.09 75.78 72.66 71.09 70.31]\n",
      " [71.09 75.78 71.09 69.53 69.53]\n",
      " [71.09 74.22 68.75 69.53 68.75]\n",
      " [71.09 74.22 67.97 67.97 68.75]\n",
      " [71.09 73.44 65.62 67.97 69.53]\n",
      " [71.09 73.44 64.84 67.19 71.88]\n",
      " [71.09 72.66 66.41 68.75 69.53]\n",
      " [71.09 72.66 64.84 70.31 68.75]\n",
      " [71.09 72.66 65.62 67.97 69.53]\n",
      " [71.09 72.66 64.84 65.62 67.97]\n",
      " [71.09 72.66 66.41 67.97 66.41]]\n",
      "\n",
      "Random State 30:\n",
      "Accuracy Matrix for Random State 30:\n",
      "[[78.12 77.34 73.44 74.22 74.22]\n",
      " [78.12 73.44 73.44 74.22 74.22]\n",
      " [78.12 73.44 74.22 74.22 74.22]\n",
      " [78.12 73.44 74.22 74.22 73.44]\n",
      " [78.12 73.44 74.22 73.44 73.44]\n",
      " [78.12 73.44 74.22 72.66 72.66]\n",
      " [78.12 73.44 73.44 73.44 72.66]\n",
      " [78.12 74.22 73.44 74.22 76.56]\n",
      " [78.12 75.   75.78 76.56 75.78]\n",
      " [78.12 76.56 75.78 76.56 73.44]\n",
      " [78.12 75.78 75.78 74.22 72.66]\n",
      " [78.12 75.   75.78 73.44 75.  ]\n",
      " [78.12 75.   75.78 72.66 74.22]\n",
      " [78.12 73.44 75.   71.88 76.56]\n",
      " [78.12 74.22 74.22 72.66 75.78]\n",
      " [78.12 75.   75.   75.   74.22]\n",
      " [78.12 75.   75.78 75.   71.09]\n",
      " [78.12 75.   75.78 74.22 69.53]\n",
      " [78.12 76.56 75.   71.88 71.09]\n",
      " [78.12 76.56 72.66 72.66 69.53]\n",
      " [78.12 75.78 71.88 69.53 68.75]]\n",
      "\n",
      "Random State 300:\n",
      "Accuracy Matrix for Random State 300:\n",
      "[[76.56 76.56 77.34 77.34 77.34]\n",
      " [76.56 77.34 77.34 77.34 77.34]\n",
      " [76.56 77.34 77.34 77.34 77.34]\n",
      " [76.56 77.34 77.34 77.34 77.34]\n",
      " [76.56 77.34 77.34 77.34 77.34]\n",
      " [76.56 77.34 77.34 78.12 75.  ]\n",
      " [76.56 76.56 76.56 75.78 75.  ]\n",
      " [76.56 75.78 78.12 75.78 74.22]\n",
      " [76.56 75.78 76.56 74.22 72.66]\n",
      " [76.56 75.   75.   72.66 72.66]\n",
      " [76.56 74.22 75.   71.09 72.66]\n",
      " [76.56 75.   74.22 71.88 70.31]\n",
      " [76.56 75.78 72.66 71.88 68.75]\n",
      " [76.56 77.34 72.66 70.31 68.75]\n",
      " [76.56 77.34 71.09 67.97 67.97]\n",
      " [76.56 77.34 71.09 67.97 67.97]\n",
      " [76.56 78.12 71.88 67.97 67.97]\n",
      " [76.56 78.12 71.09 67.19 67.19]\n",
      " [76.56 78.12 71.09 67.19 67.19]\n",
      " [76.56 78.12 71.09 67.19 65.62]\n",
      " [76.56 78.12 69.53 65.62 66.41]]\n",
      "\n",
      "Average Accuracy Matrix Across All Random States:\n",
      "[[75.26 75.   74.74 75.   75.  ]\n",
      " [75.26 74.48 74.74 74.74 74.74]\n",
      " [75.26 74.74 75.   74.74 74.74]\n",
      " [75.26 74.74 74.74 74.74 74.22]\n",
      " [75.26 74.48 74.74 74.22 74.22]\n",
      " [75.26 75.26 74.74 74.22 73.18]\n",
      " [75.26 74.48 74.22 73.7  72.66]\n",
      " [75.26 74.22 75.   73.96 73.96]\n",
      " [75.26 74.74 75.52 74.22 72.66]\n",
      " [75.26 75.52 74.74 73.44 71.88]\n",
      " [75.26 75.26 74.48 72.13 71.88]\n",
      " [75.26 75.26 73.7  71.62 71.61]\n",
      " [75.26 75.   72.4  71.36 70.57]\n",
      " [75.26 75.   71.88 70.05 71.35]\n",
      " [75.26 75.   70.31 69.53 71.09]\n",
      " [75.26 75.26 70.31 70.05 71.36]\n",
      " [75.26 75.26 71.36 70.57 69.53]\n",
      " [75.26 75.26 70.57 70.57 68.49]\n",
      " [75.26 75.78 70.57 69.01 69.27]\n",
      " [75.26 75.78 69.53 68.49 67.71]\n",
      " [75.26 75.52 69.27 67.71 67.19]]\n",
      "\n",
      "Best Hyperparameters:\n",
      "C = 8192\n",
      "Degree = 2\n"
     ]
    }
   ],
   "execution_count": 5
  },
  {
   "cell_type": "code",
   "source": [
    "# 6.1 Fit the model with LinearSVC\n",
    "model=SVC(C=8192,kernel='poly',degree=2)\n",
    "#model=KNeighborsClassifier(n_neighbors=5)\n",
    "model.fit(x_train,y_train)\n",
    "# 7.3 Evaluate with testing data set\n",
    "final_model_testing_prediction=model.predict(x_test)\n",
    "final_model_testing_acc=accuracy_score(y_test,final_model_testing_prediction)\n",
    "final_model_testing_f1s=f1_score(y_test,final_model_testing_prediction,pos_label=1)\n",
    "final_model_testing_pre=precision_score(y_test,final_model_testing_prediction,pos_label=1)\n",
    "final_model_testing_sen=sensitivity_score(y_test,final_model_testing_prediction,pos_label=1)\n",
    "final_model_testing_spe=specificity_score(y_test,final_model_testing_prediction,pos_label=1)\n",
    "final_model_testing_cm=confusion_matrix(y_test,final_model_testing_prediction)\n",
    "\n",
    "\n",
    "#print result\n",
    "print('Testing ACC:',round(final_model_testing_acc*100,2))\n",
    "print('Testing f1s:',round(final_model_testing_f1s*100,2))\n",
    "print('Testing pre:',round(final_model_testing_pre*100,2))\n",
    "print('Testing sen:',round(final_model_testing_sen*100,2))\n",
    "print('Testing spe:',round(final_model_testing_spe*100,2))\n",
    "ConfusionMatrixDisplay(final_model_testing_cm,display_labels=[\"0 not survived\",\"1 survived\"]).plot()"
   ],
   "metadata": {
    "collapsed": false,
    "ExecuteTime": {
     "end_time": "2024-12-03T11:25:48.563305Z",
     "start_time": "2024-12-03T11:25:45.615569Z"
    }
   },
   "id": "343e8f9a8783d4ac",
   "outputs": [
    {
     "name": "stdout",
     "output_type": "stream",
     "text": [
      "Testing ACC: 71.07\n",
      "Testing f1s: 57.41\n",
      "Testing pre: 70.45\n",
      "Testing sen: 48.44\n",
      "Testing spe: 86.32\n"
     ]
    },
    {
     "data": {
      "text/plain": "<sklearn.metrics._plot.confusion_matrix.ConfusionMatrixDisplay at 0x119c9d490>"
     },
     "execution_count": 6,
     "metadata": {},
     "output_type": "execute_result"
    },
    {
     "data": {
      "text/plain": "<Figure size 640x480 with 2 Axes>",
      "image/png": "[encoded data removed]"
     },
     "metadata": {},
     "output_type": "display_data"
    }
   ],
   "execution_count": 6
  },
  {
   "cell_type": "code",
   "execution_count": null,
   "outputs": [],
   "source": [],
   "metadata": {
    "collapsed": false
   },
   "id": "f941efe89550ba5a"
  }
 ],
 "metadata": {
  "kernelspec": {
   "display_name": "Python 3",
   "language": "python",
   "name": "python3"
  },
  "language_info": {
   "codemirror_mode": {
    "name": "ipython",
    "version": 2
   },
   "file_extension": ".py",
   "mimetype": "text/x-python",
   "name": "python",
   "nbconvert_exporter": "python",
   "pygments_lexer": "ipython2",
   "version": "2.7.6"
  }
 },
 "nbformat": 4,
 "nbformat_minor": 5
}
